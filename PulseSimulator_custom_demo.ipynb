{
 "cells": [
  {
   "cell_type": "markdown",
   "id": "e838a527",
   "metadata": {},
   "source": [
    "# `PulseSimulator` prototype 1\n",
    "\n",
    "In the first prototype phase we want to figure out the interfaces/functionality for:\n",
    "- Building a `PulseSimulator` instance with a custom model.\n",
    "- Simulating a pulse schedule with measurement."
   ]
  },
  {
   "cell_type": "markdown",
   "id": "d7442f1c",
   "metadata": {},
   "source": [
    "## 0. Imports, and configure to use JAX"
   ]
  },
  {
   "cell_type": "code",
   "execution_count": 1,
   "id": "2a63c11e",
   "metadata": {},
   "outputs": [],
   "source": [
    "import numpy as np\n",
    "from qiskit import pulse\n",
    "from qiskit_dynamics.pulse.pulse_simulator import PulseSimulator\n",
    "from qiskit_dynamics import Solver\n",
    "\n",
    "# Configure to use JAX internally\n",
    "# Enables auto-jitting of pulse simulation, so speeds things up\n",
    "import jax\n",
    "jax.config.update(\"jax_enable_x64\", True)\n",
    "jax.config.update('jax_platform_name', 'cpu')\n",
    "from qiskit_dynamics.array import Array\n",
    "Array.set_default_backend('jax')\n",
    "\n",
    "# Solver options to pass to PulseSimulator.run\n",
    "solver_options = {'method': 'jax_odeint', 'atol': 1e-10, 'rtol': 1e-10}"
   ]
  },
  {
   "cell_type": "markdown",
   "id": "41efaa31",
   "metadata": {},
   "source": [
    "## 1. Instantiating `PulseSimulator` with a `Solver`"
   ]
  },
  {
   "cell_type": "markdown",
   "id": "a4b6568d",
   "metadata": {},
   "source": [
    "Build a `Solver` instance representing a single qubit, configured for pulse simulation."
   ]
  },
  {
   "cell_type": "code",
   "execution_count": 2,
   "id": "69eb2586",
   "metadata": {},
   "outputs": [],
   "source": [
    "Z = np.array([[-1., 0.], [0., 1.]])\n",
    "X = np.array([[0., 1.], [1., 0.]])\n",
    "\n",
    "r = 0.1\n",
    "\n",
    "static_ham = 2 * np.pi * 5 * Z / 2\n",
    "drive_op = 2 * np.pi * r * X / 2\n",
    "\n",
    "solver = Solver(\n",
    "    static_hamiltonian=static_ham,\n",
    "    hamiltonian_operators=[drive_op],\n",
    "    hamiltonian_channels=['d0'],\n",
    "    channel_carrier_freqs={'d0': 5.},\n",
    "    dt=0.1,\n",
    "    rotating_frame=static_ham\n",
    ")"
   ]
  },
  {
   "cell_type": "markdown",
   "id": "13958867",
   "metadata": {},
   "source": [
    "Instantiate the `PulseSimulator` with the solver. Specifying `subsystem_dims` allows the `PulseSimulator` to know the subsystem dimensions of a composite system."
   ]
  },
  {
   "cell_type": "code",
   "execution_count": 3,
   "id": "0d90e4c7",
   "metadata": {},
   "outputs": [],
   "source": [
    "backend = PulseSimulator(\n",
    "    solver=solver, \n",
    "    subsystem_dims=[2],\n",
    "    solver_options=solver_options\n",
    ")"
   ]
  },
  {
   "cell_type": "markdown",
   "id": "ff56c4a5",
   "metadata": {},
   "source": [
    "Simulate a schedule. \n",
    "\n",
    "Notes:\n",
    "- Defaults to initial state being the ground state.\n",
    "- Measurements are projective, occuring right as the acquire command starts."
   ]
  },
  {
   "cell_type": "code",
   "execution_count": 4,
   "id": "38ed5669",
   "metadata": {},
   "outputs": [
    {
     "name": "stdout",
     "output_type": "stream",
     "text": [
      "CPU times: user 1.29 s, sys: 63.8 ms, total: 1.36 s\n",
      "Wall time: 1.35 s\n"
     ]
    },
    {
     "data": {
      "text/plain": [
       "[Result(backend_name='PulseSimulator', backend_version='0.1', qobj_id='None', job_id='97ffbbac-7309-4631-8e1a-2024b3417544', success=True, results={'counts': {'0': 100}}, date=2022-10-31T09:16:39.491718, status=None, header=None),\n",
       " Result(backend_name='PulseSimulator', backend_version='0.1', qobj_id='None', job_id='97ffbbac-7309-4631-8e1a-2024b3417544', success=True, results={'counts': {'0': 90, '1': 10}}, date=2022-10-31T09:16:39.491736, status=None, header=None),\n",
       " Result(backend_name='PulseSimulator', backend_version='0.1', qobj_id='None', job_id='97ffbbac-7309-4631-8e1a-2024b3417544', success=True, results={'counts': {'0': 64, '1': 36}}, date=2022-10-31T09:16:39.491741, status=None, header=None),\n",
       " Result(backend_name='PulseSimulator', backend_version='0.1', qobj_id='None', job_id='97ffbbac-7309-4631-8e1a-2024b3417544', success=True, results={'counts': {'0': 53, '1': 47}}, date=2022-10-31T09:16:39.491745, status=None, header=None),\n",
       " Result(backend_name='PulseSimulator', backend_version='0.1', qobj_id='None', job_id='97ffbbac-7309-4631-8e1a-2024b3417544', success=True, results={'counts': {'0': 16, '1': 84}}, date=2022-10-31T09:16:39.491749, status=None, header=None),\n",
       " Result(backend_name='PulseSimulator', backend_version='0.1', qobj_id='None', job_id='97ffbbac-7309-4631-8e1a-2024b3417544', success=True, results={'counts': {'0': 3, '1': 97}}, date=2022-10-31T09:16:39.491752, status=None, header=None),\n",
       " Result(backend_name='PulseSimulator', backend_version='0.1', qobj_id='None', job_id='97ffbbac-7309-4631-8e1a-2024b3417544', success=True, results={'counts': {'0': 3, '1': 97}}, date=2022-10-31T09:16:39.491756, status=None, header=None),\n",
       " Result(backend_name='PulseSimulator', backend_version='0.1', qobj_id='None', job_id='97ffbbac-7309-4631-8e1a-2024b3417544', success=True, results={'counts': {'0': 13, '1': 87}}, date=2022-10-31T09:16:39.491759, status=None, header=None),\n",
       " Result(backend_name='PulseSimulator', backend_version='0.1', qobj_id='None', job_id='97ffbbac-7309-4631-8e1a-2024b3417544', success=True, results={'counts': {'0': 41, '1': 59}}, date=2022-10-31T09:16:39.491762, status=None, header=None),\n",
       " Result(backend_name='PulseSimulator', backend_version='0.1', qobj_id='None', job_id='97ffbbac-7309-4631-8e1a-2024b3417544', success=True, results={'counts': {'0': 68, '1': 32}}, date=2022-10-31T09:16:39.491766, status=None, header=None)]"
      ]
     },
     "execution_count": 4,
     "metadata": {},
     "output_type": "execute_result"
    }
   ],
   "source": [
    "%%time\n",
    "\n",
    "from qiskit.pulse import library\n",
    "\n",
    "sigma = 128\n",
    "num_samples = 256\n",
    "\n",
    "schedules = []\n",
    "\n",
    "for amp in np.linspace(0., 1., 10):\n",
    "    gauss = pulse.library.Gaussian(\n",
    "        num_samples, amp, sigma, name=\"Parametric Gauss\"\n",
    "    )\n",
    "\n",
    "    with pulse.build() as schedule:\n",
    "        with pulse.align_right():\n",
    "            # note: carrier frequency is automatically set to channel_carrier_freq if nothing\n",
    "            # specified in schedule. Is this what we want?\n",
    "            # This is baked into the InstructionToSchedule object. What does it do on the backends?\n",
    "            #pulse.set_frequency(5., pulse.DriveChannel(0))\n",
    "            pulse.play(gauss, pulse.DriveChannel(0))\n",
    "            pulse.acquire(duration=1, qubit_or_channel=0, register=pulse.RegisterSlot(0))\n",
    "    \n",
    "    schedules.append(schedule)\n",
    "\n",
    "job = backend.run(schedules, shots=100)\n",
    "\n",
    "job.result()"
   ]
  },
  {
   "cell_type": "markdown",
   "id": "95cc82c3",
   "metadata": {},
   "source": [
    "## 2. Validation of measurements\n",
    "\n",
    "If a schedule doesn't have a measurement, an error is raised. \n",
    "\n",
    "For now:\n",
    "- `PulseSimulator.run` only works for a schedule with a single measurement, and outputs counts.\n",
    "- We can add arguments to `PulseSimulator.run` to allow a user to control how the simulation is done, e.g. getting counts v.s. a state simulation v.s. a propagator simulation."
   ]
  },
  {
   "cell_type": "code",
   "execution_count": 5,
   "id": "a19e0364",
   "metadata": {
    "tags": [
     "raises-exception"
    ]
   },
   "outputs": [
    {
     "ename": "QiskitError",
     "evalue": "'At least one measurement must be present in each schedule.'",
     "output_type": "error",
     "traceback": [
      "\u001b[0;31m---------------------------------------------------------------------------\u001b[0m",
      "\u001b[0;31mQiskitError\u001b[0m                               Traceback (most recent call last)",
      "Input \u001b[0;32mIn [5]\u001b[0m, in \u001b[0;36m<module>\u001b[0;34m\u001b[0m\n\u001b[1;32m      8\u001b[0m \u001b[38;5;28;01mwith\u001b[39;00m pulse\u001b[38;5;241m.\u001b[39mbuild() \u001b[38;5;28;01mas\u001b[39;00m schedule:\n\u001b[1;32m      9\u001b[0m     pulse\u001b[38;5;241m.\u001b[39mplay(gauss, pulse\u001b[38;5;241m.\u001b[39mDriveChannel(\u001b[38;5;241m0\u001b[39m))\n\u001b[0;32m---> 11\u001b[0m job \u001b[38;5;241m=\u001b[39m \u001b[43mbackend\u001b[49m\u001b[38;5;241;43m.\u001b[39;49m\u001b[43mrun\u001b[49m\u001b[43m(\u001b[49m\n\u001b[1;32m     12\u001b[0m \u001b[43m    \u001b[49m\u001b[43mschedule\u001b[49m\u001b[43m,\u001b[49m\u001b[43m \u001b[49m\n\u001b[1;32m     13\u001b[0m \u001b[43m    \u001b[49m\u001b[43mshots\u001b[49m\u001b[38;5;241;43m=\u001b[39;49m\u001b[38;5;241;43m100\u001b[39;49m\u001b[43m,\u001b[49m\u001b[43m \u001b[49m\n\u001b[1;32m     14\u001b[0m \u001b[43m    \u001b[49m\u001b[43msolver_options\u001b[49m\u001b[38;5;241;43m=\u001b[39;49m\u001b[43msolver_options\u001b[49m\n\u001b[1;32m     15\u001b[0m \u001b[43m)\u001b[49m\n",
      "File \u001b[0;32m~/Documents/projects/qiskit-dynamics/qiskit_dynamics/pulse/pulse_simulator.py:224\u001b[0m, in \u001b[0;36mPulseSimulator.run\u001b[0;34m(self, run_input, validate, **options)\u001b[0m\n\u001b[1;32m    221\u001b[0m         schedule_acquire_times\u001b[38;5;241m.\u001b[39mappend(start_time)\n\u001b[1;32m    223\u001b[0m \u001b[38;5;66;03m# maybe need to validate more here\u001b[39;00m\n\u001b[0;32m--> 224\u001b[0m \u001b[43m_validate_acquires\u001b[49m\u001b[43m(\u001b[49m\u001b[43mschedule_acquire_times\u001b[49m\u001b[43m,\u001b[49m\u001b[43m \u001b[49m\u001b[43mschedule_acquires\u001b[49m\u001b[43m)\u001b[49m\n\u001b[1;32m    226\u001b[0m t_span\u001b[38;5;241m.\u001b[39mappend([\u001b[38;5;241m0\u001b[39m, schedule_acquire_times[\u001b[38;5;241m0\u001b[39m]])\n\u001b[1;32m    227\u001b[0m measurement_subsystems_list\u001b[38;5;241m.\u001b[39mappend([inst\u001b[38;5;241m.\u001b[39mchannel\u001b[38;5;241m.\u001b[39mindex \u001b[38;5;28;01mfor\u001b[39;00m inst \u001b[38;5;129;01min\u001b[39;00m schedule_acquires])\n",
      "File \u001b[0;32m~/Documents/projects/qiskit-dynamics/qiskit_dynamics/pulse/pulse_simulator.py:365\u001b[0m, in \u001b[0;36m_validate_acquires\u001b[0;34m(schedule_acquire_times, schedule_acquires)\u001b[0m\n\u001b[1;32m    360\u001b[0m \u001b[38;5;124;03m\"\"\"Validate the acquire instructions.\u001b[39;00m\n\u001b[1;32m    361\u001b[0m \u001b[38;5;124;03mFor now, make sure all acquires happen at one time.\u001b[39;00m\n\u001b[1;32m    362\u001b[0m \u001b[38;5;124;03m\"\"\"\u001b[39;00m\n\u001b[1;32m    364\u001b[0m \u001b[38;5;28;01mif\u001b[39;00m \u001b[38;5;28mlen\u001b[39m(schedule_acquire_times) \u001b[38;5;241m==\u001b[39m \u001b[38;5;241m0\u001b[39m:\n\u001b[0;32m--> 365\u001b[0m     \u001b[38;5;28;01mraise\u001b[39;00m QiskitError(\u001b[38;5;124m\"\u001b[39m\u001b[38;5;124mAt least one measurement must be present in each schedule.\u001b[39m\u001b[38;5;124m\"\u001b[39m)\n\u001b[1;32m    367\u001b[0m start_time \u001b[38;5;241m=\u001b[39m schedule_acquire_times[\u001b[38;5;241m0\u001b[39m]\n\u001b[1;32m    368\u001b[0m \u001b[38;5;28;01mfor\u001b[39;00m time \u001b[38;5;129;01min\u001b[39;00m schedule_acquire_times[\u001b[38;5;241m1\u001b[39m:]:\n",
      "\u001b[0;31mQiskitError\u001b[0m: 'At least one measurement must be present in each schedule.'"
     ]
    }
   ],
   "source": [
    "from qiskit.pulse import library\n",
    "\n",
    "amp = 1\n",
    "sigma = 10\n",
    "num_samples = 64\n",
    "gauss = pulse.library.Gaussian(num_samples, amp, sigma, name=\"Parametric Gauss\")\n",
    "\n",
    "with pulse.build() as schedule:\n",
    "    pulse.play(gauss, pulse.DriveChannel(0))\n",
    "\n",
    "job = backend.run(\n",
    "    schedule, \n",
    "    shots=100, \n",
    "    solver_options=solver_options\n",
    ")"
   ]
  },
  {
   "cell_type": "markdown",
   "id": "ed0472d8",
   "metadata": {},
   "source": [
    "## 3. Relabeling subsystems\n",
    "\n",
    "When building `PulseSimulator` instances from real backends, we will select a subset of qubits. A user should be able to interact with the instance by using the original qubit labels."
   ]
  },
  {
   "cell_type": "code",
   "execution_count": 6,
   "id": "329e2a2b",
   "metadata": {},
   "outputs": [],
   "source": [
    "solver = Solver(\n",
    "    static_hamiltonian=static_ham,\n",
    "    hamiltonian_operators=[drive_op],\n",
    "    hamiltonian_channels=['d1'],\n",
    "    channel_carrier_freqs={'d1': 5.},\n",
    "    dt=0.1,\n",
    "    rotating_frame=static_ham\n",
    ")\n",
    "\n",
    "backend_relabeled = PulseSimulator(solver=solver, subsystem_dims=[2], subsystem_labels=[1])"
   ]
  },
  {
   "cell_type": "code",
   "execution_count": 7,
   "id": "e9db209b",
   "metadata": {},
   "outputs": [
    {
     "data": {
      "text/plain": [
       "[Result(backend_name='PulseSimulator', backend_version='0.1', qobj_id='None', job_id='888b51ed-8119-4357-97d0-a00c04138a64', success=True, results={'counts': {'0': 88, '1': 12}}, date=2022-10-31T09:16:40.976297, status=None, header=None)]"
      ]
     },
     "execution_count": 7,
     "metadata": {},
     "output_type": "execute_result"
    }
   ],
   "source": [
    "with pulse.build() as schedule:\n",
    "    with pulse.align_right():\n",
    "        pulse.play(gauss, pulse.DriveChannel(1))\n",
    "        pulse.acquire(duration=1, qubit_or_channel=1, register=pulse.RegisterSlot(1))\n",
    "\n",
    "job = backend_relabeled.run(\n",
    "    schedule, \n",
    "    shots=100, \n",
    "    solver_options=solver_options\n",
    ")\n",
    "\n",
    "job.result()"
   ]
  },
  {
   "cell_type": "markdown",
   "id": "353b2d5a",
   "metadata": {},
   "source": [
    "Rerun the schedule attempting to measure qubit `0`, which doesn't exist."
   ]
  },
  {
   "cell_type": "code",
   "execution_count": 8,
   "id": "3da77e9d",
   "metadata": {
    "tags": [
     "raises-exception"
    ]
   },
   "outputs": [
    {
     "ename": "QiskitError",
     "evalue": "'Attempted to measure subsystem 0, but it is not in subsystem_list.'",
     "output_type": "error",
     "traceback": [
      "\u001b[0;31m---------------------------------------------------------------------------\u001b[0m",
      "\u001b[0;31mQiskitError\u001b[0m                               Traceback (most recent call last)",
      "Input \u001b[0;32mIn [8]\u001b[0m, in \u001b[0;36m<module>\u001b[0;34m\u001b[0m\n\u001b[1;32m      3\u001b[0m         pulse\u001b[38;5;241m.\u001b[39mplay(gauss, pulse\u001b[38;5;241m.\u001b[39mDriveChannel(\u001b[38;5;241m1\u001b[39m))\n\u001b[1;32m      4\u001b[0m         pulse\u001b[38;5;241m.\u001b[39macquire(duration\u001b[38;5;241m=\u001b[39m\u001b[38;5;241m1\u001b[39m, qubit_or_channel\u001b[38;5;241m=\u001b[39m\u001b[38;5;241m0\u001b[39m, register\u001b[38;5;241m=\u001b[39mpulse\u001b[38;5;241m.\u001b[39mRegisterSlot(\u001b[38;5;241m1\u001b[39m))\n\u001b[0;32m----> 6\u001b[0m job \u001b[38;5;241m=\u001b[39m \u001b[43mbackend_relabeled\u001b[49m\u001b[38;5;241;43m.\u001b[39;49m\u001b[43mrun\u001b[49m\u001b[43m(\u001b[49m\n\u001b[1;32m      7\u001b[0m \u001b[43m    \u001b[49m\u001b[43mschedule\u001b[49m\u001b[43m,\u001b[49m\u001b[43m \u001b[49m\n\u001b[1;32m      8\u001b[0m \u001b[43m    \u001b[49m\u001b[43mshots\u001b[49m\u001b[38;5;241;43m=\u001b[39;49m\u001b[38;5;241;43m100\u001b[39;49m\u001b[43m,\u001b[49m\u001b[43m \u001b[49m\n\u001b[1;32m      9\u001b[0m \u001b[43m    \u001b[49m\u001b[43msolver_options\u001b[49m\u001b[38;5;241;43m=\u001b[39;49m\u001b[43msolver_options\u001b[49m\n\u001b[1;32m     10\u001b[0m \u001b[43m)\u001b[49m\n\u001b[1;32m     12\u001b[0m job\u001b[38;5;241m.\u001b[39mresult()\n",
      "File \u001b[0;32m~/Documents/projects/qiskit-dynamics/qiskit_dynamics/pulse/pulse_simulator.py:246\u001b[0m, in \u001b[0;36mPulseSimulator.run\u001b[0;34m(self, run_input, validate, **options)\u001b[0m\n\u001b[1;32m    231\u001b[0m job_id \u001b[38;5;241m=\u001b[39m \u001b[38;5;28mstr\u001b[39m(uuid\u001b[38;5;241m.\u001b[39muuid4())\n\u001b[1;32m    232\u001b[0m dynamics_job \u001b[38;5;241m=\u001b[39m DynamicsJob(\n\u001b[1;32m    233\u001b[0m     backend\u001b[38;5;241m=\u001b[39mbackend,\n\u001b[1;32m    234\u001b[0m     job_id\u001b[38;5;241m=\u001b[39mjob_id,\n\u001b[0;32m   (...)\u001b[0m\n\u001b[1;32m    244\u001b[0m     },\n\u001b[1;32m    245\u001b[0m )\n\u001b[0;32m--> 246\u001b[0m \u001b[43mdynamics_job\u001b[49m\u001b[38;5;241;43m.\u001b[39;49m\u001b[43msubmit\u001b[49m\u001b[43m(\u001b[49m\u001b[43m)\u001b[49m\n\u001b[1;32m    248\u001b[0m \u001b[38;5;28;01mreturn\u001b[39;00m dynamics_job\n",
      "File \u001b[0;32m~/Documents/projects/qiskit-dynamics/qiskit_dynamics/pulse/dynamics_job.py:57\u001b[0m, in \u001b[0;36mDynamicsJob.submit\u001b[0;34m(self)\u001b[0m\n\u001b[1;32m     55\u001b[0m \u001b[38;5;28;01mif\u001b[39;00m \u001b[38;5;28mself\u001b[39m\u001b[38;5;241m.\u001b[39m_result \u001b[38;5;129;01mis\u001b[39;00m \u001b[38;5;129;01mnot\u001b[39;00m \u001b[38;5;28;01mNone\u001b[39;00m:\n\u001b[1;32m     56\u001b[0m     \u001b[38;5;28;01mraise\u001b[39;00m JobError(\u001b[38;5;124m\"\u001b[39m\u001b[38;5;124mDynamics job has already been submitted.\u001b[39m\u001b[38;5;124m\"\u001b[39m)\n\u001b[0;32m---> 57\u001b[0m \u001b[38;5;28mself\u001b[39m\u001b[38;5;241m.\u001b[39m_result \u001b[38;5;241m=\u001b[39m \u001b[38;5;28;43mself\u001b[39;49m\u001b[38;5;241;43m.\u001b[39;49m\u001b[43m_fn\u001b[49m\u001b[43m(\u001b[49m\u001b[43mjob_id\u001b[49m\u001b[38;5;241;43m=\u001b[39;49m\u001b[38;5;28;43mself\u001b[39;49m\u001b[38;5;241;43m.\u001b[39;49m\u001b[43mjob_id\u001b[49m\u001b[43m(\u001b[49m\u001b[43m)\u001b[49m\u001b[43m,\u001b[49m\u001b[43m \u001b[49m\u001b[38;5;241;43m*\u001b[39;49m\u001b[38;5;241;43m*\u001b[39;49m\u001b[38;5;28;43mself\u001b[39;49m\u001b[38;5;241;43m.\u001b[39;49m\u001b[43m_fn_kwargs\u001b[49m\u001b[43m)\u001b[49m\n",
      "File \u001b[0;32m~/Documents/projects/qiskit-dynamics/qiskit_dynamics/pulse/pulse_simulator.py:277\u001b[0m, in \u001b[0;36mPulseSimulator._run\u001b[0;34m(self, job_id, t_span, y0, schedules, solver_options, normalize_states, measurement_subsystems_list, shots)\u001b[0m\n\u001b[1;32m    275\u001b[0m             new_measurement_subsystems\u001b[38;5;241m.\u001b[39mappend(subsystem_labels\u001b[38;5;241m.\u001b[39mindex(subsystem))\n\u001b[1;32m    276\u001b[0m         \u001b[38;5;28;01melse\u001b[39;00m:\n\u001b[0;32m--> 277\u001b[0m             \u001b[38;5;28;01mraise\u001b[39;00m QiskitError(\n\u001b[1;32m    278\u001b[0m                 \u001b[38;5;124mf\u001b[39m\u001b[38;5;124m\"\u001b[39m\u001b[38;5;124mAttempted to measure subsystem \u001b[39m\u001b[38;5;132;01m{\u001b[39;00msubsystem\u001b[38;5;132;01m}\u001b[39;00m\u001b[38;5;124m, but it is not in subsystem_list.\u001b[39m\u001b[38;5;124m\"\u001b[39m\n\u001b[1;32m    279\u001b[0m             )\n\u001b[1;32m    280\u001b[0m     new_measurement_subsystems_list\u001b[38;5;241m.\u001b[39mappend(new_measurement_subsystems)\n\u001b[1;32m    282\u001b[0m measurement_subsystems_list \u001b[38;5;241m=\u001b[39m new_measurement_subsystems_list\n",
      "\u001b[0;31mQiskitError\u001b[0m: 'Attempted to measure subsystem 0, but it is not in subsystem_list.'"
     ]
    }
   ],
   "source": [
    "with pulse.build() as schedule:\n",
    "    with pulse.align_right():\n",
    "        pulse.play(gauss, pulse.DriveChannel(1))\n",
    "        pulse.acquire(duration=1, qubit_or_channel=0, register=pulse.RegisterSlot(1))\n",
    "\n",
    "job = backend_relabeled.run(\n",
    "    schedule, \n",
    "    shots=100, \n",
    "    solver_options=solver_options\n",
    ")\n",
    "\n",
    "job.result()"
   ]
  },
  {
   "cell_type": "markdown",
   "id": "27b8e447",
   "metadata": {},
   "source": [
    "## 4. Running a circuit with pulse definitions\n",
    "\n",
    "Running a circuit requires having a `meas_map`, and a measurement instructions defined in the `InstructionScheduleMap` in `backend.target`. The use can build their own target, and set `meas_map` as an option, but we've set the defaults as:\n",
    "- `meas_map` defaults to `[[x] for x in subsystem_labels]`\n",
    "- the `'measure'` instructions in the `InstructionScheduleMap` default to just an acquire instruction of duration `1` for the given qubit. "
   ]
  },
  {
   "cell_type": "code",
   "execution_count": 9,
   "id": "0f0eb50a",
   "metadata": {},
   "outputs": [],
   "source": [
    "solver = Solver(\n",
    "    static_hamiltonian=static_ham,\n",
    "    hamiltonian_operators=[drive_op],\n",
    "    hamiltonian_channels=['d0'],\n",
    "    channel_carrier_freqs={'d0': 5.},\n",
    "    dt=0.1,\n",
    "    rotating_frame=static_ham\n",
    ")\n",
    "backend = PulseSimulator(\n",
    "    solver=solver, \n",
    "    solver_options=solver_options\n",
    ")"
   ]
  },
  {
   "cell_type": "markdown",
   "id": "c523d275",
   "metadata": {},
   "source": [
    "Make a circuit."
   ]
  },
  {
   "cell_type": "code",
   "execution_count": 10,
   "id": "75e32169",
   "metadata": {},
   "outputs": [
    {
     "data": {
      "image/png": "[encoded data removed]",
      "text/plain": [
       "<Figure size 193.726x144.48 with 1 Axes>"
      ]
     },
     "execution_count": 10,
     "metadata": {},
     "output_type": "execute_result"
    }
   ],
   "source": [
    "from qiskit import QuantumCircuit\n",
    "\n",
    "circ = QuantumCircuit(1, 1)\n",
    "circ.h(0)\n",
    "circ.measure([0], [0])\n",
    "\n",
    "circ.draw(\"mpl\")"
   ]
  },
  {
   "cell_type": "markdown",
   "id": "df614f33",
   "metadata": {},
   "source": [
    "Add calibration."
   ]
  },
  {
   "cell_type": "code",
   "execution_count": 11,
   "id": "9402a794",
   "metadata": {},
   "outputs": [],
   "source": [
    "with pulse.build() as h_q0:\n",
    "    pulse.play(pulse.library.Gaussian(duration=256, amp=0.2, sigma=50, name='custom'),\n",
    "               pulse.DriveChannel(0))\n",
    "\n",
    "circ.add_calibration('h', [0], h_q0)"
   ]
  },
  {
   "cell_type": "markdown",
   "id": "5d41b1e3",
   "metadata": {},
   "source": [
    "Run it."
   ]
  },
  {
   "cell_type": "code",
   "execution_count": 12,
   "id": "9a0490c2",
   "metadata": {},
   "outputs": [
    {
     "name": "stdout",
     "output_type": "stream",
     "text": [
      "CPU times: user 651 ms, sys: 15.5 ms, total: 667 ms\n",
      "Wall time: 653 ms\n"
     ]
    }
   ],
   "source": [
    "%time res = backend.run(circ).result()"
   ]
  },
  {
   "cell_type": "code",
   "execution_count": 13,
   "id": "1c811541",
   "metadata": {},
   "outputs": [
    {
     "data": {
      "text/plain": [
       "[Result(backend_name='PulseSimulator', backend_version='0.1', qobj_id='None', job_id='ca5dba63-e332-4758-a3b5-e18c8a3edda9', success=True, results={'counts': {'0': 882, '1': 142}}, date=2022-10-31T09:16:42.239993, status=None, header=None)]"
      ]
     },
     "execution_count": 13,
     "metadata": {},
     "output_type": "execute_result"
    }
   ],
   "source": [
    "res"
   ]
  },
  {
   "cell_type": "markdown",
   "id": "fe7bc7c6",
   "metadata": {},
   "source": [
    "## 5. Running a circuit with pre-defined `InstructionScheduleMap`\n",
    "\n",
    "Configure a target to instantiate the simulator with."
   ]
  },
  {
   "cell_type": "code",
   "execution_count": 14,
   "id": "9a4d9e73",
   "metadata": {},
   "outputs": [],
   "source": [
    "from qiskit.transpiler import Target\n",
    "\n",
    "# create target and add gate\n",
    "target = Target()\n",
    "inst_sched_map = target.instruction_schedule_map()\n",
    "inst_sched_map.add('h', qubits=0, schedule=h_q0)\n",
    "\n",
    "# rebuild same circuit\n",
    "circ = QuantumCircuit(1, 1)\n",
    "circ.h(0)\n",
    "circ.measure([0], [0])\n",
    "\n",
    "# build pulse simulator\n",
    "backend = PulseSimulator(\n",
    "    solver=solver, \n",
    "    target=target,\n",
    "    solver_options=solver_options\n",
    ")"
   ]
  },
  {
   "cell_type": "markdown",
   "id": "31223896",
   "metadata": {},
   "source": [
    "Note that in the above the default measurement schedule is still being created."
   ]
  },
  {
   "cell_type": "code",
   "execution_count": 22,
   "id": "16dfe453",
   "metadata": {},
   "outputs": [
    {
     "name": "stdout",
     "output_type": "stream",
     "text": [
      "CPU times: user 688 ms, sys: 11.9 ms, total: 700 ms\n",
      "Wall time: 688 ms\n"
     ]
    }
   ],
   "source": [
    "%time res = backend.run(circ).result()"
   ]
  },
  {
   "cell_type": "code",
   "execution_count": 21,
   "id": "ba65e4bb",
   "metadata": {},
   "outputs": [
    {
     "data": {
      "text/plain": [
       "[Result(backend_name='PulseSimulator', backend_version='0.1', qobj_id='None', job_id='c5678ee0-0255-4bd2-aa12-1d037e6a4aef', success=True, results={'counts': {'0': 89, '1': 11}}, date=2022-10-31T09:16:42.984294, status=None, header=None)]"
      ]
     },
     "execution_count": 21,
     "metadata": {},
     "output_type": "execute_result"
    }
   ],
   "source": [
    "res"
   ]
  },
  {
   "cell_type": "code",
   "execution_count": 23,
   "id": "2baf4cdb",
   "metadata": {},
   "outputs": [
    {
     "data": {
      "text/plain": [
       "False"
      ]
     },
     "execution_count": 23,
     "metadata": {},
     "output_type": "execute_result"
    }
   ],
   "source": [
    "bool(target)"
   ]
  },
  {
   "cell_type": "code",
   "execution_count": 24,
   "id": "372d6de7",
   "metadata": {},
   "outputs": [
    {
     "data": {
      "text/plain": [
       "True"
      ]
     },
     "execution_count": 24,
     "metadata": {},
     "output_type": "execute_result"
    }
   ],
   "source": [
    "bool('1')"
   ]
  },
  {
   "cell_type": "code",
   "execution_count": 26,
   "id": "24a4a456",
   "metadata": {},
   "outputs": [
    {
     "data": {
      "text/plain": [
       "True"
      ]
     },
     "execution_count": 26,
     "metadata": {},
     "output_type": "execute_result"
    }
   ],
   "source": [
    "from qiskit_dynamics import Signal\n",
    "\n",
    "bool(Signal(1.))"
   ]
  },
  {
   "cell_type": "code",
   "execution_count": 28,
   "id": "3aa6e7d3",
   "metadata": {},
   "outputs": [
    {
     "data": {
      "text/plain": [
       "True"
      ]
     },
     "execution_count": 28,
     "metadata": {},
     "output_type": "execute_result"
    }
   ],
   "source": [
    "bool(object())"
   ]
  },
  {
   "cell_type": "code",
   "execution_count": 29,
   "id": "4f2a316b",
   "metadata": {},
   "outputs": [
    {
     "data": {
      "text/plain": [
       "False"
      ]
     },
     "execution_count": 29,
     "metadata": {},
     "output_type": "execute_result"
    }
   ],
   "source": [
    "bool(Target())"
   ]
  },
  {
   "cell_type": "code",
   "execution_count": 31,
   "id": "9a71422c",
   "metadata": {},
   "outputs": [
    {
     "ename": "AttributeError",
     "evalue": "type object 'Target' has no attribute '__bool__'",
     "output_type": "error",
     "traceback": [
      "\u001b[0;31m---------------------------------------------------------------------------\u001b[0m",
      "\u001b[0;31mAttributeError\u001b[0m                            Traceback (most recent call last)",
      "Input \u001b[0;32mIn [31]\u001b[0m, in \u001b[0;36m<module>\u001b[0;34m\u001b[0m\n\u001b[0;32m----> 1\u001b[0m help(\u001b[43mTarget\u001b[49m\u001b[38;5;241;43m.\u001b[39;49m\u001b[38;5;21;43m__bool__\u001b[39;49m)\n",
      "\u001b[0;31mAttributeError\u001b[0m: type object 'Target' has no attribute '__bool__'"
     ]
    }
   ],
   "source": []
  },
  {
   "cell_type": "code",
   "execution_count": null,
   "id": "aa5f2a7d",
   "metadata": {},
   "outputs": [],
   "source": []
  }
 ],
 "metadata": {
  "kernelspec": {
   "display_name": "Python 3 (ipykernel)",
   "language": "python",
   "name": "python3"
  },
  "language_info": {
   "codemirror_mode": {
    "name": "ipython",
    "version": 3
   },
   "file_extension": ".py",
   "mimetype": "text/x-python",
   "name": "python",
   "nbconvert_exporter": "python",
   "pygments_lexer": "ipython3",
   "version": "3.10.2"
  }
 },
 "nbformat": 4,
 "nbformat_minor": 5
}
