{
 "cells": [
  {
   "cell_type": "markdown",
   "id": "e838a527",
   "metadata": {},
   "source": [
    "# `PulseSimulator` prototype 1\n",
    "\n",
    "In the first prototype phase we want to figure out the interfaces/functionality for:\n",
    "- Building a `PulseSimulator` instance with a custom model.\n",
    "- Simulating a pulse schedule with measurement."
   ]
  },
  {
   "cell_type": "markdown",
   "id": "d7442f1c",
   "metadata": {},
   "source": [
    "## 0. Imports, and configure to use JAX"
   ]
  },
  {
   "cell_type": "code",
   "execution_count": 1,
   "id": "2a63c11e",
   "metadata": {},
   "outputs": [],
   "source": [
    "import numpy as np\n",
    "from qiskit import pulse\n",
    "from qiskit_dynamics.pulse.pulse_simulator import PulseSimulator\n",
    "from qiskit_dynamics import Solver\n",
    "\n",
    "# Configure to use JAX internally\n",
    "# Enables auto-jitting of pulse simulation, so speeds things up\n",
    "import jax\n",
    "jax.config.update(\"jax_enable_x64\", True)\n",
    "jax.config.update('jax_platform_name', 'cpu')\n",
    "from qiskit_dynamics.array import Array\n",
    "Array.set_default_backend('jax')\n",
    "\n",
    "# Solver options to pass to PulseSimulator.run\n",
    "solver_options = {'method': 'jax_odeint', 'atol': 1e-10, 'rtol': 1e-10}"
   ]
  },
  {
   "cell_type": "markdown",
   "id": "41efaa31",
   "metadata": {},
   "source": [
    "## 1. Instantiating `PulseSimulator` with a `Solver`"
   ]
  },
  {
   "cell_type": "markdown",
   "id": "a4b6568d",
   "metadata": {},
   "source": [
    "Build a `Solver` instance representing a single qubit, configured for pulse simulation."
   ]
  },
  {
   "cell_type": "code",
   "execution_count": 2,
   "id": "69eb2586",
   "metadata": {},
   "outputs": [],
   "source": [
    "Z = np.array([[-1., 0.], [0., 1.]])\n",
    "X = np.array([[0., 1.], [1., 0.]])\n",
    "\n",
    "r = 0.1\n",
    "\n",
    "static_ham = 2 * np.pi * 5 * Z / 2\n",
    "drive_op = 2 * np.pi * r * X / 2\n",
    "\n",
    "solver = Solver(\n",
    "    static_hamiltonian=static_ham,\n",
    "    hamiltonian_operators=[drive_op],\n",
    "    hamiltonian_channels=['d0'],\n",
    "    channel_carrier_freqs={'d0': 5.},\n",
    "    dt=0.1,\n",
    "    rotating_frame=static_ham\n",
    ")"
   ]
  },
  {
   "cell_type": "markdown",
   "id": "13958867",
   "metadata": {},
   "source": [
    "Instantiate the `PulseSimulator` with the solver. Specifying `subsystem_dims` allows the `PulseSimulator` to know the subsystem dimensions of a composite system."
   ]
  },
  {
   "cell_type": "code",
   "execution_count": 3,
   "id": "0d90e4c7",
   "metadata": {},
   "outputs": [],
   "source": [
    "backend = PulseSimulator(\n",
    "    solver=solver, \n",
    "    subsystem_dims=[2],\n",
    "    solver_options=solver_options\n",
    ")"
   ]
  },
  {
   "cell_type": "markdown",
   "id": "ff56c4a5",
   "metadata": {},
   "source": [
    "Simulate a schedule. \n",
    "\n",
    "Notes:\n",
    "- Defaults to initial state being the ground state.\n",
    "- Measurements are projective, occuring right as the acquire command starts."
   ]
  },
  {
   "cell_type": "code",
   "execution_count": 4,
   "id": "38ed5669",
   "metadata": {},
   "outputs": [
    {
     "name": "stdout",
     "output_type": "stream",
     "text": [
      "CPU times: user 1.46 s, sys: 75.7 ms, total: 1.53 s\n",
      "Wall time: 1.52 s\n"
     ]
    },
    {
     "data": {
      "text/plain": [
       "[Result(backend_name='PulseSimulator', backend_version='0.1', qobj_id='None', job_id='96b06c25-5bfa-47a8-9502-e964d6bf254e', success=True, results={'counts': {'0': 100}}, date=2022-11-02T10:37:48.661011, status=None, header=None),\n",
       " Result(backend_name='PulseSimulator', backend_version='0.1', qobj_id='None', job_id='96b06c25-5bfa-47a8-9502-e964d6bf254e', success=True, results={'counts': {'0': 94, '1': 6}}, date=2022-11-02T10:37:48.661026, status=None, header=None),\n",
       " Result(backend_name='PulseSimulator', backend_version='0.1', qobj_id='None', job_id='96b06c25-5bfa-47a8-9502-e964d6bf254e', success=True, results={'counts': {'0': 67, '1': 33}}, date=2022-11-02T10:37:48.661030, status=None, header=None),\n",
       " Result(backend_name='PulseSimulator', backend_version='0.1', qobj_id='None', job_id='96b06c25-5bfa-47a8-9502-e964d6bf254e', success=True, results={'counts': {'0': 38, '1': 62}}, date=2022-11-02T10:37:48.661033, status=None, header=None),\n",
       " Result(backend_name='PulseSimulator', backend_version='0.1', qobj_id='None', job_id='96b06c25-5bfa-47a8-9502-e964d6bf254e', success=True, results={'counts': {'0': 19, '1': 81}}, date=2022-11-02T10:37:48.661036, status=None, header=None),\n",
       " Result(backend_name='PulseSimulator', backend_version='0.1', qobj_id='None', job_id='96b06c25-5bfa-47a8-9502-e964d6bf254e', success=True, results={'counts': {'0': 1, '1': 99}}, date=2022-11-02T10:37:48.661039, status=None, header=None),\n",
       " Result(backend_name='PulseSimulator', backend_version='0.1', qobj_id='None', job_id='96b06c25-5bfa-47a8-9502-e964d6bf254e', success=True, results={'counts': {'0': 6, '1': 94}}, date=2022-11-02T10:37:48.661042, status=None, header=None),\n",
       " Result(backend_name='PulseSimulator', backend_version='0.1', qobj_id='None', job_id='96b06c25-5bfa-47a8-9502-e964d6bf254e', success=True, results={'counts': {'0': 23, '1': 77}}, date=2022-11-02T10:37:48.661045, status=None, header=None),\n",
       " Result(backend_name='PulseSimulator', backend_version='0.1', qobj_id='None', job_id='96b06c25-5bfa-47a8-9502-e964d6bf254e', success=True, results={'counts': {'0': 47, '1': 53}}, date=2022-11-02T10:37:48.661048, status=None, header=None),\n",
       " Result(backend_name='PulseSimulator', backend_version='0.1', qobj_id='None', job_id='96b06c25-5bfa-47a8-9502-e964d6bf254e', success=True, results={'counts': {'0': 82, '1': 18}}, date=2022-11-02T10:37:48.661051, status=None, header=None)]"
      ]
     },
     "execution_count": 4,
     "metadata": {},
     "output_type": "execute_result"
    }
   ],
   "source": [
    "%%time\n",
    "\n",
    "from qiskit.pulse import library\n",
    "\n",
    "sigma = 128\n",
    "num_samples = 256\n",
    "\n",
    "schedules = []\n",
    "\n",
    "for amp in np.linspace(0., 1., 10):\n",
    "    gauss = pulse.library.Gaussian(\n",
    "        num_samples, amp, sigma, name=\"Parametric Gauss\"\n",
    "    )\n",
    "\n",
    "    with pulse.build() as schedule:\n",
    "        with pulse.align_right():\n",
    "            pulse.play(gauss, pulse.DriveChannel(0))\n",
    "            pulse.shift_phase(0.5, pulse.DriveChannel(0))\n",
    "            pulse.shift_frequency(0.1, pulse.DriveChannel(0))\n",
    "            pulse.play(gauss, pulse.DriveChannel(0))\n",
    "            pulse.acquire(duration=1, qubit_or_channel=0, register=pulse.MemorySlot(0))\n",
    "    \n",
    "    schedules.append(schedule)\n",
    "\n",
    "job = backend.run(schedules, shots=100)\n",
    "\n",
    "job.result()"
   ]
  },
  {
   "cell_type": "markdown",
   "id": "95cc82c3",
   "metadata": {},
   "source": [
    "## 2. Validation of measurements\n",
    "\n",
    "If a schedule doesn't have a measurement, an error is raised. \n",
    "\n",
    "For now:\n",
    "- `PulseSimulator.run` only works for a schedule with a single measurement, and outputs counts.\n",
    "- We can add arguments to `PulseSimulator.run` to allow a user to control how the simulation is done, e.g. getting counts v.s. a state simulation v.s. a propagator simulation."
   ]
  },
  {
   "cell_type": "code",
   "execution_count": 5,
   "id": "a19e0364",
   "metadata": {
    "tags": [
     "raises-exception"
    ]
   },
   "outputs": [
    {
     "ename": "QiskitError",
     "evalue": "'At least one measurement must be present in each schedule.'",
     "output_type": "error",
     "traceback": [
      "\u001b[0;31m---------------------------------------------------------------------------\u001b[0m",
      "\u001b[0;31mQiskitError\u001b[0m                               Traceback (most recent call last)",
      "Input \u001b[0;32mIn [5]\u001b[0m, in \u001b[0;36m<module>\u001b[0;34m\u001b[0m\n\u001b[1;32m      8\u001b[0m \u001b[38;5;28;01mwith\u001b[39;00m pulse\u001b[38;5;241m.\u001b[39mbuild() \u001b[38;5;28;01mas\u001b[39;00m schedule:\n\u001b[1;32m      9\u001b[0m     pulse\u001b[38;5;241m.\u001b[39mplay(gauss, pulse\u001b[38;5;241m.\u001b[39mDriveChannel(\u001b[38;5;241m0\u001b[39m))\n\u001b[0;32m---> 11\u001b[0m job \u001b[38;5;241m=\u001b[39m \u001b[43mbackend\u001b[49m\u001b[38;5;241;43m.\u001b[39;49m\u001b[43mrun\u001b[49m\u001b[43m(\u001b[49m\n\u001b[1;32m     12\u001b[0m \u001b[43m    \u001b[49m\u001b[43mschedule\u001b[49m\u001b[43m,\u001b[49m\u001b[43m \u001b[49m\n\u001b[1;32m     13\u001b[0m \u001b[43m    \u001b[49m\u001b[43mshots\u001b[49m\u001b[38;5;241;43m=\u001b[39;49m\u001b[38;5;241;43m100\u001b[39;49m\u001b[43m,\u001b[49m\u001b[43m \u001b[49m\n\u001b[1;32m     14\u001b[0m \u001b[43m    \u001b[49m\u001b[43msolver_options\u001b[49m\u001b[38;5;241;43m=\u001b[39;49m\u001b[43msolver_options\u001b[49m\n\u001b[1;32m     15\u001b[0m \u001b[43m)\u001b[49m\n",
      "File \u001b[0;32m~/Documents/projects/qiskit-dynamics/qiskit_dynamics/pulse/pulse_simulator.py:213\u001b[0m, in \u001b[0;36mPulseSimulator.run\u001b[0;34m(self, run_input, validate, **options)\u001b[0m\n\u001b[1;32m    210\u001b[0m schedules, schedules_memslot_nums \u001b[38;5;241m=\u001b[39m _to_schedule_list(run_input, backend\u001b[38;5;241m=\u001b[39m\u001b[38;5;28mself\u001b[39m)\n\u001b[1;32m    212\u001b[0m \u001b[38;5;66;03m# get the acquires instructions and simulation times\u001b[39;00m\n\u001b[0;32m--> 213\u001b[0m t_span, measurement_subsystems_list, memory_slot_indices_list \u001b[38;5;241m=\u001b[39m \u001b[43m_get_acquire_data\u001b[49m\u001b[43m(\u001b[49m\u001b[43mschedules\u001b[49m\u001b[43m,\u001b[49m\u001b[43m \u001b[49m\u001b[38;5;28;43mself\u001b[39;49m\u001b[38;5;241;43m.\u001b[39;49m\u001b[43moptions\u001b[49m\u001b[38;5;241;43m.\u001b[39;49m\u001b[43msubsystem_labels\u001b[49m\u001b[43m)\u001b[49m\n\u001b[1;32m    215\u001b[0m \u001b[38;5;66;03m# Build and submit job\u001b[39;00m\n\u001b[1;32m    216\u001b[0m job_id \u001b[38;5;241m=\u001b[39m \u001b[38;5;28mstr\u001b[39m(uuid\u001b[38;5;241m.\u001b[39muuid4())\n",
      "File \u001b[0;32m~/Documents/projects/qiskit-dynamics/qiskit_dynamics/pulse/pulse_simulator.py:364\u001b[0m, in \u001b[0;36m_get_acquire_data\u001b[0;34m(schedules, valid_subsystem_labels)\u001b[0m\n\u001b[1;32m    362\u001b[0m \u001b[38;5;66;03m# validate\u001b[39;00m\n\u001b[1;32m    363\u001b[0m \u001b[38;5;28;01mif\u001b[39;00m \u001b[38;5;28mlen\u001b[39m(schedule_acquire_times) \u001b[38;5;241m==\u001b[39m \u001b[38;5;241m0\u001b[39m:\n\u001b[0;32m--> 364\u001b[0m     \u001b[38;5;28;01mraise\u001b[39;00m QiskitError(\u001b[38;5;124m\"\u001b[39m\u001b[38;5;124mAt least one measurement must be present in each schedule.\u001b[39m\u001b[38;5;124m\"\u001b[39m)\n\u001b[1;32m    366\u001b[0m start_time \u001b[38;5;241m=\u001b[39m schedule_acquire_times[\u001b[38;5;241m0\u001b[39m]\n\u001b[1;32m    367\u001b[0m \u001b[38;5;28;01mfor\u001b[39;00m time \u001b[38;5;129;01min\u001b[39;00m schedule_acquire_times[\u001b[38;5;241m1\u001b[39m:]:\n",
      "\u001b[0;31mQiskitError\u001b[0m: 'At least one measurement must be present in each schedule.'"
     ]
    }
   ],
   "source": [
    "from qiskit.pulse import library\n",
    "\n",
    "amp = 1\n",
    "sigma = 10\n",
    "num_samples = 64\n",
    "gauss = pulse.library.Gaussian(num_samples, amp, sigma, name=\"Parametric Gauss\")\n",
    "\n",
    "with pulse.build() as schedule:\n",
    "    pulse.play(gauss, pulse.DriveChannel(0))\n",
    "\n",
    "job = backend.run(\n",
    "    schedule, \n",
    "    shots=100, \n",
    "    solver_options=solver_options\n",
    ")"
   ]
  },
  {
   "cell_type": "markdown",
   "id": "ed0472d8",
   "metadata": {},
   "source": [
    "## 3. Relabeling subsystems\n",
    "\n",
    "When building `PulseSimulator` instances from real backends, we will select a subset of qubits. A user should be able to interact with the instance by using the original qubit labels."
   ]
  },
  {
   "cell_type": "code",
   "execution_count": 6,
   "id": "329e2a2b",
   "metadata": {},
   "outputs": [],
   "source": [
    "solver = Solver(\n",
    "    static_hamiltonian=static_ham,\n",
    "    hamiltonian_operators=[drive_op],\n",
    "    hamiltonian_channels=['d1'],\n",
    "    channel_carrier_freqs={'d1': 5.},\n",
    "    dt=0.1,\n",
    "    rotating_frame=static_ham\n",
    ")\n",
    "\n",
    "backend_relabeled = PulseSimulator(solver=solver, subsystem_dims=[2], subsystem_labels=[1])"
   ]
  },
  {
   "cell_type": "code",
   "execution_count": 7,
   "id": "e9db209b",
   "metadata": {},
   "outputs": [
    {
     "data": {
      "text/plain": [
       "[Result(backend_name='PulseSimulator', backend_version='0.1', qobj_id='None', job_id='1a085a0b-3fc9-4790-b9d1-4ae3be473a11', success=True, results={'counts': {'00': 84, '10': 16}}, date=2022-11-02T10:37:50.008633, status=None, header=None)]"
      ]
     },
     "execution_count": 7,
     "metadata": {},
     "output_type": "execute_result"
    }
   ],
   "source": [
    "with pulse.build() as schedule:\n",
    "    with pulse.align_right():\n",
    "        pulse.play(gauss, pulse.DriveChannel(1))\n",
    "        pulse.acquire(duration=1, qubit_or_channel=1, register=pulse.MemorySlot(1))\n",
    "\n",
    "job = backend_relabeled.run(\n",
    "    schedule, \n",
    "    shots=100, \n",
    "    solver_options=solver_options\n",
    ")\n",
    "\n",
    "job.result()"
   ]
  },
  {
   "cell_type": "markdown",
   "id": "353b2d5a",
   "metadata": {},
   "source": [
    "Rerun the schedule attempting to measure qubit `0`, which doesn't exist."
   ]
  },
  {
   "cell_type": "code",
   "execution_count": 8,
   "id": "3da77e9d",
   "metadata": {
    "tags": [
     "raises-exception"
    ]
   },
   "outputs": [
    {
     "ename": "QiskitError",
     "evalue": "'Attempted to measure subsystem 0, but it is not in subsystem_list.'",
     "output_type": "error",
     "traceback": [
      "\u001b[0;31m---------------------------------------------------------------------------\u001b[0m",
      "\u001b[0;31mQiskitError\u001b[0m                               Traceback (most recent call last)",
      "Input \u001b[0;32mIn [8]\u001b[0m, in \u001b[0;36m<module>\u001b[0;34m\u001b[0m\n\u001b[1;32m      3\u001b[0m         pulse\u001b[38;5;241m.\u001b[39mplay(gauss, pulse\u001b[38;5;241m.\u001b[39mDriveChannel(\u001b[38;5;241m1\u001b[39m))\n\u001b[1;32m      4\u001b[0m         pulse\u001b[38;5;241m.\u001b[39macquire(duration\u001b[38;5;241m=\u001b[39m\u001b[38;5;241m1\u001b[39m, qubit_or_channel\u001b[38;5;241m=\u001b[39m\u001b[38;5;241m0\u001b[39m, register\u001b[38;5;241m=\u001b[39mpulse\u001b[38;5;241m.\u001b[39mMemorySlot(\u001b[38;5;241m1\u001b[39m))\n\u001b[0;32m----> 6\u001b[0m job \u001b[38;5;241m=\u001b[39m \u001b[43mbackend_relabeled\u001b[49m\u001b[38;5;241;43m.\u001b[39;49m\u001b[43mrun\u001b[49m\u001b[43m(\u001b[49m\n\u001b[1;32m      7\u001b[0m \u001b[43m    \u001b[49m\u001b[43mschedule\u001b[49m\u001b[43m,\u001b[49m\u001b[43m \u001b[49m\n\u001b[1;32m      8\u001b[0m \u001b[43m    \u001b[49m\u001b[43mshots\u001b[49m\u001b[38;5;241;43m=\u001b[39;49m\u001b[38;5;241;43m100\u001b[39;49m\u001b[43m,\u001b[49m\u001b[43m \u001b[49m\n\u001b[1;32m      9\u001b[0m \u001b[43m    \u001b[49m\u001b[43msolver_options\u001b[49m\u001b[38;5;241;43m=\u001b[39;49m\u001b[43msolver_options\u001b[49m\n\u001b[1;32m     10\u001b[0m \u001b[43m)\u001b[49m\n\u001b[1;32m     12\u001b[0m job\u001b[38;5;241m.\u001b[39mresult()\n",
      "File \u001b[0;32m~/Documents/projects/qiskit-dynamics/qiskit_dynamics/pulse/pulse_simulator.py:213\u001b[0m, in \u001b[0;36mPulseSimulator.run\u001b[0;34m(self, run_input, validate, **options)\u001b[0m\n\u001b[1;32m    210\u001b[0m schedules, schedules_memslot_nums \u001b[38;5;241m=\u001b[39m _to_schedule_list(run_input, backend\u001b[38;5;241m=\u001b[39m\u001b[38;5;28mself\u001b[39m)\n\u001b[1;32m    212\u001b[0m \u001b[38;5;66;03m# get the acquires instructions and simulation times\u001b[39;00m\n\u001b[0;32m--> 213\u001b[0m t_span, measurement_subsystems_list, memory_slot_indices_list \u001b[38;5;241m=\u001b[39m \u001b[43m_get_acquire_data\u001b[49m\u001b[43m(\u001b[49m\u001b[43mschedules\u001b[49m\u001b[43m,\u001b[49m\u001b[43m \u001b[49m\u001b[38;5;28;43mself\u001b[39;49m\u001b[38;5;241;43m.\u001b[39;49m\u001b[43moptions\u001b[49m\u001b[38;5;241;43m.\u001b[39;49m\u001b[43msubsystem_labels\u001b[49m\u001b[43m)\u001b[49m\n\u001b[1;32m    215\u001b[0m \u001b[38;5;66;03m# Build and submit job\u001b[39;00m\n\u001b[1;32m    216\u001b[0m job_id \u001b[38;5;241m=\u001b[39m \u001b[38;5;28mstr\u001b[39m(uuid\u001b[38;5;241m.\u001b[39muuid4())\n",
      "File \u001b[0;32m~/Documents/projects/qiskit-dynamics/qiskit_dynamics/pulse/pulse_simulator.py:378\u001b[0m, in \u001b[0;36m_get_acquire_data\u001b[0;34m(schedules, valid_subsystem_labels)\u001b[0m\n\u001b[1;32m    376\u001b[0m         measurement_subsystems\u001b[38;5;241m.\u001b[39mappend(inst\u001b[38;5;241m.\u001b[39mchannel\u001b[38;5;241m.\u001b[39mindex)\n\u001b[1;32m    377\u001b[0m     \u001b[38;5;28;01melse\u001b[39;00m:\n\u001b[0;32m--> 378\u001b[0m         \u001b[38;5;28;01mraise\u001b[39;00m QiskitError(\n\u001b[1;32m    379\u001b[0m             \u001b[38;5;124mf\u001b[39m\u001b[38;5;124m\"\u001b[39m\u001b[38;5;124mAttempted to measure subsystem \u001b[39m\u001b[38;5;132;01m{\u001b[39;00minst\u001b[38;5;241m.\u001b[39mchannel\u001b[38;5;241m.\u001b[39mindex\u001b[38;5;132;01m}\u001b[39;00m\u001b[38;5;124m, but it is not in subsystem_list.\u001b[39m\u001b[38;5;124m\"\u001b[39m\n\u001b[1;32m    380\u001b[0m         )\n\u001b[1;32m    382\u001b[0m     memory_slot_indices\u001b[38;5;241m.\u001b[39mappend(inst\u001b[38;5;241m.\u001b[39mmem_slot\u001b[38;5;241m.\u001b[39mindex)\n\u001b[1;32m    384\u001b[0m measurement_subsystems_list\u001b[38;5;241m.\u001b[39mappend(measurement_subsystems)\n",
      "\u001b[0;31mQiskitError\u001b[0m: 'Attempted to measure subsystem 0, but it is not in subsystem_list.'"
     ]
    }
   ],
   "source": [
    "with pulse.build() as schedule:\n",
    "    with pulse.align_right():\n",
    "        pulse.play(gauss, pulse.DriveChannel(1))\n",
    "        pulse.acquire(duration=1, qubit_or_channel=0, register=pulse.MemorySlot(1))\n",
    "\n",
    "job = backend_relabeled.run(\n",
    "    schedule, \n",
    "    shots=100, \n",
    "    solver_options=solver_options\n",
    ")\n",
    "\n",
    "job.result()"
   ]
  },
  {
   "cell_type": "markdown",
   "id": "69b1a8c9",
   "metadata": {},
   "source": [
    "## 4. Running a circuit with pulse definitions\n",
    "\n",
    "Running a circuit requires having a `meas_map`, and a measurement instructions defined in the `InstructionScheduleMap` in `backend.target`. The use can build their own target, and set `meas_map` as an option, but we've set the defaults as:\n",
    "- `meas_map` defaults to `[[x] for x in subsystem_labels]`\n",
    "- the `'measure'` instructions in the `InstructionScheduleMap` default to just an acquire instruction of duration `1` for the given qubit. "
   ]
  },
  {
   "cell_type": "code",
   "execution_count": 9,
   "id": "7a1f32c9",
   "metadata": {},
   "outputs": [],
   "source": [
    "solver = Solver(\n",
    "    static_hamiltonian=static_ham,\n",
    "    hamiltonian_operators=[drive_op],\n",
    "    hamiltonian_channels=['d0'],\n",
    "    channel_carrier_freqs={'d0': 5.},\n",
    "    dt=0.1,\n",
    "    rotating_frame=static_ham\n",
    ")\n",
    "backend = PulseSimulator(\n",
    "    solver=solver, \n",
    "    solver_options=solver_options\n",
    ")"
   ]
  },
  {
   "cell_type": "markdown",
   "id": "1ac0d02a",
   "metadata": {},
   "source": [
    "Make a circuit."
   ]
  },
  {
   "cell_type": "code",
   "execution_count": 10,
   "id": "bfb3b9da",
   "metadata": {},
   "outputs": [
    {
     "data": {
      "image/png": "[encoded data removed]",
      "text/plain": [
       "<Figure size 193.726x144.48 with 1 Axes>"
      ]
     },
     "execution_count": 10,
     "metadata": {},
     "output_type": "execute_result"
    }
   ],
   "source": [
    "from qiskit import QuantumCircuit\n",
    "\n",
    "circ = QuantumCircuit(1, 1)\n",
    "circ.h(0)\n",
    "circ.measure([0], [0])\n",
    "\n",
    "circ.draw(\"mpl\")"
   ]
  },
  {
   "cell_type": "markdown",
   "id": "14dd460d",
   "metadata": {},
   "source": [
    "Add calibration."
   ]
  },
  {
   "cell_type": "code",
   "execution_count": 11,
   "id": "900d46fc",
   "metadata": {},
   "outputs": [],
   "source": [
    "with pulse.build() as h_q0:\n",
    "    pulse.play(pulse.library.Gaussian(duration=256, amp=0.2, sigma=50, name='custom'),\n",
    "               pulse.DriveChannel(0))\n",
    "\n",
    "circ.add_calibration('h', [0], h_q0)"
   ]
  },
  {
   "cell_type": "markdown",
   "id": "487d22c9",
   "metadata": {},
   "source": [
    "Run it."
   ]
  },
  {
   "cell_type": "code",
   "execution_count": 12,
   "id": "c497b8ff",
   "metadata": {},
   "outputs": [
    {
     "name": "stdout",
     "output_type": "stream",
     "text": [
      "CPU times: user 624 ms, sys: 12.7 ms, total: 637 ms\n",
      "Wall time: 623 ms\n"
     ]
    }
   ],
   "source": [
    "%time res = backend.run(circ).result()"
   ]
  },
  {
   "cell_type": "code",
   "execution_count": 13,
   "id": "24534a7f",
   "metadata": {},
   "outputs": [
    {
     "data": {
      "text/plain": [
       "[Result(backend_name='PulseSimulator', backend_version='0.1', qobj_id='None', job_id='9cfa960f-45fb-42c5-98ac-41554e475af4', success=True, results={'counts': {'0': 887, '1': 137}}, date=2022-11-02T10:37:51.197139, status=None, header=None)]"
      ]
     },
     "execution_count": 13,
     "metadata": {},
     "output_type": "execute_result"
    }
   ],
   "source": [
    "res"
   ]
  },
  {
   "cell_type": "markdown",
   "id": "368c1684",
   "metadata": {},
   "source": [
    "## 5. Running a circuit with pre-defined `InstructionScheduleMap`\n",
    "\n",
    "Configure a target to instantiate the simulator with."
   ]
  },
  {
   "cell_type": "code",
   "execution_count": 14,
   "id": "de5518b5",
   "metadata": {},
   "outputs": [],
   "source": [
    "from qiskit.transpiler import Target\n",
    "\n",
    "# create target and add gate\n",
    "target = Target()\n",
    "inst_sched_map = target.instruction_schedule_map()\n",
    "inst_sched_map.add('h', qubits=0, schedule=h_q0)\n",
    "\n",
    "# rebuild same circuit\n",
    "circ = QuantumCircuit(1, 2)\n",
    "circ.h(0)\n",
    "circ.measure([0], [1])\n",
    "\n",
    "# build pulse simulator\n",
    "backend = PulseSimulator(\n",
    "    solver=solver, \n",
    "    target=target,\n",
    "    solver_options=solver_options\n",
    ")"
   ]
  },
  {
   "cell_type": "markdown",
   "id": "f769a03e",
   "metadata": {},
   "source": [
    "Note that in the above the default measurement schedule is still being created."
   ]
  },
  {
   "cell_type": "code",
   "execution_count": 15,
   "id": "001c9d12",
   "metadata": {},
   "outputs": [
    {
     "name": "stdout",
     "output_type": "stream",
     "text": [
      "CPU times: user 636 ms, sys: 11.7 ms, total: 647 ms\n",
      "Wall time: 634 ms\n"
     ]
    }
   ],
   "source": [
    "%time res = backend.run(circ).result()"
   ]
  },
  {
   "cell_type": "code",
   "execution_count": 16,
   "id": "dc4c6728",
   "metadata": {
    "scrolled": true
   },
   "outputs": [
    {
     "data": {
      "text/plain": [
       "[Result(backend_name='PulseSimulator', backend_version='0.1', qobj_id='None', job_id='b912e283-bff3-4a39-ada9-c863d4aac594', success=True, results={'counts': {'00': 894, '10': 130}}, date=2022-11-02T10:37:51.850058, status=None, header=None)]"
      ]
     },
     "execution_count": 16,
     "metadata": {},
     "output_type": "execute_result"
    }
   ],
   "source": [
    "res"
   ]
  },
  {
   "cell_type": "code",
   "execution_count": null,
   "id": "37e7d7b3",
   "metadata": {},
   "outputs": [],
   "source": []
  }
 ],
 "metadata": {
  "kernelspec": {
   "display_name": "Python 3 (ipykernel)",
   "language": "python",
   "name": "python3"
  },
  "language_info": {
   "codemirror_mode": {
    "name": "ipython",
    "version": 3
   },
   "file_extension": ".py",
   "mimetype": "text/x-python",
   "name": "python",
   "nbconvert_exporter": "python",
   "pygments_lexer": "ipython3",
   "version": "3.10.2"
  }
 },
 "nbformat": 4,
 "nbformat_minor": 5
}
