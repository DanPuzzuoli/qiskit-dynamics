{
 "cells": [
  {
   "cell_type": "markdown",
   "id": "e838a527",
   "metadata": {},
   "source": [
    "# `PulseSimulator` prototype 1\n",
    "\n",
    "In the first prototype phase we want to figure out the interfaces/functionality for:\n",
    "- Building a `PulseSimulator` instance with a custom model.\n",
    "- Simulating a pulse schedule with measurement."
   ]
  },
  {
   "cell_type": "markdown",
   "id": "d7442f1c",
   "metadata": {},
   "source": [
    "## 0. Imports, and configure to use JAX"
   ]
  },
  {
   "cell_type": "code",
   "execution_count": 1,
   "id": "2a63c11e",
   "metadata": {},
   "outputs": [
    {
     "ename": "ModuleNotFoundError",
     "evalue": "No module named 'qiskit_dynamics.pulse_simulator.dynamics_job'",
     "output_type": "error",
     "traceback": [
      "\u001b[0;31m---------------------------------------------------------------------------\u001b[0m",
      "\u001b[0;31mModuleNotFoundError\u001b[0m                       Traceback (most recent call last)",
      "Input \u001b[0;32mIn [1]\u001b[0m, in \u001b[0;36m<module>\u001b[0;34m\u001b[0m\n\u001b[1;32m      1\u001b[0m \u001b[38;5;28;01mimport\u001b[39;00m \u001b[38;5;21;01mnumpy\u001b[39;00m \u001b[38;5;28;01mas\u001b[39;00m \u001b[38;5;21;01mnp\u001b[39;00m\n\u001b[1;32m      2\u001b[0m \u001b[38;5;28;01mfrom\u001b[39;00m \u001b[38;5;21;01mqiskit\u001b[39;00m \u001b[38;5;28;01mimport\u001b[39;00m pulse\n\u001b[0;32m----> 3\u001b[0m \u001b[38;5;28;01mfrom\u001b[39;00m \u001b[38;5;21;01mqiskit_dynamics\u001b[39;00m \u001b[38;5;28;01mimport\u001b[39;00m Solver, PulseSimulator\n\u001b[1;32m      5\u001b[0m \u001b[38;5;66;03m# Configure to use JAX internally\u001b[39;00m\n\u001b[1;32m      6\u001b[0m \u001b[38;5;66;03m# Enables auto-jitting of pulse simulation, so speeds things up\u001b[39;00m\n\u001b[1;32m      7\u001b[0m \u001b[38;5;28;01mimport\u001b[39;00m \u001b[38;5;21;01mjax\u001b[39;00m\n",
      "File \u001b[0;32m~/Documents/projects/qiskit-dynamics/qiskit_dynamics/__init__.py:34\u001b[0m, in \u001b[0;36m<module>\u001b[0;34m\u001b[0m\n\u001b[1;32m     32\u001b[0m \u001b[38;5;28;01mfrom\u001b[39;00m \u001b[38;5;21;01m.\u001b[39;00m\u001b[38;5;21;01msolvers\u001b[39;00m\u001b[38;5;21;01m.\u001b[39;00m\u001b[38;5;21;01mperturbative_solvers\u001b[39;00m\u001b[38;5;21;01m.\u001b[39;00m\u001b[38;5;21;01mdyson_solver\u001b[39;00m \u001b[38;5;28;01mimport\u001b[39;00m DysonSolver\n\u001b[1;32m     33\u001b[0m \u001b[38;5;28;01mfrom\u001b[39;00m \u001b[38;5;21;01m.\u001b[39;00m\u001b[38;5;21;01msolvers\u001b[39;00m\u001b[38;5;21;01m.\u001b[39;00m\u001b[38;5;21;01mperturbative_solvers\u001b[39;00m\u001b[38;5;21;01m.\u001b[39;00m\u001b[38;5;21;01mmagnus_solver\u001b[39;00m \u001b[38;5;28;01mimport\u001b[39;00m MagnusSolver\n\u001b[0;32m---> 34\u001b[0m \u001b[38;5;28;01mfrom\u001b[39;00m \u001b[38;5;21;01m.\u001b[39;00m\u001b[38;5;21;01mpulse_simulator\u001b[39;00m\u001b[38;5;21;01m.\u001b[39;00m\u001b[38;5;21;01mpulse_simulator\u001b[39;00m \u001b[38;5;28;01mimport\u001b[39;00m PulseSimulator\n\u001b[1;32m     36\u001b[0m \u001b[38;5;28;01mfrom\u001b[39;00m \u001b[38;5;21;01m.\u001b[39;00m \u001b[38;5;28;01mimport\u001b[39;00m models\n\u001b[1;32m     37\u001b[0m \u001b[38;5;28;01mfrom\u001b[39;00m \u001b[38;5;21;01m.\u001b[39;00m \u001b[38;5;28;01mimport\u001b[39;00m signals\n",
      "File \u001b[0;32m~/Documents/projects/qiskit-dynamics/qiskit_dynamics/pulse_simulator/__init__.py:31\u001b[0m, in \u001b[0;36m<module>\u001b[0;34m\u001b[0m\n\u001b[1;32m      1\u001b[0m \u001b[38;5;66;03m# -*- coding: utf-8 -*-\u001b[39;00m\n\u001b[1;32m      2\u001b[0m \n\u001b[1;32m      3\u001b[0m \u001b[38;5;66;03m# This code is part of Qiskit.\u001b[39;00m\n\u001b[0;32m   (...)\u001b[0m\n\u001b[1;32m     12\u001b[0m \u001b[38;5;66;03m# copyright notice, and modified files need to carry a notice indicating\u001b[39;00m\n\u001b[1;32m     13\u001b[0m \u001b[38;5;66;03m# that they have been altered from the originals.\u001b[39;00m\n\u001b[1;32m     15\u001b[0m \u001b[38;5;124;03m\"\"\"\u001b[39;00m\n\u001b[1;32m     16\u001b[0m \u001b[38;5;124;03m==============================================\u001b[39;00m\n\u001b[1;32m     17\u001b[0m \u001b[38;5;124;03mPulse Simulator (:mod:`qiskit_dynamics.pulse_simulator`)\u001b[39;00m\n\u001b[0;32m   (...)\u001b[0m\n\u001b[1;32m     28\u001b[0m \u001b[38;5;124;03m   PulseSimulator\u001b[39;00m\n\u001b[1;32m     29\u001b[0m \u001b[38;5;124;03m\"\"\"\u001b[39;00m\n\u001b[0;32m---> 31\u001b[0m \u001b[38;5;28;01mfrom\u001b[39;00m \u001b[38;5;21;01m.\u001b[39;00m\u001b[38;5;21;01mpulse_simulator\u001b[39;00m \u001b[38;5;28;01mimport\u001b[39;00m PulseSimulator\n",
      "File \u001b[0;32m~/Documents/projects/qiskit-dynamics/qiskit_dynamics/pulse_simulator/pulse_simulator.py:43\u001b[0m, in \u001b[0;36m<module>\u001b[0;34m\u001b[0m\n\u001b[1;32m     40\u001b[0m \u001b[38;5;28;01mfrom\u001b[39;00m \u001b[38;5;21;01mqiskit_dynamics\u001b[39;00m\u001b[38;5;21;01m.\u001b[39;00m\u001b[38;5;21;01marray\u001b[39;00m \u001b[38;5;28;01mimport\u001b[39;00m Array\n\u001b[1;32m     41\u001b[0m \u001b[38;5;28;01mfrom\u001b[39;00m \u001b[38;5;21;01mqiskit_dynamics\u001b[39;00m\u001b[38;5;21;01m.\u001b[39;00m\u001b[38;5;21;01mmodels\u001b[39;00m \u001b[38;5;28;01mimport\u001b[39;00m HamiltonianModel\n\u001b[0;32m---> 43\u001b[0m \u001b[38;5;28;01mfrom\u001b[39;00m \u001b[38;5;21;01m.\u001b[39;00m\u001b[38;5;21;01mdynamics_job\u001b[39;00m \u001b[38;5;28;01mimport\u001b[39;00m DynamicsJob\n\u001b[1;32m     44\u001b[0m \u001b[38;5;28;01mfrom\u001b[39;00m \u001b[38;5;21;01m.\u001b[39;00m\u001b[38;5;21;01mpulse_utils\u001b[39;00m \u001b[38;5;28;01mimport\u001b[39;00m (\n\u001b[1;32m     45\u001b[0m     _get_dressed_state_decomposition,\n\u001b[1;32m     46\u001b[0m     _get_lab_frame_static_hamiltonian,\n\u001b[0;32m   (...)\u001b[0m\n\u001b[1;32m     49\u001b[0m     _get_counts_from_samples,\n\u001b[1;32m     50\u001b[0m )\n\u001b[1;32m     53\u001b[0m \u001b[38;5;28;01mclass\u001b[39;00m \u001b[38;5;21;01mPulseSimulator\u001b[39;00m(BackendV2):\n",
      "\u001b[0;31mModuleNotFoundError\u001b[0m: No module named 'qiskit_dynamics.pulse_simulator.dynamics_job'"
     ]
    }
   ],
   "source": [
    "import numpy as np\n",
    "from qiskit import pulse\n",
    "from qiskit_dynamics import Solver, PulseSimulator\n",
    "\n",
    "# Configure to use JAX internally\n",
    "# Enables auto-jitting of pulse simulation, so speeds things up\n",
    "import jax\n",
    "jax.config.update(\"jax_enable_x64\", True)\n",
    "jax.config.update('jax_platform_name', 'cpu')\n",
    "from qiskit_dynamics.array import Array\n",
    "Array.set_default_backend('jax')\n",
    "\n",
    "# Solver options to pass to PulseSimulator.run\n",
    "solver_options = {'method': 'jax_odeint', 'atol': 1e-10, 'rtol': 1e-10}"
   ]
  },
  {
   "cell_type": "markdown",
   "id": "41efaa31",
   "metadata": {},
   "source": [
    "## 1. Instantiating `PulseSimulator` with a `Solver`"
   ]
  },
  {
   "cell_type": "markdown",
   "id": "a4b6568d",
   "metadata": {},
   "source": [
    "Build a `Solver` instance representing a single qubit, configured for pulse simulation."
   ]
  },
  {
   "cell_type": "code",
   "execution_count": null,
   "id": "69eb2586",
   "metadata": {},
   "outputs": [],
   "source": [
    "Z = np.array([[-1., 0.], [0., 1.]])\n",
    "X = np.array([[0., 1.], [1., 0.]])\n",
    "\n",
    "r = 0.1\n",
    "\n",
    "static_ham = 2 * np.pi * 5 * Z / 2\n",
    "drive_op = 2 * np.pi * r * X / 2\n",
    "\n",
    "solver = Solver(\n",
    "    static_hamiltonian=static_ham,\n",
    "    hamiltonian_operators=[drive_op],\n",
    "    hamiltonian_channels=['d0'],\n",
    "    channel_carrier_freqs={'d0': 5.},\n",
    "    dt=0.1,\n",
    "    rotating_frame=static_ham\n",
    ")"
   ]
  },
  {
   "cell_type": "markdown",
   "id": "13958867",
   "metadata": {},
   "source": [
    "Instantiate the `PulseSimulator` with the solver. Specifying `subsystem_dims` allows the `PulseSimulator` to know the subsystem dimensions of a composite system."
   ]
  },
  {
   "cell_type": "code",
   "execution_count": null,
   "id": "0d90e4c7",
   "metadata": {},
   "outputs": [],
   "source": [
    "backend = PulseSimulator(\n",
    "    solver=solver, \n",
    "    subsystem_dims=[2],\n",
    "    solver_options=solver_options\n",
    ")"
   ]
  },
  {
   "cell_type": "markdown",
   "id": "ff56c4a5",
   "metadata": {},
   "source": [
    "Simulate a schedule. \n",
    "\n",
    "Notes:\n",
    "- Defaults to initial state being the ground state.\n",
    "- Measurements are projective, occuring right as the acquire command starts."
   ]
  },
  {
   "cell_type": "code",
   "execution_count": null,
   "id": "38ed5669",
   "metadata": {},
   "outputs": [],
   "source": [
    "%%time\n",
    "\n",
    "from qiskit.pulse import library\n",
    "\n",
    "sigma = 128\n",
    "num_samples = 256\n",
    "\n",
    "schedules = []\n",
    "\n",
    "for amp in np.linspace(0., 1., 10):\n",
    "    gauss = pulse.library.Gaussian(\n",
    "        num_samples, amp, sigma, name=\"Parametric Gauss\"\n",
    "    )\n",
    "\n",
    "    with pulse.build() as schedule:\n",
    "        with pulse.align_right():\n",
    "            pulse.play(gauss, pulse.DriveChannel(0))\n",
    "            pulse.shift_phase(0.5, pulse.DriveChannel(0))\n",
    "            pulse.shift_frequency(0.1, pulse.DriveChannel(0))\n",
    "            pulse.play(gauss, pulse.DriveChannel(0))\n",
    "            pulse.acquire(duration=1, qubit_or_channel=0, register=pulse.MemorySlot(0))\n",
    "    \n",
    "    schedules.append(schedule)\n",
    "\n",
    "job = backend.run(schedules, shots=100)\n",
    "\n",
    "job.result()"
   ]
  },
  {
   "cell_type": "markdown",
   "id": "95cc82c3",
   "metadata": {},
   "source": [
    "## 2. Validation of measurements\n",
    "\n",
    "If a schedule doesn't have a measurement, an error is raised. \n",
    "\n",
    "For now:\n",
    "- `PulseSimulator.run` only works for a schedule with a single measurement, and outputs counts.\n",
    "- We can add arguments to `PulseSimulator.run` to allow a user to control how the simulation is done, e.g. getting counts v.s. a state simulation v.s. a propagator simulation."
   ]
  },
  {
   "cell_type": "code",
   "execution_count": null,
   "id": "a19e0364",
   "metadata": {
    "tags": [
     "raises-exception"
    ]
   },
   "outputs": [],
   "source": [
    "from qiskit.pulse import library\n",
    "\n",
    "amp = 1\n",
    "sigma = 10\n",
    "num_samples = 64\n",
    "gauss = pulse.library.Gaussian(num_samples, amp, sigma, name=\"Parametric Gauss\")\n",
    "\n",
    "with pulse.build() as schedule:\n",
    "    pulse.play(gauss, pulse.DriveChannel(0))\n",
    "\n",
    "job = backend.run(\n",
    "    schedule, \n",
    "    shots=100, \n",
    "    solver_options=solver_options\n",
    ")"
   ]
  },
  {
   "cell_type": "markdown",
   "id": "ed0472d8",
   "metadata": {},
   "source": [
    "## 3. Relabeling subsystems\n",
    "\n",
    "When building `PulseSimulator` instances from real backends, we will select a subset of qubits. A user should be able to interact with the instance by using the original qubit labels."
   ]
  },
  {
   "cell_type": "code",
   "execution_count": null,
   "id": "329e2a2b",
   "metadata": {},
   "outputs": [],
   "source": [
    "solver = Solver(\n",
    "    static_hamiltonian=static_ham,\n",
    "    hamiltonian_operators=[drive_op],\n",
    "    hamiltonian_channels=['d1'],\n",
    "    channel_carrier_freqs={'d1': 5.},\n",
    "    dt=0.1,\n",
    "    rotating_frame=static_ham\n",
    ")\n",
    "\n",
    "backend_relabeled = PulseSimulator(solver=solver, subsystem_dims=[2], subsystem_labels=[1])"
   ]
  },
  {
   "cell_type": "code",
   "execution_count": null,
   "id": "e9db209b",
   "metadata": {},
   "outputs": [],
   "source": [
    "with pulse.build() as schedule:\n",
    "    with pulse.align_right():\n",
    "        pulse.play(gauss, pulse.DriveChannel(1))\n",
    "        pulse.acquire(duration=1, qubit_or_channel=1, register=pulse.MemorySlot(1))\n",
    "\n",
    "job = backend_relabeled.run(\n",
    "    schedule, \n",
    "    shots=100, \n",
    "    solver_options=solver_options\n",
    ")\n",
    "\n",
    "job.result()"
   ]
  },
  {
   "cell_type": "markdown",
   "id": "353b2d5a",
   "metadata": {},
   "source": [
    "Rerun the schedule attempting to measure qubit `0`, which doesn't exist."
   ]
  },
  {
   "cell_type": "code",
   "execution_count": null,
   "id": "3da77e9d",
   "metadata": {
    "tags": [
     "raises-exception"
    ]
   },
   "outputs": [],
   "source": [
    "with pulse.build() as schedule:\n",
    "    with pulse.align_right():\n",
    "        pulse.play(gauss, pulse.DriveChannel(1))\n",
    "        pulse.acquire(duration=1, qubit_or_channel=0, register=pulse.MemorySlot(1))\n",
    "\n",
    "job = backend_relabeled.run(\n",
    "    schedule, \n",
    "    shots=100, \n",
    "    solver_options=solver_options\n",
    ")\n",
    "\n",
    "job.result()"
   ]
  },
  {
   "cell_type": "markdown",
   "id": "69b1a8c9",
   "metadata": {},
   "source": [
    "## 4. Running a circuit with pulse definitions\n",
    "\n",
    "Running a circuit requires having a `meas_map`, and a measurement instructions defined in the `InstructionScheduleMap` in `backend.target`. The use can build their own target, and set `meas_map` as an option, but we've set the defaults as:\n",
    "- `meas_map` defaults to `[[x] for x in subsystem_labels]`\n",
    "- the `'measure'` instructions in the `InstructionScheduleMap` default to just an acquire instruction of duration `1` for the given qubit. "
   ]
  },
  {
   "cell_type": "code",
   "execution_count": null,
   "id": "7a1f32c9",
   "metadata": {},
   "outputs": [],
   "source": [
    "solver = Solver(\n",
    "    static_hamiltonian=static_ham,\n",
    "    hamiltonian_operators=[drive_op],\n",
    "    hamiltonian_channels=['d0'],\n",
    "    channel_carrier_freqs={'d0': 5.},\n",
    "    dt=0.1,\n",
    "    rotating_frame=static_ham\n",
    ")\n",
    "backend = PulseSimulator(\n",
    "    solver=solver, \n",
    "    solver_options=solver_options\n",
    ")"
   ]
  },
  {
   "cell_type": "markdown",
   "id": "1ac0d02a",
   "metadata": {},
   "source": [
    "Make a circuit."
   ]
  },
  {
   "cell_type": "code",
   "execution_count": null,
   "id": "bfb3b9da",
   "metadata": {},
   "outputs": [],
   "source": [
    "from qiskit import QuantumCircuit\n",
    "\n",
    "circ = QuantumCircuit(1, 1)\n",
    "circ.h(0)\n",
    "circ.measure([0], [0])\n",
    "\n",
    "circ.draw(\"mpl\")"
   ]
  },
  {
   "cell_type": "markdown",
   "id": "14dd460d",
   "metadata": {},
   "source": [
    "Add calibration."
   ]
  },
  {
   "cell_type": "code",
   "execution_count": null,
   "id": "900d46fc",
   "metadata": {},
   "outputs": [],
   "source": [
    "with pulse.build() as h_q0:\n",
    "    pulse.play(pulse.library.Gaussian(duration=256, amp=0.2, sigma=50, name='custom'),\n",
    "               pulse.DriveChannel(0))\n",
    "\n",
    "circ.add_calibration('h', [0], h_q0)"
   ]
  },
  {
   "cell_type": "markdown",
   "id": "487d22c9",
   "metadata": {},
   "source": [
    "Run it."
   ]
  },
  {
   "cell_type": "code",
   "execution_count": null,
   "id": "c497b8ff",
   "metadata": {},
   "outputs": [],
   "source": [
    "%time res = backend.run(circ).result()"
   ]
  },
  {
   "cell_type": "code",
   "execution_count": null,
   "id": "24534a7f",
   "metadata": {},
   "outputs": [],
   "source": [
    "res"
   ]
  },
  {
   "cell_type": "markdown",
   "id": "368c1684",
   "metadata": {},
   "source": [
    "## 5. Running a circuit with pre-defined `InstructionScheduleMap`\n",
    "\n",
    "Configure a target to instantiate the simulator with."
   ]
  },
  {
   "cell_type": "code",
   "execution_count": null,
   "id": "de5518b5",
   "metadata": {},
   "outputs": [],
   "source": [
    "from qiskit.transpiler import Target\n",
    "\n",
    "# create target and add gate\n",
    "target = Target()\n",
    "inst_sched_map = target.instruction_schedule_map()\n",
    "inst_sched_map.add('h', qubits=0, schedule=h_q0)\n",
    "\n",
    "# rebuild same circuit\n",
    "circ = QuantumCircuit(1, 2)\n",
    "circ.h(0)\n",
    "circ.measure([0], [1])\n",
    "\n",
    "# build pulse simulator\n",
    "backend = PulseSimulator(\n",
    "    solver=solver, \n",
    "    target=target,\n",
    "    solver_options=solver_options\n",
    ")"
   ]
  },
  {
   "cell_type": "markdown",
   "id": "f769a03e",
   "metadata": {},
   "source": [
    "Note that in the above the default measurement schedule is still being created."
   ]
  },
  {
   "cell_type": "code",
   "execution_count": null,
   "id": "001c9d12",
   "metadata": {},
   "outputs": [],
   "source": [
    "%time res = backend.run(circ).result()"
   ]
  },
  {
   "cell_type": "code",
   "execution_count": null,
   "id": "c27ad0ae",
   "metadata": {},
   "outputs": [],
   "source": [
    "res.get_memory(circ)"
   ]
  },
  {
   "cell_type": "code",
   "execution_count": null,
   "id": "6c65bcaf",
   "metadata": {},
   "outputs": [],
   "source": []
  }
 ],
 "metadata": {
  "kernelspec": {
   "display_name": "Python 3 (ipykernel)",
   "language": "python",
   "name": "python3"
  },
  "language_info": {
   "codemirror_mode": {
    "name": "ipython",
    "version": 3
   },
   "file_extension": ".py",
   "mimetype": "text/x-python",
   "name": "python",
   "nbconvert_exporter": "python",
   "pygments_lexer": "ipython3",
   "version": "3.10.2"
  }
 },
 "nbformat": 4,
 "nbformat_minor": 5
}
