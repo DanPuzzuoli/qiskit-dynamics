{
 "cells": [
  {
   "cell_type": "markdown",
   "id": "e838a527",
   "metadata": {},
   "source": [
    "# `PulseSimulator` prototype 1\n",
    "\n",
    "In the first prototype phase we want to figure out the interfaces/functionality for:\n",
    "- Building a `PulseSimulator` instance with a custom model.\n",
    "- Simulating a pulse schedule with measurement."
   ]
  },
  {
   "cell_type": "markdown",
   "id": "d7442f1c",
   "metadata": {},
   "source": [
    "## 0. Imports, and configure to use JAX"
   ]
  },
  {
   "cell_type": "code",
   "execution_count": 1,
   "id": "2a63c11e",
   "metadata": {},
   "outputs": [],
   "source": [
    "import numpy as np\n",
    "from qiskit import pulse\n",
    "from qiskit_dynamics.pulse.pulse_simulator import PulseSimulator\n",
    "from qiskit_dynamics import Solver\n",
    "\n",
    "# Configure to use JAX internally\n",
    "# Enables auto-jitting of pulse simulation, so speeds things up\n",
    "import jax\n",
    "jax.config.update(\"jax_enable_x64\", True)\n",
    "jax.config.update('jax_platform_name', 'cpu')\n",
    "from qiskit_dynamics.array import Array\n",
    "Array.set_default_backend('jax')\n",
    "\n",
    "# Solver options to pass to PulseSimulator.run\n",
    "solver_options = {'method': 'jax_odeint', 'atol': 1e-10, 'rtol': 1e-10}"
   ]
  },
  {
   "cell_type": "markdown",
   "id": "41efaa31",
   "metadata": {},
   "source": [
    "## 1. Instantiating `PulseSimulator` with a `Solver`"
   ]
  },
  {
   "cell_type": "markdown",
   "id": "a4b6568d",
   "metadata": {},
   "source": [
    "Build a `Solver` instance representing a single qubit, configured for pulse simulation."
   ]
  },
  {
   "cell_type": "code",
   "execution_count": 2,
   "id": "69eb2586",
   "metadata": {},
   "outputs": [],
   "source": [
    "Z = np.array([[-1., 0.], [0., 1.]])\n",
    "X = np.array([[0., 1.], [1., 0.]])\n",
    "\n",
    "r = 0.1\n",
    "\n",
    "static_ham = 2 * np.pi * 5 * Z / 2\n",
    "drive_op = 2 * np.pi * r * X / 2\n",
    "\n",
    "solver = Solver(\n",
    "    static_hamiltonian=static_ham,\n",
    "    hamiltonian_operators=[drive_op],\n",
    "    hamiltonian_channels=['d0'],\n",
    "    channel_carrier_freqs={'d0': 5.},\n",
    "    dt=0.1,\n",
    "    rotating_frame=static_ham\n",
    ")"
   ]
  },
  {
   "cell_type": "markdown",
   "id": "13958867",
   "metadata": {},
   "source": [
    "Instantiate the `PulseSimulator` with the solver. Specifying `subsystem_dims` allows the `PulseSimulator` to know the subsystem dimensions of a composite system."
   ]
  },
  {
   "cell_type": "code",
   "execution_count": 3,
   "id": "0d90e4c7",
   "metadata": {},
   "outputs": [],
   "source": [
    "backend = PulseSimulator(solver=solver, subsystem_dims=[2])"
   ]
  },
  {
   "cell_type": "markdown",
   "id": "ff56c4a5",
   "metadata": {},
   "source": [
    "Simulate a schedule. \n",
    "\n",
    "Notes:\n",
    "- Defaults to initial state being the ground state.\n",
    "- Measurements are projective, occuring right as the acquire command starts."
   ]
  },
  {
   "cell_type": "code",
   "execution_count": 4,
   "id": "38ed5669",
   "metadata": {},
   "outputs": [
    {
     "name": "stdout",
     "output_type": "stream",
     "text": [
      "CPU times: user 1.31 s, sys: 87.4 ms, total: 1.39 s\n",
      "Wall time: 1.52 s\n"
     ]
    },
    {
     "data": {
      "text/plain": [
       "[Result(backend_name='PulseSimulator', backend_version='0.1', qobj_id='None', job_id='ef89ca4a-3084-4673-ba36-3d8d8e5b4df3', success=True, results={'counts': {'0': 100}}, date=2022-10-14T11:49:24.564063, status=None, header=None),\n",
       " Result(backend_name='PulseSimulator', backend_version='0.1', qobj_id='None', job_id='ef89ca4a-3084-4673-ba36-3d8d8e5b4df3', success=True, results={'counts': {'0': 93, '1': 7}}, date=2022-10-14T11:49:24.564078, status=None, header=None),\n",
       " Result(backend_name='PulseSimulator', backend_version='0.1', qobj_id='None', job_id='ef89ca4a-3084-4673-ba36-3d8d8e5b4df3', success=True, results={'counts': {'0': 78, '1': 22}}, date=2022-10-14T11:49:24.564083, status=None, header=None),\n",
       " Result(backend_name='PulseSimulator', backend_version='0.1', qobj_id='None', job_id='ef89ca4a-3084-4673-ba36-3d8d8e5b4df3', success=True, results={'counts': {'0': 44, '1': 56}}, date=2022-10-14T11:49:24.564086, status=None, header=None),\n",
       " Result(backend_name='PulseSimulator', backend_version='0.1', qobj_id='None', job_id='ef89ca4a-3084-4673-ba36-3d8d8e5b4df3', success=True, results={'counts': {'0': 17, '1': 83}}, date=2022-10-14T11:49:24.564090, status=None, header=None),\n",
       " Result(backend_name='PulseSimulator', backend_version='0.1', qobj_id='None', job_id='ef89ca4a-3084-4673-ba36-3d8d8e5b4df3', success=True, results={'counts': {'0': 2, '1': 98}}, date=2022-10-14T11:49:24.564093, status=None, header=None),\n",
       " Result(backend_name='PulseSimulator', backend_version='0.1', qobj_id='None', job_id='ef89ca4a-3084-4673-ba36-3d8d8e5b4df3', success=True, results={'counts': {'0': 2, '1': 98}}, date=2022-10-14T11:49:24.564096, status=None, header=None),\n",
       " Result(backend_name='PulseSimulator', backend_version='0.1', qobj_id='None', job_id='ef89ca4a-3084-4673-ba36-3d8d8e5b4df3', success=True, results={'counts': {'0': 10, '1': 90}}, date=2022-10-14T11:49:24.564099, status=None, header=None),\n",
       " Result(backend_name='PulseSimulator', backend_version='0.1', qobj_id='None', job_id='ef89ca4a-3084-4673-ba36-3d8d8e5b4df3', success=True, results={'counts': {'0': 40, '1': 60}}, date=2022-10-14T11:49:24.564102, status=None, header=None),\n",
       " Result(backend_name='PulseSimulator', backend_version='0.1', qobj_id='None', job_id='ef89ca4a-3084-4673-ba36-3d8d8e5b4df3', success=True, results={'counts': {'0': 69, '1': 31}}, date=2022-10-14T11:49:24.564105, status=None, header=None)]"
      ]
     },
     "execution_count": 4,
     "metadata": {},
     "output_type": "execute_result"
    }
   ],
   "source": [
    "%%time\n",
    "\n",
    "from qiskit.pulse import library\n",
    "\n",
    "sigma = 128\n",
    "num_samples = 256\n",
    "\n",
    "schedules = []\n",
    "\n",
    "for amp in np.linspace(0., 1., 10):\n",
    "    gauss = pulse.library.Gaussian(\n",
    "        num_samples, amp, sigma, name=\"Parametric Gauss\"\n",
    "    )\n",
    "\n",
    "    with pulse.build() as schedule:\n",
    "        with pulse.align_right():\n",
    "            # note: carrier frequency is automatically set to channel_carrier_freq if nothing\n",
    "            # specified in schedule. Is this what we want?\n",
    "            # This is baked into the InstructionToSchedule object. What does it do on the backends?\n",
    "            #pulse.set_frequency(5., pulse.DriveChannel(0))\n",
    "            pulse.play(gauss, pulse.DriveChannel(0))\n",
    "            pulse.acquire(duration=1, qubit_or_channel=0, register=pulse.RegisterSlot(0))\n",
    "    \n",
    "    schedules.append(schedule)\n",
    "\n",
    "job = backend.run(schedules, shots=100, solver_options=solver_options)\n",
    "\n",
    "job.result()"
   ]
  },
  {
   "cell_type": "markdown",
   "id": "95cc82c3",
   "metadata": {},
   "source": [
    "## 2. Validation of measurements\n",
    "\n",
    "If a schedule doesn't have a measurement, an error is raised. \n",
    "\n",
    "For now:\n",
    "- `PulseSimulator.run` only works for a schedule with a single measurement, and outputs counts.\n",
    "- We can add arguments to `PulseSimulator.run` to allow a user to control how the simulation is done, e.g. getting counts v.s. a state simulation v.s. a propagator simulation."
   ]
  },
  {
   "cell_type": "code",
   "execution_count": 5,
   "id": "a19e0364",
   "metadata": {
    "tags": [
     "raises-exception"
    ]
   },
   "outputs": [
    {
     "ename": "QiskitError",
     "evalue": "'At least one measurement must be present in each schedule.'",
     "output_type": "error",
     "traceback": [
      "\u001b[0;31m---------------------------------------------------------------------------\u001b[0m",
      "\u001b[0;31mQiskitError\u001b[0m                               Traceback (most recent call last)",
      "Input \u001b[0;32mIn [5]\u001b[0m, in \u001b[0;36m<module>\u001b[0;34m\u001b[0m\n\u001b[1;32m      8\u001b[0m \u001b[38;5;28;01mwith\u001b[39;00m pulse\u001b[38;5;241m.\u001b[39mbuild() \u001b[38;5;28;01mas\u001b[39;00m schedule:\n\u001b[1;32m      9\u001b[0m     pulse\u001b[38;5;241m.\u001b[39mplay(gauss, pulse\u001b[38;5;241m.\u001b[39mDriveChannel(\u001b[38;5;241m0\u001b[39m))\n\u001b[0;32m---> 11\u001b[0m job \u001b[38;5;241m=\u001b[39m \u001b[43mbackend\u001b[49m\u001b[38;5;241;43m.\u001b[39;49m\u001b[43mrun\u001b[49m\u001b[43m(\u001b[49m\n\u001b[1;32m     12\u001b[0m \u001b[43m    \u001b[49m\u001b[43mschedule\u001b[49m\u001b[43m,\u001b[49m\u001b[43m \u001b[49m\n\u001b[1;32m     13\u001b[0m \u001b[43m    \u001b[49m\u001b[43mshots\u001b[49m\u001b[38;5;241;43m=\u001b[39;49m\u001b[38;5;241;43m100\u001b[39;49m\u001b[43m,\u001b[49m\u001b[43m \u001b[49m\n\u001b[1;32m     14\u001b[0m \u001b[43m    \u001b[49m\u001b[43msolver_options\u001b[49m\u001b[38;5;241;43m=\u001b[39;49m\u001b[43msolver_options\u001b[49m\n\u001b[1;32m     15\u001b[0m \u001b[43m)\u001b[49m\n",
      "File \u001b[0;32m~/Documents/projects/qiskit-dynamics/qiskit_dynamics/pulse/pulse_simulator.py:169\u001b[0m, in \u001b[0;36mPulseSimulator.run\u001b[0;34m(self, run_input, shots, y0, validate, solver_options, **options)\u001b[0m\n\u001b[1;32m    166\u001b[0m         schedule_acquire_times\u001b[38;5;241m.\u001b[39mappend(start_time)\n\u001b[1;32m    168\u001b[0m \u001b[38;5;66;03m# maybe need to validate more here\u001b[39;00m\n\u001b[0;32m--> 169\u001b[0m \u001b[43m_validate_acquires\u001b[49m\u001b[43m(\u001b[49m\u001b[43mschedule_acquire_times\u001b[49m\u001b[43m,\u001b[49m\u001b[43m \u001b[49m\u001b[43mschedule_acquires\u001b[49m\u001b[43m)\u001b[49m\n\u001b[1;32m    171\u001b[0m t_span\u001b[38;5;241m.\u001b[39mappend([\u001b[38;5;241m0\u001b[39m, schedule_acquire_times[\u001b[38;5;241m0\u001b[39m]])\n\u001b[1;32m    172\u001b[0m measurement_subsystems_list\u001b[38;5;241m.\u001b[39mappend([inst\u001b[38;5;241m.\u001b[39mchannel\u001b[38;5;241m.\u001b[39mindex \u001b[38;5;28;01mfor\u001b[39;00m inst \u001b[38;5;129;01min\u001b[39;00m schedule_acquires])\n",
      "File \u001b[0;32m~/Documents/projects/qiskit-dynamics/qiskit_dynamics/pulse/pulse_simulator.py:300\u001b[0m, in \u001b[0;36m_validate_acquires\u001b[0;34m(schedule_acquire_times, schedule_acquires)\u001b[0m\n\u001b[1;32m    295\u001b[0m \u001b[38;5;124;03m\"\"\"Validate the acquire instructions.\u001b[39;00m\n\u001b[1;32m    296\u001b[0m \u001b[38;5;124;03mFor now, make sure all acquires happen at one time.\u001b[39;00m\n\u001b[1;32m    297\u001b[0m \u001b[38;5;124;03m\"\"\"\u001b[39;00m\n\u001b[1;32m    299\u001b[0m \u001b[38;5;28;01mif\u001b[39;00m \u001b[38;5;28mlen\u001b[39m(schedule_acquire_times) \u001b[38;5;241m==\u001b[39m \u001b[38;5;241m0\u001b[39m:\n\u001b[0;32m--> 300\u001b[0m     \u001b[38;5;28;01mraise\u001b[39;00m QiskitError(\u001b[38;5;124m\"\u001b[39m\u001b[38;5;124mAt least one measurement must be present in each schedule.\u001b[39m\u001b[38;5;124m\"\u001b[39m)\n\u001b[1;32m    302\u001b[0m start_time \u001b[38;5;241m=\u001b[39m schedule_acquire_times[\u001b[38;5;241m0\u001b[39m]\n\u001b[1;32m    303\u001b[0m \u001b[38;5;28;01mfor\u001b[39;00m time \u001b[38;5;129;01min\u001b[39;00m schedule_acquire_times[\u001b[38;5;241m1\u001b[39m:]:\n",
      "\u001b[0;31mQiskitError\u001b[0m: 'At least one measurement must be present in each schedule.'"
     ]
    }
   ],
   "source": [
    "from qiskit.pulse import library\n",
    "\n",
    "amp = 1\n",
    "sigma = 10\n",
    "num_samples = 64\n",
    "gauss = pulse.library.Gaussian(num_samples, amp, sigma, name=\"Parametric Gauss\")\n",
    "\n",
    "with pulse.build() as schedule:\n",
    "    pulse.play(gauss, pulse.DriveChannel(0))\n",
    "\n",
    "job = backend.run(\n",
    "    schedule, \n",
    "    shots=100, \n",
    "    solver_options=solver_options\n",
    ")"
   ]
  },
  {
   "cell_type": "markdown",
   "id": "ed0472d8",
   "metadata": {},
   "source": [
    "## 3. Relabeling subsystems\n",
    "\n",
    "When building `PulseSimulator` instances from real backends, we will select a subset of qubits. A user should be able to interact with the instance by using the original qubit labels."
   ]
  },
  {
   "cell_type": "code",
   "execution_count": 6,
   "id": "329e2a2b",
   "metadata": {},
   "outputs": [],
   "source": [
    "solver = Solver(\n",
    "    static_hamiltonian=static_ham,\n",
    "    hamiltonian_operators=[drive_op],\n",
    "    hamiltonian_channels=['d1'],\n",
    "    channel_carrier_freqs={'d1': 5.},\n",
    "    dt=0.1,\n",
    "    rotating_frame=static_ham\n",
    ")\n",
    "\n",
    "backend_relabeled = PulseSimulator(solver=solver, subsystem_dims=[2], subsystem_labels=[1])"
   ]
  },
  {
   "cell_type": "code",
   "execution_count": 7,
   "id": "e9db209b",
   "metadata": {},
   "outputs": [
    {
     "data": {
      "text/plain": [
       "[Result(backend_name='PulseSimulator', backend_version='0.1', qobj_id='None', job_id='3cef2a06-04bc-4555-abba-c0ef23def824', success=True, results={'counts': {'0': 83, '1': 17}}, date=2022-10-14T11:49:25.989716, status=None, header=None)]"
      ]
     },
     "execution_count": 7,
     "metadata": {},
     "output_type": "execute_result"
    }
   ],
   "source": [
    "with pulse.build() as schedule:\n",
    "    with pulse.align_right():\n",
    "        pulse.play(gauss, pulse.DriveChannel(1))\n",
    "        pulse.acquire(duration=1, qubit_or_channel=1, register=pulse.RegisterSlot(1))\n",
    "\n",
    "job = backend_relabeled.run(\n",
    "    schedule, \n",
    "    shots=100, \n",
    "    solver_options=solver_options\n",
    ")\n",
    "\n",
    "job.result()"
   ]
  },
  {
   "cell_type": "markdown",
   "id": "353b2d5a",
   "metadata": {},
   "source": [
    "Rerun the schedule attempting to measure qubit `0`, which doesn't exist."
   ]
  },
  {
   "cell_type": "code",
   "execution_count": 8,
   "id": "3da77e9d",
   "metadata": {
    "tags": [
     "raises-exception"
    ]
   },
   "outputs": [
    {
     "ename": "QiskitError",
     "evalue": "'Attempted to measure subsystem 0, but it is not in subsystem_list.'",
     "output_type": "error",
     "traceback": [
      "\u001b[0;31m---------------------------------------------------------------------------\u001b[0m",
      "\u001b[0;31mQiskitError\u001b[0m                               Traceback (most recent call last)",
      "Input \u001b[0;32mIn [8]\u001b[0m, in \u001b[0;36m<module>\u001b[0;34m\u001b[0m\n\u001b[1;32m      3\u001b[0m         pulse\u001b[38;5;241m.\u001b[39mplay(gauss, pulse\u001b[38;5;241m.\u001b[39mDriveChannel(\u001b[38;5;241m1\u001b[39m))\n\u001b[1;32m      4\u001b[0m         pulse\u001b[38;5;241m.\u001b[39macquire(duration\u001b[38;5;241m=\u001b[39m\u001b[38;5;241m1\u001b[39m, qubit_or_channel\u001b[38;5;241m=\u001b[39m\u001b[38;5;241m0\u001b[39m, register\u001b[38;5;241m=\u001b[39mpulse\u001b[38;5;241m.\u001b[39mRegisterSlot(\u001b[38;5;241m1\u001b[39m))\n\u001b[0;32m----> 6\u001b[0m job \u001b[38;5;241m=\u001b[39m \u001b[43mbackend_relabeled\u001b[49m\u001b[38;5;241;43m.\u001b[39;49m\u001b[43mrun\u001b[49m\u001b[43m(\u001b[49m\n\u001b[1;32m      7\u001b[0m \u001b[43m    \u001b[49m\u001b[43mschedule\u001b[49m\u001b[43m,\u001b[49m\u001b[43m \u001b[49m\n\u001b[1;32m      8\u001b[0m \u001b[43m    \u001b[49m\u001b[43mshots\u001b[49m\u001b[38;5;241;43m=\u001b[39;49m\u001b[38;5;241;43m100\u001b[39;49m\u001b[43m,\u001b[49m\u001b[43m \u001b[49m\n\u001b[1;32m      9\u001b[0m \u001b[43m    \u001b[49m\u001b[43msolver_options\u001b[49m\u001b[38;5;241;43m=\u001b[39;49m\u001b[43msolver_options\u001b[49m\n\u001b[1;32m     10\u001b[0m \u001b[43m)\u001b[49m\n\u001b[1;32m     12\u001b[0m job\u001b[38;5;241m.\u001b[39mresult()\n",
      "File \u001b[0;32m~/Documents/projects/qiskit-dynamics/qiskit_dynamics/pulse/pulse_simulator.py:189\u001b[0m, in \u001b[0;36mPulseSimulator.run\u001b[0;34m(self, run_input, shots, y0, validate, solver_options, **options)\u001b[0m\n\u001b[1;32m    177\u001b[0m job_id \u001b[38;5;241m=\u001b[39m \u001b[38;5;28mstr\u001b[39m(uuid\u001b[38;5;241m.\u001b[39muuid4())\n\u001b[1;32m    178\u001b[0m dynamics_job \u001b[38;5;241m=\u001b[39m DynamicsJob(\n\u001b[1;32m    179\u001b[0m     backend\u001b[38;5;241m=\u001b[39m\u001b[38;5;28mself\u001b[39m,\n\u001b[1;32m    180\u001b[0m     job_id\u001b[38;5;241m=\u001b[39mjob_id,\n\u001b[0;32m   (...)\u001b[0m\n\u001b[1;32m    187\u001b[0m     }\n\u001b[1;32m    188\u001b[0m )\n\u001b[0;32m--> 189\u001b[0m \u001b[43mdynamics_job\u001b[49m\u001b[38;5;241;43m.\u001b[39;49m\u001b[43msubmit\u001b[49m\u001b[43m(\u001b[49m\u001b[43m)\u001b[49m\n\u001b[1;32m    191\u001b[0m \u001b[38;5;28;01mreturn\u001b[39;00m dynamics_job\n",
      "File \u001b[0;32m~/Documents/projects/qiskit-dynamics/qiskit_dynamics/pulse/dynamics_job.py:57\u001b[0m, in \u001b[0;36mDynamicsJob.submit\u001b[0;34m(self)\u001b[0m\n\u001b[1;32m     55\u001b[0m \u001b[38;5;28;01mif\u001b[39;00m \u001b[38;5;28mself\u001b[39m\u001b[38;5;241m.\u001b[39m_result \u001b[38;5;129;01mis\u001b[39;00m \u001b[38;5;129;01mnot\u001b[39;00m \u001b[38;5;28;01mNone\u001b[39;00m:\n\u001b[1;32m     56\u001b[0m     \u001b[38;5;28;01mraise\u001b[39;00m JobError(\u001b[38;5;124m\"\u001b[39m\u001b[38;5;124mDynamics job has already been submitted.\u001b[39m\u001b[38;5;124m\"\u001b[39m)\n\u001b[0;32m---> 57\u001b[0m \u001b[38;5;28mself\u001b[39m\u001b[38;5;241m.\u001b[39m_result \u001b[38;5;241m=\u001b[39m \u001b[38;5;28;43mself\u001b[39;49m\u001b[38;5;241;43m.\u001b[39;49m\u001b[43m_fn\u001b[49m\u001b[43m(\u001b[49m\u001b[43mjob_id\u001b[49m\u001b[38;5;241;43m=\u001b[39;49m\u001b[38;5;28;43mself\u001b[39;49m\u001b[38;5;241;43m.\u001b[39;49m\u001b[43mjob_id\u001b[49m\u001b[43m(\u001b[49m\u001b[43m)\u001b[49m\u001b[43m,\u001b[49m\u001b[43m \u001b[49m\u001b[38;5;241;43m*\u001b[39;49m\u001b[38;5;241;43m*\u001b[39;49m\u001b[38;5;28;43mself\u001b[39;49m\u001b[38;5;241;43m.\u001b[39;49m\u001b[43m_fn_kwargs\u001b[49m\u001b[43m)\u001b[49m\n",
      "File \u001b[0;32m~/Documents/projects/qiskit-dynamics/qiskit_dynamics/pulse/pulse_simulator.py:217\u001b[0m, in \u001b[0;36mPulseSimulator._run\u001b[0;34m(self, job_id, t_span, y0, schedules, solver_options, measurement_subsystems_list, shots)\u001b[0m\n\u001b[1;32m    215\u001b[0m             new_measurement_subsystems\u001b[38;5;241m.\u001b[39mappend(\u001b[38;5;28mself\u001b[39m\u001b[38;5;241m.\u001b[39msubsystem_labels\u001b[38;5;241m.\u001b[39mindex(subsystem))\n\u001b[1;32m    216\u001b[0m         \u001b[38;5;28;01melse\u001b[39;00m:\n\u001b[0;32m--> 217\u001b[0m             \u001b[38;5;28;01mraise\u001b[39;00m QiskitError(\u001b[38;5;124mf\u001b[39m\u001b[38;5;124m'\u001b[39m\u001b[38;5;124mAttempted to measure subsystem \u001b[39m\u001b[38;5;132;01m{\u001b[39;00msubsystem\u001b[38;5;132;01m}\u001b[39;00m\u001b[38;5;124m, but it is not in subsystem_list.\u001b[39m\u001b[38;5;124m'\u001b[39m)\n\u001b[1;32m    218\u001b[0m     new_measurement_subsystems_list\u001b[38;5;241m.\u001b[39mappend(new_measurement_subsystems)\n\u001b[1;32m    220\u001b[0m measurement_subsystems_list \u001b[38;5;241m=\u001b[39m new_measurement_subsystems_list\n",
      "\u001b[0;31mQiskitError\u001b[0m: 'Attempted to measure subsystem 0, but it is not in subsystem_list.'"
     ]
    }
   ],
   "source": [
    "with pulse.build() as schedule:\n",
    "    with pulse.align_right():\n",
    "        pulse.play(gauss, pulse.DriveChannel(1))\n",
    "        pulse.acquire(duration=1, qubit_or_channel=0, register=pulse.RegisterSlot(1))\n",
    "\n",
    "job = backend_relabeled.run(\n",
    "    schedule, \n",
    "    shots=100, \n",
    "    solver_options=solver_options\n",
    ")\n",
    "\n",
    "job.result()"
   ]
  },
  {
   "cell_type": "code",
   "execution_count": null,
   "id": "f6053380",
   "metadata": {},
   "outputs": [],
   "source": []
  }
 ],
 "metadata": {
  "kernelspec": {
   "display_name": "Python 3 (ipykernel)",
   "language": "python",
   "name": "python3"
  },
  "language_info": {
   "codemirror_mode": {
    "name": "ipython",
    "version": 3
   },
   "file_extension": ".py",
   "mimetype": "text/x-python",
   "name": "python",
   "nbconvert_exporter": "python",
   "pygments_lexer": "ipython3",
   "version": "3.10.2"
  }
 },
 "nbformat": 4,
 "nbformat_minor": 5
}
