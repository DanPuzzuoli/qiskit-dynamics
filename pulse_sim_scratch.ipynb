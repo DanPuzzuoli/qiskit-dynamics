{
 "cells": [
  {
   "cell_type": "code",
   "execution_count": 1,
   "id": "4c550b47",
   "metadata": {},
   "outputs": [],
   "source": [
    "import numpy as np\n",
    "\n",
    "from qiskit_dynamics.pulse.pulse_utils import tensor_state_label_generator, get_dressed_state_data"
   ]
  },
  {
   "cell_type": "code",
   "execution_count": 2,
   "id": "1a7d1208",
   "metadata": {},
   "outputs": [
    {
     "data": {
      "text/plain": [
       "['000',\n",
       " '001',\n",
       " '002',\n",
       " '010',\n",
       " '011',\n",
       " '012',\n",
       " '020',\n",
       " '021',\n",
       " '022',\n",
       " '100',\n",
       " '101',\n",
       " '102',\n",
       " '110',\n",
       " '111',\n",
       " '112',\n",
       " '120',\n",
       " '121',\n",
       " '122']"
      ]
     },
     "execution_count": 2,
     "metadata": {},
     "output_type": "execute_result"
    }
   ],
   "source": [
    "tensor_state_label_generator(subsystem_dims=[3, 3, 2])"
   ]
  },
  {
   "cell_type": "code",
   "execution_count": 3,
   "id": "4a5f3278",
   "metadata": {},
   "outputs": [
    {
     "data": {
      "text/plain": [
       "(array([-1.,  1.]),\n",
       " array([[1., 0.],\n",
       "        [0., 1.]]))"
      ]
     },
     "execution_count": 3,
     "metadata": {},
     "output_type": "execute_result"
    }
   ],
   "source": [
    "get_dressed_state_data(np.array([[-1., 0.], [0., 1.]]), subsystem_dims=[2])"
   ]
  },
  {
   "cell_type": "code",
   "execution_count": 4,
   "id": "3f90d34e",
   "metadata": {},
   "outputs": [
    {
     "data": {
      "text/plain": [
       "0"
      ]
     },
     "execution_count": 4,
     "metadata": {},
     "output_type": "execute_result"
    }
   ],
   "source": [
    "test[-3]"
   ]
  },
  {
   "cell_type": "code",
   "execution_count": 5,
   "id": "b959b4da",
   "metadata": {},
   "outputs": [
    {
     "data": {
      "text/plain": [
       "[0, 0, 0, 1]"
      ]
     },
     "execution_count": 5,
     "metadata": {},
     "output_type": "execute_result"
    }
   ],
   "source": [
    "[0, 0, 0] + [1]"
   ]
  },
  {
   "cell_type": "code",
   "execution_count": 6,
   "id": "080eb73b",
   "metadata": {},
   "outputs": [
    {
     "data": {
      "text/plain": [
       "[1]"
      ]
     },
     "execution_count": 6,
     "metadata": {},
     "output_type": "execute_result"
    }
   ],
   "source": [
    "[] + [1]"
   ]
  },
  {
   "cell_type": "code",
   "execution_count": 7,
   "id": "128feefd",
   "metadata": {},
   "outputs": [
    {
     "data": {
      "text/plain": [
       "[]"
      ]
     },
     "execution_count": 7,
     "metadata": {},
     "output_type": "execute_result"
    }
   ],
   "source": [
    "[1][1:]"
   ]
  },
  {
   "cell_type": "code",
   "execution_count": 8,
   "id": "b7ec8ac4",
   "metadata": {},
   "outputs": [
    {
     "data": {
      "text/plain": [
       "[1]"
      ]
     },
     "execution_count": 8,
     "metadata": {},
     "output_type": "execute_result"
    }
   ],
   "source": [
    "list(range(1, 2))"
   ]
  },
  {
   "cell_type": "code",
   "execution_count": 12,
   "id": "f00f132e",
   "metadata": {},
   "outputs": [],
   "source": [
    "from qiskit.quantum_info import Statevector"
   ]
  },
  {
   "cell_type": "code",
   "execution_count": 35,
   "id": "1a1f4973",
   "metadata": {},
   "outputs": [],
   "source": [
    "test = Statevector(np.sqrt([0, 0.5, 0.25, 0.25, 0., 0.]), dims=(3,2))"
   ]
  },
  {
   "cell_type": "code",
   "execution_count": 36,
   "id": "0227cdca",
   "metadata": {},
   "outputs": [
    {
     "data": {
      "text/plain": [
       "array([0.  , 0.5 , 0.25, 0.25, 0.  , 0.  ])"
      ]
     },
     "execution_count": 36,
     "metadata": {},
     "output_type": "execute_result"
    }
   ],
   "source": [
    "test.probabilities()"
   ]
  },
  {
   "cell_type": "code",
   "execution_count": 37,
   "id": "0f3619cd",
   "metadata": {},
   "outputs": [
    {
     "data": {
      "text/plain": [
       "{'01': 0.5000000000000001, '02': 0.25, '10': 0.25}"
      ]
     },
     "execution_count": 37,
     "metadata": {},
     "output_type": "execute_result"
    }
   ],
   "source": [
    "test.probabilities_dict()"
   ]
  },
  {
   "cell_type": "code",
   "execution_count": 38,
   "id": "0a713a65",
   "metadata": {},
   "outputs": [],
   "source": [
    "test = [1, 2, 3]"
   ]
  },
  {
   "cell_type": "code",
   "execution_count": 39,
   "id": "dad6f489",
   "metadata": {},
   "outputs": [],
   "source": [
    "test.append(4)"
   ]
  },
  {
   "cell_type": "code",
   "execution_count": 40,
   "id": "c3ad1313",
   "metadata": {},
   "outputs": [
    {
     "data": {
      "text/plain": [
       "[1, 2, 3, 4]"
      ]
     },
     "execution_count": 40,
     "metadata": {},
     "output_type": "execute_result"
    }
   ],
   "source": [
    "test"
   ]
  },
  {
   "cell_type": "code",
   "execution_count": null,
   "id": "1853dfc7",
   "metadata": {},
   "outputs": [],
   "source": []
  }
 ],
 "metadata": {
  "kernelspec": {
   "display_name": "Python 3 (ipykernel)",
   "language": "python",
   "name": "python3"
  },
  "language_info": {
   "codemirror_mode": {
    "name": "ipython",
    "version": 3
   },
   "file_extension": ".py",
   "mimetype": "text/x-python",
   "name": "python",
   "nbconvert_exporter": "python",
   "pygments_lexer": "ipython3",
   "version": "3.10.2"
  }
 },
 "nbformat": 4,
 "nbformat_minor": 5
}
