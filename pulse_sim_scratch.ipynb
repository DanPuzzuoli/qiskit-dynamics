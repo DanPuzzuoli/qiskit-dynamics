{
 "cells": [
  {
   "cell_type": "code",
   "execution_count": 1,
   "id": "f9b073d6",
   "metadata": {},
   "outputs": [],
   "source": [
    "import numpy as np\n",
    "\n",
    "from qiskit_dynamics.pulse.pulse_utils import tensor_state_label_generator, get_dressed_state_data"
   ]
  },
  {
   "cell_type": "code",
   "execution_count": 2,
   "id": "53f9843d",
   "metadata": {},
   "outputs": [
    {
     "data": {
      "text/plain": [
       "['000',\n",
       " '001',\n",
       " '002',\n",
       " '010',\n",
       " '011',\n",
       " '012',\n",
       " '020',\n",
       " '021',\n",
       " '022',\n",
       " '100',\n",
       " '101',\n",
       " '102',\n",
       " '110',\n",
       " '111',\n",
       " '112',\n",
       " '120',\n",
       " '121',\n",
       " '122']"
      ]
     },
     "execution_count": 2,
     "metadata": {},
     "output_type": "execute_result"
    }
   ],
   "source": [
    "tensor_state_label_generator(subsystem_dims=[3, 3, 2])"
   ]
  },
  {
   "cell_type": "code",
   "execution_count": 3,
   "id": "bed40f8d",
   "metadata": {},
   "outputs": [
    {
     "data": {
      "text/plain": [
       "(array([-1.,  1.]),\n",
       " array([[1., 0.],\n",
       "        [0., 1.]]))"
      ]
     },
     "execution_count": 3,
     "metadata": {},
     "output_type": "execute_result"
    }
   ],
   "source": [
    "get_dressed_state_data(np.array([[-1., 0.], [0., 1.]]), subsystem_dims=[2])"
   ]
  },
  {
   "cell_type": "code",
   "execution_count": 4,
   "id": "4baf26b6",
   "metadata": {},
   "outputs": [
    {
     "data": {
      "text/plain": [
       "0"
      ]
     },
     "execution_count": 4,
     "metadata": {},
     "output_type": "execute_result"
    }
   ],
   "source": [
    "test[-3]"
   ]
  },
  {
   "cell_type": "code",
   "execution_count": 5,
   "id": "272207f6",
   "metadata": {},
   "outputs": [
    {
     "data": {
      "text/plain": [
       "[0, 0, 0, 1]"
      ]
     },
     "execution_count": 5,
     "metadata": {},
     "output_type": "execute_result"
    }
   ],
   "source": [
    "[0, 0, 0] + [1]"
   ]
  },
  {
   "cell_type": "code",
   "execution_count": 6,
   "id": "d99f1151",
   "metadata": {},
   "outputs": [
    {
     "data": {
      "text/plain": [
       "[1]"
      ]
     },
     "execution_count": 6,
     "metadata": {},
     "output_type": "execute_result"
    }
   ],
   "source": [
    "[] + [1]"
   ]
  },
  {
   "cell_type": "code",
   "execution_count": 7,
   "id": "870f8b2c",
   "metadata": {},
   "outputs": [
    {
     "data": {
      "text/plain": [
       "[]"
      ]
     },
     "execution_count": 7,
     "metadata": {},
     "output_type": "execute_result"
    }
   ],
   "source": [
    "[1][1:]"
   ]
  },
  {
   "cell_type": "code",
   "execution_count": 8,
   "id": "7837aed2",
   "metadata": {},
   "outputs": [
    {
     "data": {
      "text/plain": [
       "[1]"
      ]
     },
     "execution_count": 8,
     "metadata": {},
     "output_type": "execute_result"
    }
   ],
   "source": [
    "list(range(1, 2))"
   ]
  },
  {
   "cell_type": "code",
   "execution_count": 5,
   "id": "d913163b",
   "metadata": {},
   "outputs": [],
   "source": [
    "from qiskit.quantum_info import Statevector, DensityMatrix"
   ]
  },
  {
   "cell_type": "code",
   "execution_count": 7,
   "id": "581c0f39",
   "metadata": {},
   "outputs": [],
   "source": [
    "test = Statevector(np.sqrt([0, 0.5, 0.25, 0.25, 0., 0.]), dims=(3,2))"
   ]
  },
  {
   "cell_type": "code",
   "execution_count": 36,
   "id": "a3e9345b",
   "metadata": {},
   "outputs": [
    {
     "data": {
      "text/plain": [
       "array([0.  , 0.5 , 0.25, 0.25, 0.  , 0.  ])"
      ]
     },
     "execution_count": 36,
     "metadata": {},
     "output_type": "execute_result"
    }
   ],
   "source": [
    "test.probabilities()"
   ]
  },
  {
   "cell_type": "code",
   "execution_count": 10,
   "id": "8f4caeee",
   "metadata": {},
   "outputs": [
    {
     "name": "stdout",
     "output_type": "stream",
     "text": [
      "Help on method sample_counts in module qiskit.quantum_info.states.quantum_state:\n",
      "\n",
      "sample_counts(shots, qargs=None) method of qiskit.quantum_info.states.statevector.Statevector instance\n",
      "    Sample a dict of qubit measurement outcomes in the computational basis.\n",
      "    \n",
      "    Args:\n",
      "        shots (int): number of samples to generate.\n",
      "        qargs (None or list): subsystems to sample measurements for,\n",
      "                            if None sample measurement of all\n",
      "                            subsystems (Default: None).\n",
      "    \n",
      "    Returns:\n",
      "        Counts: sampled counts dictionary.\n",
      "    \n",
      "    Additional Information:\n",
      "    \n",
      "        This function *samples* measurement outcomes using the measure\n",
      "        :meth:`probabilities` for the current state and `qargs`. It does\n",
      "        not actually implement the measurement so the current state is\n",
      "        not modified.\n",
      "    \n",
      "        The seed for random number generator used for sampling can be\n",
      "        set to a fixed value by using the stats :meth:`seed` method.\n",
      "\n"
     ]
    }
   ],
   "source": [
    "help(test.sample_counts)"
   ]
  },
  {
   "cell_type": "code",
   "execution_count": 38,
   "id": "59b89060",
   "metadata": {},
   "outputs": [],
   "source": [
    "test = [1, 2, 3]"
   ]
  },
  {
   "cell_type": "code",
   "execution_count": 39,
   "id": "104a4fc9",
   "metadata": {},
   "outputs": [],
   "source": [
    "test.append(4)"
   ]
  },
  {
   "cell_type": "code",
   "execution_count": 40,
   "id": "46122ec2",
   "metadata": {},
   "outputs": [
    {
     "data": {
      "text/plain": [
       "[1, 2, 3, 4]"
      ]
     },
     "execution_count": 40,
     "metadata": {},
     "output_type": "execute_result"
    }
   ],
   "source": [
    "test"
   ]
  },
  {
   "cell_type": "code",
   "execution_count": null,
   "id": "a3a45a29",
   "metadata": {},
   "outputs": [],
   "source": []
  }
 ],
 "metadata": {
  "kernelspec": {
   "display_name": "Python 3 (ipykernel)",
   "language": "python",
   "name": "python3"
  },
  "language_info": {
   "codemirror_mode": {
    "name": "ipython",
    "version": 3
   },
   "file_extension": ".py",
   "mimetype": "text/x-python",
   "name": "python",
   "nbconvert_exporter": "python",
   "pygments_lexer": "ipython3",
   "version": "3.10.2"
  }
 },
 "nbformat": 4,
 "nbformat_minor": 5
}
