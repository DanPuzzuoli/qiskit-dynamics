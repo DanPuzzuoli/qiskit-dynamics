{
 "cells": [
  {
   "cell_type": "code",
   "execution_count": 1,
   "id": "da03ea91",
   "metadata": {},
   "outputs": [],
   "source": [
    "import numpy as np\n",
    "\n",
    "from qiskit_dynamics.pulse.pulse_utils import tensor_state_label_generator, get_dressed_state_data"
   ]
  },
  {
   "cell_type": "code",
   "execution_count": 2,
   "id": "8b73bb99",
   "metadata": {},
   "outputs": [
    {
     "data": {
      "text/plain": [
       "['000',\n",
       " '001',\n",
       " '002',\n",
       " '010',\n",
       " '011',\n",
       " '012',\n",
       " '020',\n",
       " '021',\n",
       " '022',\n",
       " '100',\n",
       " '101',\n",
       " '102',\n",
       " '110',\n",
       " '111',\n",
       " '112',\n",
       " '120',\n",
       " '121',\n",
       " '122']"
      ]
     },
     "execution_count": 2,
     "metadata": {},
     "output_type": "execute_result"
    }
   ],
   "source": [
    "tensor_state_label_generator(subsystem_dims=[3, 3, 2])"
   ]
  },
  {
   "cell_type": "code",
   "execution_count": 3,
   "id": "1c73ba86",
   "metadata": {},
   "outputs": [
    {
     "data": {
      "text/plain": [
       "(array([-1.,  1.]),\n",
       " array([[1., 0.],\n",
       "        [0., 1.]]))"
      ]
     },
     "execution_count": 3,
     "metadata": {},
     "output_type": "execute_result"
    }
   ],
   "source": [
    "get_dressed_state_data(np.array([[-1., 0.], [0., 1.]]), subsystem_dims=[2])"
   ]
  },
  {
   "cell_type": "code",
   "execution_count": 4,
   "id": "6f71a1d4",
   "metadata": {},
   "outputs": [
    {
     "data": {
      "text/plain": [
       "0"
      ]
     },
     "execution_count": 4,
     "metadata": {},
     "output_type": "execute_result"
    }
   ],
   "source": [
    "test[-3]"
   ]
  },
  {
   "cell_type": "code",
   "execution_count": 5,
   "id": "3bb8524d",
   "metadata": {},
   "outputs": [
    {
     "data": {
      "text/plain": [
       "[0, 0, 0, 1]"
      ]
     },
     "execution_count": 5,
     "metadata": {},
     "output_type": "execute_result"
    }
   ],
   "source": [
    "[0, 0, 0] + [1]"
   ]
  },
  {
   "cell_type": "code",
   "execution_count": 6,
   "id": "34f29d60",
   "metadata": {},
   "outputs": [
    {
     "data": {
      "text/plain": [
       "[1]"
      ]
     },
     "execution_count": 6,
     "metadata": {},
     "output_type": "execute_result"
    }
   ],
   "source": [
    "[] + [1]"
   ]
  },
  {
   "cell_type": "code",
   "execution_count": 7,
   "id": "90c9f433",
   "metadata": {},
   "outputs": [
    {
     "data": {
      "text/plain": [
       "[]"
      ]
     },
     "execution_count": 7,
     "metadata": {},
     "output_type": "execute_result"
    }
   ],
   "source": [
    "[1][1:]"
   ]
  },
  {
   "cell_type": "code",
   "execution_count": 8,
   "id": "ea7e35bc",
   "metadata": {},
   "outputs": [
    {
     "data": {
      "text/plain": [
       "[1]"
      ]
     },
     "execution_count": 8,
     "metadata": {},
     "output_type": "execute_result"
    }
   ],
   "source": [
    "list(range(1, 2))"
   ]
  },
  {
   "cell_type": "code",
   "execution_count": 5,
   "id": "d010be55",
   "metadata": {},
   "outputs": [],
   "source": [
    "from qiskit.quantum_info import Statevector, DensityMatrix"
   ]
  },
  {
   "cell_type": "code",
   "execution_count": 11,
   "id": "cfc4f21d",
   "metadata": {},
   "outputs": [],
   "source": [
    "test = Statevector(np.sqrt([0, 0.5, 0.25, 0.25, 0., 0.]), dims=(3,2))"
   ]
  },
  {
   "cell_type": "code",
   "execution_count": 12,
   "id": "3fea056b",
   "metadata": {},
   "outputs": [
    {
     "data": {
      "text/plain": [
       "array([0.  , 0.5 , 0.25, 0.25, 0.  , 0.  ])"
      ]
     },
     "execution_count": 12,
     "metadata": {},
     "output_type": "execute_result"
    }
   ],
   "source": [
    "test.probabilities()"
   ]
  },
  {
   "cell_type": "code",
   "execution_count": 21,
   "id": "a5403449",
   "metadata": {},
   "outputs": [
    {
     "data": {
      "text/plain": [
       "{'0': 2, '1': 3}"
      ]
     },
     "execution_count": 21,
     "metadata": {},
     "output_type": "execute_result"
    }
   ],
   "source": [
    "test.sample_counts(shots=5, qargs=[0])"
   ]
  },
  {
   "cell_type": "code",
   "execution_count": 10,
   "id": "f8a017cb",
   "metadata": {},
   "outputs": [
    {
     "name": "stdout",
     "output_type": "stream",
     "text": [
      "Help on method sample_counts in module qiskit.quantum_info.states.quantum_state:\n",
      "\n",
      "sample_counts(shots, qargs=None) method of qiskit.quantum_info.states.statevector.Statevector instance\n",
      "    Sample a dict of qubit measurement outcomes in the computational basis.\n",
      "    \n",
      "    Args:\n",
      "        shots (int): number of samples to generate.\n",
      "        qargs (None or list): subsystems to sample measurements for,\n",
      "                            if None sample measurement of all\n",
      "                            subsystems (Default: None).\n",
      "    \n",
      "    Returns:\n",
      "        Counts: sampled counts dictionary.\n",
      "    \n",
      "    Additional Information:\n",
      "    \n",
      "        This function *samples* measurement outcomes using the measure\n",
      "        :meth:`probabilities` for the current state and `qargs`. It does\n",
      "        not actually implement the measurement so the current state is\n",
      "        not modified.\n",
      "    \n",
      "        The seed for random number generator used for sampling can be\n",
      "        set to a fixed value by using the stats :meth:`seed` method.\n",
      "\n"
     ]
    }
   ],
   "source": [
    "help(test.sample_counts)"
   ]
  },
  {
   "cell_type": "code",
   "execution_count": 38,
   "id": "1111d249",
   "metadata": {},
   "outputs": [],
   "source": [
    "test = [1, 2, 3]"
   ]
  },
  {
   "cell_type": "code",
   "execution_count": 39,
   "id": "63dae974",
   "metadata": {},
   "outputs": [],
   "source": [
    "test.append(4)"
   ]
  },
  {
   "cell_type": "code",
   "execution_count": 40,
   "id": "6b3e2c5b",
   "metadata": {},
   "outputs": [
    {
     "data": {
      "text/plain": [
       "[1, 2, 3, 4]"
      ]
     },
     "execution_count": 40,
     "metadata": {},
     "output_type": "execute_result"
    }
   ],
   "source": [
    "test"
   ]
  },
  {
   "cell_type": "code",
   "execution_count": null,
   "id": "80da75b2",
   "metadata": {},
   "outputs": [],
   "source": []
  }
 ],
 "metadata": {
  "kernelspec": {
   "display_name": "Python 3 (ipykernel)",
   "language": "python",
   "name": "python3"
  },
  "language_info": {
   "codemirror_mode": {
    "name": "ipython",
    "version": 3
   },
   "file_extension": ".py",
   "mimetype": "text/x-python",
   "name": "python",
   "nbconvert_exporter": "python",
   "pygments_lexer": "ipython3",
   "version": "3.10.2"
  }
 },
 "nbformat": 4,
 "nbformat_minor": 5
}
