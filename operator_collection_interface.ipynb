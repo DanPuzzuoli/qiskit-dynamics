{
 "cells": [
  {
   "cell_type": "code",
   "execution_count": 1,
   "source": [
    "import numpy as np\n",
    "import matplotlib.pyplot as plt\n",
    "from qiskit_dynamics.models import (\n",
    "    GeneratorModel,\n",
    "    HamiltonianModel,\n",
    "    LindbladModel,\n",
    "\n",
    "    DenseOperatorCollection,\n",
    "    SparseOperatorCollection,\n",
    "    DenseLindbladCollection,\n",
    "    DenseVectorizedLindbladCollection,\n",
    "    SparseLindbladCollection,\n",
    "\n",
    "    perform_rotating_wave_approximation,\n",
    ")\n",
    "from qiskit_dynamics.signals import (\n",
    "    Signal,\n",
    "    SignalList\n",
    ")"
   ],
   "outputs": [],
   "metadata": {}
  },
  {
   "cell_type": "markdown",
   "source": [
    "# In This Demo\n",
    "\n",
    "This demo presents the `operator_collections` functionality for `Model` classes, which effectively function as a calcluation object for the `Model`, so that the actual evaluation functionality of the `Model` is performed by one of its operator collection, not by the model itself. By abstracting the calculation from the `Model` itself, it is now possible to evaluate multiple modes of evaluation–e.g. using sparse matrices to store Hamiltonian components or a vectorized Lindblad evaluation mode–by simply changing an `evaluation_mode` property of the Model. This also enables future development of different evaluation modes as a simple drop-in process: simply create a new `OperatorCollection` that performs the math in the way you want and add a new supported `evaluation_mode` to the `Model` that uses this new collection.\n",
    "\n",
    "We will also discuss the new Rotating Wave Approximation function, which functions by taking in a `Model` and returns a new `Model` with the RWA applied. "
   ],
   "metadata": {}
  },
  {
   "cell_type": "markdown",
   "source": [
    "Let us consider a simple model for a two-level-system, where we use a Hamiltonian of the form $$\\mathcal{H}(t) = \\omega_0\\sigma_z - \\Omega(t)\\cos(2\\pi\\nu t)\\sigma_x\\qquad \\Omega(t) = \\Omega_0 e^{-t^2/2\\tau^2}$$In the language of `qiskit_dynamics`, this is represented as follows:"
   ],
   "metadata": {}
  },
  {
   "cell_type": "code",
   "execution_count": 2,
   "source": [
    "Omega_0 = 0.5\n",
    "tau = 3\n",
    "omega_0 = 2\n",
    "nu = 1/np.pi #2\\pi\\nu = \\omega_0\n",
    "\n",
    "Omega = lambda t: Omega_0 * np.exp(-t**2/(2*tau**2))\n",
    "drive_signal = Signal(Omega,nu,0)\n",
    "\n",
    "times = np.linspace(-10,10,200)\n",
    "plt.plot(times,drive_signal(times))\n",
    "\n",
    "drive_operator = -np.array([[[0,1],[1,0]]])\n",
    "drift_operator = np.array([[1,0],[0,-1]])\n",
    "\n",
    "model = HamiltonianModel(drive_operator,drift=drift_operator,signals=[drive_signal])"
   ],
   "outputs": [
    {
     "output_type": "display_data",
     "data": {
      "text/plain": [
       "<Figure size 432x288 with 1 Axes>"
      ],
      "image/png": "[encoded data removed]"
     },
     "metadata": {
      "needs_background": "light"
     }
    }
   ],
   "metadata": {}
  },
  {
   "cell_type": "markdown",
   "source": [
    "We may generically represent the Schr\\\"odinger equation in natural units for a state $y$ as $$\\dot{y} = -iH(t)y$$`HamiltonianModel` is a model class that is intended to evaluate both $-iH$ and $-iHy$ for a given $t$ and $y$."
   ],
   "metadata": {}
  },
  {
   "cell_type": "code",
   "execution_count": 3,
   "source": [
    "time = 0\n",
    "\n",
    "print(model(time)) # evaluates -iH\n",
    "\n",
    "state = np.array([0,1]) # ground state at t = \\pm\\infty\n",
    "print(model(time,state)) # evaluates -iHy"
   ],
   "outputs": [
    {
     "output_type": "stream",
     "name": "stdout",
     "text": [
      "[[0.-1.j  0.+0.5j]\n",
      " [0.+0.5j 0.+1.j ]]\n",
      "[0.+0.5j 0.+1.j ]\n"
     ]
    }
   ],
   "metadata": {}
  },
  {
   "cell_type": "markdown",
   "source": [
    "Under the hood, the actual evaluation of the model is done by `Model._operator_collection`, which is, by default, a `DenseOperatorCollection`. All `OperatorCollection`s really do is to take in the numeric signal values and return the value of the model in a way that is as optimized for its mode of evaluation as possible. They do not know about a `Model`'s `RotatingFrame` or its actual `SignalList`, and–for the most part–are just taking linear combinations of operators, given a list of coefficients. This makes the generic evaluation process for a `Model` an extremely modular process, where each of the following steps can be modified independently and cleanly: \n",
    "\n",
    "\\begin{enumerate}\n",
    "\n",
    "\\item Pass state to `RotatingFrame` for pre-rotation (if applicable, e.g. $|\\psi\\rangle\\to e^{-iHt}|\\psi\\rangle$) and basis change (if applicable).\n",
    "\n",
    "\\item Get Signal values from `SignalList` object.\n",
    "\n",
    "\\item Pass Signal values and state (if applicable) to `OperatorCollection` to evaluate model.\n",
    "\n",
    "\\item Pass model to `Rotatingframe` for post-rotation (if applicable, e.g. $|\\psi\\rangle \\to e^{iHt}|\\psi\\rangle$) and basis change (if applicable).\n",
    "\n",
    "\\end{enumerate}"
   ],
   "metadata": {}
  },
  {
   "cell_type": "code",
   "execution_count": 4,
   "source": [
    "sig_vals = model.signals(time)\n",
    "\n",
    "print(model._operator_collection(sig_vals))\n",
    "\n",
    "print(model._operator_collection(sig_vals,state))"
   ],
   "outputs": [
    {
     "output_type": "stream",
     "name": "stdout",
     "text": [
      "[[ 1.  -0.5]\n",
      " [-0.5 -1. ]]\n",
      "[-0.5 -1. ]\n"
     ]
    }
   ],
   "metadata": {}
  },
  {
   "cell_type": "markdown",
   "source": [
    "Because `DenseOperatorCollection`s are designed for the more general `GeneratorModel`, rather than the `HamiltonianModel` we are using, it actually evaluates the Hamiltonian $H(0)=\\sigma_z-\\sigma_x/2$. The `HamiltonianModel` simply multiplies this output by $-i$. \n",
    "\n",
    "Because the `OperatorCollection`s are such simple objects, it is a very simple process to simply add a different evaluation mode. Generically, all that needs to be done is to write a new `OperatorCollection` class that performs the math in a particular way, then to add a new possible value for the `Model` class's `evaluation_mode` that sets `Mode._operator_collection` to this new evaluation mode. \n",
    "\n",
    "Having simple support for multiple evaluation modes can be quite important from a user perspective. For example, when Hamiltonian components are mathematically sparse, it may make sense to store only sparse Hamiltonian components. This is accomplished through a simple property change on the user side. "
   ],
   "metadata": {}
  },
  {
   "cell_type": "code",
   "execution_count": 5,
   "source": [
    "model.evaluation_mode = \"sparse\"\n",
    "print(model(time))\n",
    "print(model(time,state))"
   ],
   "outputs": [
    {
     "output_type": "stream",
     "name": "stdout",
     "text": [
      "  (0, 0)\t-1j\n",
      "  (0, 1)\t0.5j\n",
      "  (1, 0)\t0.5j\n",
      "  (1, 1)\t1j\n",
      "[0.+0.5j 0.+1.j ]\n"
     ]
    }
   ],
   "metadata": {}
  },
  {
   "cell_type": "markdown",
   "source": [
    "When we bring a `Model` into the rotating frame (by providing it a `RotatingFrame` object or a\\[n\\] \\[anti\\]hermitian operator), its `OperatorCollection` is automatically transferred into the basis in which the frame operator, $F$, is diagonal: "
   ],
   "metadata": {}
  },
  {
   "cell_type": "code",
   "execution_count": 6,
   "source": [
    "frame_op = np.array([[0,1],[1,0]])\n",
    "\n",
    "model.evaluation_mode = \"sparse\"\n",
    "\n",
    "model.frame = frame_op\n",
    "\n",
    "# In basis in which F is diagonal, \\sigma_x -> \\sigma_z\n",
    "print(model._operator_collection._operators[0].toarray())\n",
    "\n",
    "print(model(time))"
   ],
   "outputs": [
    {
     "output_type": "stream",
     "name": "stdout",
     "text": [
      "[[ 1.+0.j  0.+0.j]\n",
      " [ 0.+0.j -1.+0.j]]\n",
      "[[0.-1.j  0.+1.5j]\n",
      " [0.+1.5j 0.+1.j ]]\n"
     ]
    }
   ],
   "metadata": {}
  },
  {
   "cell_type": "markdown",
   "source": [
    "Frame setting is non-destructive–every time a new frame is set, the operators will be transformed into the new basis appropriately. Let's now go to the more useful, standard rotating frame $|\\psi\\rangle \\to e^{iH't}|\\psi\\rangle $ with $H' = \\omega_0\\sigma_z$. Under these conditions, the effective Hamiltonisn we're dealing with is simply $\\tilde H = H-H' = -\\Omega(t)\\cos(2\\pi\\nu t)\\sigma_x$. At time $t=0$, then, we expect to have our RHS be $i\\sigma_x=-i\\tilde{H}(0)$"
   ],
   "metadata": {}
  },
  {
   "cell_type": "code",
   "execution_count": 7,
   "source": [
    "model.frame = np.array([1,-1])\n",
    "\n",
    "print(model(time))"
   ],
   "outputs": [
    {
     "output_type": "stream",
     "name": "stdout",
     "text": [
      "  (0, 1)\t0.5j\n",
      "  (1, 0)\t0.5j\n"
     ]
    }
   ],
   "metadata": {}
  },
  {
   "cell_type": "markdown",
   "source": [
    "Notice that the output of the model has changed from dense to sparse when we use a diagonal frame. This is because–in general–any non-diagonal frame operator will have some complicated basis transformation to make it diagonal. This complicated basis transformation will tend to make mathematically sparse matrices into mathematically dense ones, hence removing the performance advantage. Thus, we only retain the sparse matrices when the frame is diagonal. \n",
    "\n",
    "We of course also have the option of adding noise/dissipator terms. Once we add these terms, however, our state evolution is best described by the Lindblad equation $$\\dot\\rho = -i[H,\\rho]+\\sum_j \\gamma_j(t)\\left[ L_i\\rho L_i^\\dagger - \\frac{1}{2}\\left\\{L_i^\\dagger L_i,\\rho\\right\\}\\right]$$In particular, let there be just one dissipator term, with $\\gamma=-1$ and $L = |e\\rangle\\langle g|$. The dissipator term of the time evolution should then read $$\\dot\\rho = -i[H,\\rho] + \\begin{pmatrix}-\\rho_{22}&\\rho_{12}/2\\\\\\rho_{21}/2&\\rho_{22}\\end{pmatrix}$$ a nice decay of the excited state. Let's begin with $\\rho = |e\\rangle\\langle e|$"
   ],
   "metadata": {}
  },
  {
   "cell_type": "code",
   "execution_count": 93,
   "source": [
    "rho = np.diag([1,0])\n",
    "dissipator_operators = np.array([[[0,0],[1,0]]])\n",
    "dissipator_signals = Signal(1)\n",
    "\n",
    "dis_model = LindbladModel(drive_operator,hamiltonian_signals=[drive_signal],drift=drift_operator,dissipator_signals=[dissipator_signals],dissipator_operators=dissipator_operators)"
   ],
   "outputs": [],
   "metadata": {}
  },
  {
   "cell_type": "code",
   "execution_count": 94,
   "source": [
    "dis_model(time,rho)"
   ],
   "outputs": [
    {
     "output_type": "execute_result",
     "data": {
      "text/plain": [
       "Array([[-1.+0.j ,  0.-0.5j],\n",
       "       [ 0.+0.5j,  1.+0.j ]], backend='numpy')"
      ]
     },
     "metadata": {},
     "execution_count": 94
    }
   ],
   "metadata": {}
  },
  {
   "cell_type": "code",
   "execution_count": null,
   "source": [],
   "outputs": [],
   "metadata": {}
  }
 ],
 "metadata": {
  "orig_nbformat": 4,
  "language_info": {
   "name": "python",
   "version": "3.9.1",
   "mimetype": "text/x-python",
   "codemirror_mode": {
    "name": "ipython",
    "version": 3
   },
   "pygments_lexer": "ipython3",
   "nbconvert_exporter": "python",
   "file_extension": ".py"
  },
  "kernelspec": {
   "name": "python3",
   "display_name": "Python 3.9.1 64-bit ('base': conda)"
  },
  "interpreter": {
   "hash": "eb411da3053a7693eff01eace9911d65b26ce6d8d2bd8b5334141d8d06adc99c"
  }
 },
 "nbformat": 4,
 "nbformat_minor": 2
}