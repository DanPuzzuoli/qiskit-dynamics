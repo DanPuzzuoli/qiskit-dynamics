{
 "cells": [
  {
   "cell_type": "markdown",
   "id": "d949c146",
   "metadata": {},
   "source": [
    "# How-to use JAX with `qiskit-dynamics`\n",
    "\n",
    "\n",
    "JAX enables just-in-time compilation, automatic differentation, and GPU execution. JAX is integrated into `qiskit-dynamics` via the `dispatch` submodule, which allows most parts of the package to be executed with either `numpy` or `jax.numpy`. \n",
    "\n",
    "This guide addresses the following topics:\n",
    "\n",
    "1. How do I configure dynamics to run with JAX?\n",
    "2. How do I write code using dispatch that can be executed with either `numpy` or JAX?\n",
    "3. How do I write JAX-transformable functions using the objects and functions in `qiskit-dynamics`?\n",
    "4. Gotchas when using JAX with dynamics."
   ]
  },
  {
   "cell_type": "markdown",
   "id": "8441a5eb",
   "metadata": {},
   "source": [
    "## 1. How do I configure dynamics to run with JAX?\n",
    "\n",
    "The `dispatch` submodule provides a means of controlling whether array operations are performed using `numpy` or `jax.numpy`. In many cases, the \"default backend\" is used to determine which of the two options is used."
   ]
  },
  {
   "cell_type": "code",
   "execution_count": 1,
   "id": "1c220976",
   "metadata": {},
   "outputs": [],
   "source": [
    "# configure jax to use 64 bit mode\n",
    "import jax\n",
    "jax.config.update(\"jax_enable_x64\", True)\n",
    "\n",
    "# import dispatch and set default backend\n",
    "from qiskit_dynamics import dispatch\n",
    "dispatch.set_default_backend('jax')"
   ]
  },
  {
   "cell_type": "markdown",
   "id": "91b840d7",
   "metadata": {},
   "source": [
    "The default backend can be observed via:"
   ]
  },
  {
   "cell_type": "code",
   "execution_count": 2,
   "id": "27f1cae2",
   "metadata": {},
   "outputs": [
    {
     "data": {
      "text/plain": [
       "'jax'"
      ]
     },
     "execution_count": 2,
     "metadata": {},
     "output_type": "execute_result"
    }
   ],
   "source": [
    "dispatch.default_backend()"
   ]
  },
  {
   "cell_type": "markdown",
   "id": "e382d4ec",
   "metadata": {},
   "source": [
    "## 2. How do I write code using dispatch that can be executed with either `numpy` or JAX?"
   ]
  },
  {
   "cell_type": "markdown",
   "id": "6baf7b49",
   "metadata": {},
   "source": [
    "The `dispatch.Array` class wraps both `numpy` and `jax.numpy` arrays. The particular type is indicated by the `backend` property, and `numpy` functions called on an `Array` will automatically be dispatched to `numpy` or `jax.numpy` based on the `Array`'s backend. See the API documentation for `qiskit_dynamics.dispatch` for details."
   ]
  },
  {
   "cell_type": "markdown",
   "id": "c15427c4",
   "metadata": {},
   "source": [
    "## 3. How do I write JAX-transformable functions using the objects and functions in `qiskit-dynamics`?\n",
    "\n",
    "JAX-transformable functions must be:\n",
    "- JAX-executable.\n",
    "- Take JAX arrays as input and output (see the [JAX documentation](https://jax.readthedocs.io/en/latest/) for more details on accepted input and output types).\n",
    "- Pure, in the sense that they have no side-effects.\n",
    "\n",
    "The previous section shows how to handle the first two points using `dispatch` and `Array`. The last point further restricts the type of code that can be safely transformed. Dynamics uses various objects which can be updated by setting properties (models, solvers). If a function to be transformed requires updating an already-constructed object of this form, it is necessary to first make a *copy*.\n",
    "\n",
    "We demonstrate this process for both just-in-time compilation and automatic differentiation in the context of an anticipated common use-case: parameterized simulation of a model of a quantum system."
   ]
  },
  {
   "cell_type": "markdown",
   "id": "a140c956",
   "metadata": {},
   "source": [
    "### 3.1 Just-in-time compiling a parameterized simulation\n",
    "\n",
    "Just-in-time compilation is performed using the `jax.jit` function. For convenience, the `dispatch.wrap` function can be used to transform `jax.jit` to also work on functions that have `Array` objects as inputs and outputs."
   ]
  },
  {
   "cell_type": "code",
   "execution_count": 3,
   "id": "afe9f9a0",
   "metadata": {},
   "outputs": [],
   "source": [
    "jit = dispatch.wrap(jax.jit, decorator=True)"
   ]
  },
  {
   "cell_type": "markdown",
   "id": "ab2559f5",
   "metadata": {},
   "source": [
    "Construct a `Solver` instance with a model that will be used to solve."
   ]
  },
  {
   "cell_type": "code",
   "execution_count": 4,
   "id": "eb7fdee7",
   "metadata": {},
   "outputs": [
    {
     "name": "stderr",
     "output_type": "stream",
     "text": [
      "WARNING:absl:No GPU/TPU found, falling back to CPU. (Set TF_CPP_MIN_LOG_LEVEL=0 and rerun for more info.)\n"
     ]
    }
   ],
   "source": [
    "import numpy as np\n",
    "from qiskit.quantum_info import Operator\n",
    "from qiskit_dynamics import Solver\n",
    "from qiskit_dynamics.signals import Signal\n",
    "from qiskit_dynamics.dispatch import Array\n",
    "\n",
    "r = 0.5\n",
    "w = 1.\n",
    "X = Operator.from_label('X')\n",
    "Z = Operator.from_label('Z')\n",
    "\n",
    "static_hamiltonian = 2 * np.pi * w * Z/2\n",
    "hamiltonian_operators = [2 * np.pi * r * X/2]\n",
    "\n",
    "solver = Solver(static_hamiltonian=static_hamiltonian,\n",
    "                hamiltonian_operators=hamiltonian_operators,\n",
    "                rotating_frame=static_hamiltonian)"
   ]
  },
  {
   "cell_type": "markdown",
   "id": "cde8f79e",
   "metadata": {},
   "source": [
    "Next, define the function to be compiled:\n",
    "- The input is the amplitude of a constant-envelope signal on resonance, driven over time $[0, 3]$.\n",
    "- The output is the state of the system, starting in the ground state, at `100` points over the total evolution time."
   ]
  },
  {
   "cell_type": "code",
   "execution_count": 5,
   "id": "8001c570",
   "metadata": {},
   "outputs": [],
   "source": [
    "def sim_function(amp):\n",
    "    \n",
    "    # define a constant signal \n",
    "    amp = Array(amp)\n",
    "    signals = [Signal(amp, carrier_freq=w)]\n",
    "    \n",
    "    # make copy and set signals\n",
    "    solver_copy = solver.copy()\n",
    "    solver.signals = signals\n",
    "    \n",
    "    # simulate and return results\n",
    "    # setting user_frame tells solve that states should be specified and returned in the frame\n",
    "    # of the drift\n",
    "    results = solver_copy.solve(t_span=[0, 3.], \n",
    "                                t_eval=np.linspace(0, 3., 100), \n",
    "                                y0=np.array([0., 1.], dtype=complex),  \n",
    "                                method='jax_odeint')\n",
    "    return results.y"
   ]
  },
  {
   "cell_type": "markdown",
   "id": "788df950",
   "metadata": {},
   "source": [
    "Compile the function."
   ]
  },
  {
   "cell_type": "code",
   "execution_count": 6,
   "id": "97398fe0",
   "metadata": {},
   "outputs": [],
   "source": [
    "fast_sim = jit(sim_function)"
   ]
  },
  {
   "cell_type": "markdown",
   "id": "81b79b77",
   "metadata": {},
   "source": [
    "The first time the function is called, it will compile and then execute. Hence, the time taken  on the first call *includes* compilation time."
   ]
  },
  {
   "cell_type": "code",
   "execution_count": 7,
   "id": "3a11bce4",
   "metadata": {},
   "outputs": [
    {
     "name": "stdout",
     "output_type": "stream",
     "text": [
      "CPU times: user 660 ms, sys: 11.9 ms, total: 672 ms\n",
      "Wall time: 667 ms\n"
     ]
    }
   ],
   "source": [
    "%time ys = fast_sim(1.).block_until_ready()"
   ]
  },
  {
   "cell_type": "markdown",
   "id": "7a36c3bf",
   "metadata": {},
   "source": [
    "On subsequent calls the compiled function is directly executed, demonstrating the true speed of the compiled function."
   ]
  },
  {
   "cell_type": "code",
   "execution_count": 8,
   "id": "5c5cc258",
   "metadata": {},
   "outputs": [
    {
     "name": "stdout",
     "output_type": "stream",
     "text": [
      "86.5 µs ± 1.32 µs per loop (mean ± std. dev. of 7 runs, 10000 loops each)\n"
     ]
    }
   ],
   "source": [
    "%timeit fast_sim(1.).block_until_ready()"
   ]
  },
  {
   "cell_type": "markdown",
   "id": "67e2f620",
   "metadata": {},
   "source": [
    "We use this function to plot the $Z$ expectation value over a range of input amplitudes."
   ]
  },
  {
   "cell_type": "code",
   "execution_count": 9,
   "id": "d7d0cb74",
   "metadata": {},
   "outputs": [
    {
     "data": {
      "image/png": "[encoded data removed]",
      "text/plain": [
       "<Figure size 432x288 with 1 Axes>"
      ]
     },
     "metadata": {
      "needs_background": "light"
     },
     "output_type": "display_data"
    }
   ],
   "source": [
    "import matplotlib.pyplot as plt\n",
    "\n",
    "for amp in np.linspace(0, 1, 10):\n",
    "    ys = fast_sim(amp)\n",
    "    plt.plot(np.linspace(0, 3., 100), np.real(np.abs(ys[:, 0])**2-np.abs(ys[:, 1])**2))"
   ]
  },
  {
   "cell_type": "markdown",
   "id": "3d4e3d65",
   "metadata": {},
   "source": [
    "### 3.2 Automatically differentiating a parameterized simulation"
   ]
  },
  {
   "cell_type": "markdown",
   "id": "65e1fb6c",
   "metadata": {},
   "source": [
    "Next, we use `jax.grad` to automatically differentiate a parameterized simulation. In this case, `jax.grad` requires that the output be a real number, so we specifically compute the population in the excited state at the end of the previous simulation"
   ]
  },
  {
   "cell_type": "code",
   "execution_count": 10,
   "id": "2ab1b182",
   "metadata": {},
   "outputs": [],
   "source": [
    "def excited_state_pop(amp):\n",
    "    yf = sim_function(amp)[-1]\n",
    "    return np.abs(Array(yf[0]))**2"
   ]
  },
  {
   "cell_type": "markdown",
   "id": "834b3ab6",
   "metadata": {},
   "source": [
    "Wrap `jax.grad` in the same way, then differentiate and compile `excited_state_pop`."
   ]
  },
  {
   "cell_type": "code",
   "execution_count": 11,
   "id": "fc8a9ba7",
   "metadata": {},
   "outputs": [],
   "source": [
    "grad = dispatch.wrap(jax.grad, decorator=True)\n",
    "\n",
    "excited_pop_grad = jit(grad(excited_state_pop))"
   ]
  },
  {
   "cell_type": "markdown",
   "id": "334ff697",
   "metadata": {},
   "source": [
    "As before, the first execution includes compilation time."
   ]
  },
  {
   "cell_type": "code",
   "execution_count": 12,
   "id": "8deaf96e",
   "metadata": {},
   "outputs": [
    {
     "name": "stdout",
     "output_type": "stream",
     "text": [
      "CPU times: user 1.73 s, sys: 17.1 ms, total: 1.74 s\n",
      "Wall time: 1.74 s\n"
     ]
    },
    {
     "data": {
      "text/plain": [
       "Array(-2.33674168)"
      ]
     },
     "execution_count": 12,
     "metadata": {},
     "output_type": "execute_result"
    }
   ],
   "source": [
    "%time excited_pop_grad(1.).block_until_ready()"
   ]
  },
  {
   "cell_type": "markdown",
   "id": "a1b02b6a",
   "metadata": {},
   "source": [
    "Subsequent runs of the function reveal the true time."
   ]
  },
  {
   "cell_type": "code",
   "execution_count": 13,
   "id": "29963e60",
   "metadata": {},
   "outputs": [
    {
     "name": "stdout",
     "output_type": "stream",
     "text": [
      "450 µs ± 37.3 µs per loop (mean ± std. dev. of 7 runs, 1000 loops each)\n"
     ]
    }
   ],
   "source": [
    "%timeit excited_pop_grad(1.).block_until_ready()"
   ]
  },
  {
   "cell_type": "markdown",
   "id": "6a32b11f",
   "metadata": {},
   "source": [
    "## 4. Gotchas when using JAX with dynamics\n",
    "\n",
    "### 4.1 JAX must be set as the default backend before building any objects in dynamics\n",
    "\n",
    "To get dynamics to run with JAX, it is necessary to configure dynamics to run with JAX _before_ building any objects or running any functions. The internal behaviour of some objects is modified by what the default backend is _at the time of instantiation_. For example, at instantiation the operators in a model or `Solver` instance will be wrapped in an `Array` whose backend is the current default backend, and changing the default backend after building the object won't change this.\n",
    "\n",
    "### 4.2 Dynamics does not currently support JAX sparse types\n",
    "\n",
    "Sparse evaluation modes for models and solvers cannot be used when JAX is the default backend. Setting a sparse evaluation mode when JAX is the default backend will result in an error."
   ]
  },
  {
   "cell_type": "code",
   "execution_count": null,
   "id": "5ee16847",
   "metadata": {},
   "outputs": [],
   "source": []
  }
 ],
 "metadata": {
  "kernelspec": {
   "display_name": "Python 3",
   "language": "python",
   "name": "python3"
  },
  "language_info": {
   "codemirror_mode": {
    "name": "ipython",
    "version": 3
   },
   "file_extension": ".py",
   "mimetype": "text/x-python",
   "name": "python",
   "nbconvert_exporter": "python",
   "pygments_lexer": "ipython3",
   "version": "3.9.4"
  }
 },
 "nbformat": 4,
 "nbformat_minor": 5
}
