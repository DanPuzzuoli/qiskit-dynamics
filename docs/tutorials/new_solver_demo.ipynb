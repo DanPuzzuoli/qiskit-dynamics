{
 "cells": [
  {
   "cell_type": "code",
   "execution_count": 1,
   "id": "c3da61e1",
   "metadata": {},
   "outputs": [],
   "source": [
    "import numpy as np\n",
    "\n",
    "from qiskit.quantum_info import Statevector, DensityMatrix, SuperOp, Operator, PTM\n",
    "\n",
    "from qiskit_dynamics import Solver\n",
    "from qiskit_dynamics.signals import Signal\n",
    "from qiskit_dynamics.models import GeneratorModel"
   ]
  },
  {
   "cell_type": "markdown",
   "id": "3e0f72ce",
   "metadata": {},
   "source": [
    "The aims of this PR are:\n",
    "- Simplify `solve_lmde` and `solve_ode` to be as close as possible to `solve_ivp` style interface:\n",
    "    - Input RHS functions take in/return arrays.\n",
    "    - No input type-based inference, e.g. special handling of `Statevector`/`DensityMatrix`/`SuperOp`. This will purely treat things as functions and arrays, and if the functions can be evaluated on the input shape it will run.\n",
    "        - One small exception here is: in `solve_lmde`, making sure the system is solved in the basis in which the frame is diagonal saves a lot of multiplications at each evaluation. I think this should be kept, and won't fully violate the above simplification principles.\n",
    "- Add a high level `Solver` class which:\n",
    "    - Directly takes in operators/signals and internally builds the right kind of model: either `HamiltonianModel` or `LindbladModel` depending on if dissipation is present.\n",
    "    - `.solve` method which calls `solve_lmde` with the constructed model, but does a bunch of type handling and automatic decision making based on input types. E.g.\n",
    "        - Conversion of `Statevector` -> `DensityMatrix` for dissipative dynamics.\n",
    "        - Simulate unitary then compose if simulating a `SuperOp` without dissipative dynamics.\n",
    "        - etc...\n",
    "    - Exposes some setter methods for modifying the model, which overrides some of the setting in model.\n",
    "        - E.g. if an RWA is done, there needs to be a mapping on signals, so the signal setter for `Solver` will automatically apply this mapping before passing to the model.\n",
    "\n",
    "\n",
    "Currently: Some prototyping of the `Solver` has been done. Still need to start simplifying `solve_lmde` and `solve_ode`.\n",
    "\n",
    "## 1. Simulate a Hamiltonian\n",
    "\n",
    "Initialize the solver with only Hamiltonian information."
   ]
  },
  {
   "cell_type": "code",
   "execution_count": 2,
   "id": "760264ce",
   "metadata": {},
   "outputs": [],
   "source": [
    "r = 0.5\n",
    "w = 1.\n",
    "\n",
    "ham_ops = [2 * np.pi * r * Operator.from_label('X') /2]\n",
    "drift = 2 * np.pi * w * Operator.from_label('Z') /2\n",
    "\n",
    "ham_solver = Solver(hamiltonian_operators=ham_ops,\n",
    "                    hamiltonian_signals=[Signal(1., w)],\n",
    "                    drift=drift,\n",
    "                    rotating_frame=drift)"
   ]
  },
  {
   "cell_type": "markdown",
   "id": "3bd50839",
   "metadata": {},
   "source": [
    "### 1.1 Passing arrays as initial states\n",
    "\n",
    "The `solve` methods wraps `solve_lmde`, with some special handling depending on the state type. For initial states passed as arrays, they are fed directly to `solve_lmde` (i.e. no assumptions are made on what they are supposed to represent)."
   ]
  },
  {
   "cell_type": "code",
   "execution_count": 3,
   "id": "cb1c0f1a",
   "metadata": {},
   "outputs": [
    {
     "data": {
      "text/plain": [
       "array([-1.0403078e-09-0.99796987j,  3.1073913e-03-0.06361181j])"
      ]
     },
     "execution_count": 3,
     "metadata": {},
     "output_type": "execute_result"
    }
   ],
   "source": [
    "results = ham_solver.solve(t_span=[0., 2.], y0=np.array([0., 1.]), atol=1e-8, rtol=1e-8)\n",
    "results.y[-1]"
   ]
  },
  {
   "cell_type": "markdown",
   "id": "5baf37bb",
   "metadata": {},
   "source": [
    "### 1.2 Evolving density matrices without dissipation\n",
    "\n",
    "We can pass an initial state as a `DensityMatrix`. Since there is only Hamiltonian information, `solve` first computes the unitary, then conjugates the density matrix to get the final state."
   ]
  },
  {
   "cell_type": "code",
   "execution_count": 4,
   "id": "47d727aa",
   "metadata": {
    "scrolled": true
   },
   "outputs": [
    {
     "name": "stdout",
     "output_type": "stream",
     "text": [
      "DensityMatrix([[0.99594386+0.j        , 0.06348267-0.00310108j],\n",
      "               [0.06348267+0.00310108j, 0.00405612+0.j        ]],\n",
      "              dims=(2,))\n"
     ]
    }
   ],
   "source": [
    "results2 = ham_solver.solve(t_span=[0., 2.], y0=DensityMatrix(np.array([0., 1.])), \n",
    "                            atol=1e-8, rtol=1e-8)\n",
    "results2.y[-1]"
   ]
  },
  {
   "cell_type": "markdown",
   "id": "412a3d68",
   "metadata": {},
   "source": [
    "These yield the same results:"
   ]
  },
  {
   "cell_type": "code",
   "execution_count": 5,
   "id": "a7724ed6",
   "metadata": {},
   "outputs": [
    {
     "data": {
      "text/plain": [
       "array([[0.99594386+0.j        , 0.06348267-0.00310108j],\n",
       "       [0.06348267+0.00310108j, 0.00405612+0.j        ]])"
      ]
     },
     "execution_count": 5,
     "metadata": {},
     "output_type": "execute_result"
    }
   ],
   "source": [
    "np.outer(results.y[-1], results.y[-1].conj())"
   ]
  },
  {
   "cell_type": "markdown",
   "id": "cb89b848",
   "metadata": {},
   "source": [
    "### 1.3 Simulating `SuperOp`s"
   ]
  },
  {
   "cell_type": "markdown",
   "id": "a490ae41",
   "metadata": {},
   "source": [
    "If the initial state is a quantum channel, it will compute the unitary and compose."
   ]
  },
  {
   "cell_type": "code",
   "execution_count": 6,
   "id": "d5301fd3",
   "metadata": {},
   "outputs": [
    {
     "data": {
      "text/plain": [
       "PTM([[ 9.99999975e-01+0.j,  0.00000000e+00+0.j,  0.00000000e+00+0.j,\n",
       "       0.00000000e+00+0.j],\n",
       "     [ 0.00000000e+00+0.j,  9.91907050e-01+0.j,  3.95335668e-04+0.j,\n",
       "      -1.26965346e-01+0.j],\n",
       "     [ 0.00000000e+00+0.j, -3.95331515e-04+0.j, -9.99980664e-01+0.j,\n",
       "      -6.20216590e-03+0.j],\n",
       "     [ 0.00000000e+00+0.j, -1.26965346e-01+0.j,  6.20216563e-03+0.j,\n",
       "      -9.91887738e-01+0.j]],\n",
       "    input_dims=(2,), output_dims=(2,))"
      ]
     },
     "execution_count": 6,
     "metadata": {},
     "output_type": "execute_result"
    }
   ],
   "source": [
    "results3 = ham_solver.solve(t_span = [0., 2.], y0=SuperOp(np.eye(4, dtype=complex)),\n",
    "                            atol=1e-8, rtol=1e-8)\n",
    "PTM(results3.y[-1])"
   ]
  },
  {
   "cell_type": "markdown",
   "id": "5a2e7310",
   "metadata": {},
   "source": [
    "Applying the final channel to the density matrix, we get the same output as the previous two calls (what's the right method?):"
   ]
  },
  {
   "cell_type": "code",
   "execution_count": 7,
   "id": "82aba925",
   "metadata": {},
   "outputs": [
    {
     "name": "stdout",
     "output_type": "stream",
     "text": [
      "DensityMatrix([[0.99594386+0.j        , 0.06348267-0.00310108j],\n",
      "               [0.06348267+0.00310108j, 0.00405612+0.j        ]],\n",
      "              dims=(2,))\n"
     ]
    }
   ],
   "source": [
    "results3.y[-1]._evolve(DensityMatrix(np.array([0., 1.])))"
   ]
  },
  {
   "cell_type": "markdown",
   "id": "00bed5db",
   "metadata": {},
   "source": [
    "## 2. Simulating the Lindblad equation\n",
    "\n",
    "If dissipation operators are provided, internally the `Solver` constructs a `LindbladModel`."
   ]
  },
  {
   "cell_type": "code",
   "execution_count": 8,
   "id": "760dc5c4",
   "metadata": {},
   "outputs": [],
   "source": [
    "r = 0.5\n",
    "w = 1.\n",
    "\n",
    "ham_ops = [2 * np.pi * r * Operator.from_label('X') /2]\n",
    "drift = 2 * np.pi * w * Operator.from_label('Z') /2\n",
    "\n",
    "diss_ops = [0.1 * np.array([[0., 0.], [1., 0.]])]\n",
    "\n",
    "lindblad_solver = Solver(hamiltonian_operators=ham_ops,\n",
    "                         hamiltonian_signals=[Signal(1., w)],\n",
    "                         drift=drift,\n",
    "                         rotating_frame=drift,#np.diag(np.array(drift)),\n",
    "                         dissipator_operators=diss_ops)"
   ]
  },
  {
   "cell_type": "markdown",
   "id": "329c5af5",
   "metadata": {},
   "source": [
    "Again, if a raw array is passed, no assumptions are made, and it tries to simulate.\n",
    "\n",
    "Commented out because it raises error, but made a note here to highlight the design choice.\n",
    "\n",
    "- Maybe should do some explicit validation of shapes/dimensions for all types?"
   ]
  },
  {
   "cell_type": "code",
   "execution_count": 9,
   "id": "43c348b1",
   "metadata": {
    "tags": [
     "raises-exception"
    ]
   },
   "outputs": [
    {
     "ename": "QiskitError",
     "evalue": "'Shape mismatch for initial state y0 and LindbladModel.'",
     "output_type": "error",
     "traceback": [
      "\u001b[0;31m---------------------------------------------------------------------------\u001b[0m",
      "\u001b[0;31mQiskitError\u001b[0m                               Traceback (most recent call last)",
      "\u001b[0;32m<ipython-input-9-8b0b98a17d6d>\u001b[0m in \u001b[0;36m<module>\u001b[0;34m\u001b[0m\n\u001b[0;32m----> 1\u001b[0;31m \u001b[0mresults\u001b[0m \u001b[0;34m=\u001b[0m \u001b[0mlindblad_solver\u001b[0m\u001b[0;34m.\u001b[0m\u001b[0msolve\u001b[0m\u001b[0;34m(\u001b[0m\u001b[0mt_span\u001b[0m\u001b[0;34m=\u001b[0m\u001b[0;34m[\u001b[0m\u001b[0;36m0.\u001b[0m\u001b[0;34m,\u001b[0m \u001b[0;36m2.\u001b[0m\u001b[0;34m]\u001b[0m\u001b[0;34m,\u001b[0m \u001b[0my0\u001b[0m\u001b[0;34m=\u001b[0m\u001b[0mnp\u001b[0m\u001b[0;34m.\u001b[0m\u001b[0marray\u001b[0m\u001b[0;34m(\u001b[0m\u001b[0;34m[\u001b[0m\u001b[0;36m0.\u001b[0m\u001b[0;34m,\u001b[0m \u001b[0;36m1.\u001b[0m\u001b[0;34m]\u001b[0m\u001b[0;34m)\u001b[0m\u001b[0;34m)\u001b[0m\u001b[0;34m\u001b[0m\u001b[0;34m\u001b[0m\u001b[0m\n\u001b[0m",
      "\u001b[0;32m~/Documents/projects/qiskit-dynamics/qiskit_dynamics/solver_classes.py\u001b[0m in \u001b[0;36msolve\u001b[0;34m(self, t_span, y0, **kwargs)\u001b[0m\n\u001b[1;32m    249\u001b[0m                 \u001b[0my0\u001b[0m\u001b[0;34m.\u001b[0m\u001b[0mshape\u001b[0m\u001b[0;34m[\u001b[0m\u001b[0;34m-\u001b[0m\u001b[0;36m2\u001b[0m\u001b[0;34m:\u001b[0m\u001b[0;34m]\u001b[0m \u001b[0;34m!=\u001b[0m \u001b[0;34m(\u001b[0m\u001b[0mself\u001b[0m\u001b[0;34m.\u001b[0m\u001b[0mmodel\u001b[0m\u001b[0;34m.\u001b[0m\u001b[0mdim\u001b[0m\u001b[0;34m,\u001b[0m \u001b[0mself\u001b[0m\u001b[0;34m.\u001b[0m\u001b[0mmodel\u001b[0m\u001b[0;34m.\u001b[0m\u001b[0mdim\u001b[0m\u001b[0;34m)\u001b[0m\u001b[0;34m\u001b[0m\u001b[0;34m\u001b[0m\u001b[0m\n\u001b[1;32m    250\u001b[0m             ):\n\u001b[0;32m--> 251\u001b[0;31m                 \u001b[0;32mraise\u001b[0m \u001b[0mQiskitError\u001b[0m\u001b[0;34m(\u001b[0m\u001b[0;34m\"\"\"Shape mismatch for initial state y0 and LindbladModel.\"\"\"\u001b[0m\u001b[0;34m)\u001b[0m\u001b[0;34m\u001b[0m\u001b[0;34m\u001b[0m\u001b[0m\n\u001b[0m\u001b[1;32m    252\u001b[0m             if (\"vectorized\" in self.model.evaluation_mode) and (\n\u001b[1;32m    253\u001b[0m                 \u001b[0my0\u001b[0m\u001b[0;34m.\u001b[0m\u001b[0mshape\u001b[0m\u001b[0;34m[\u001b[0m\u001b[0;36m0\u001b[0m\u001b[0;34m]\u001b[0m \u001b[0;34m!=\u001b[0m \u001b[0mself\u001b[0m\u001b[0;34m.\u001b[0m\u001b[0mmodel\u001b[0m\u001b[0;34m.\u001b[0m\u001b[0mdim\u001b[0m \u001b[0;34m**\u001b[0m \u001b[0;36m2\u001b[0m \u001b[0;32mor\u001b[0m \u001b[0my0\u001b[0m\u001b[0;34m.\u001b[0m\u001b[0mndim\u001b[0m \u001b[0;34m>\u001b[0m \u001b[0;36m2\u001b[0m\u001b[0;34m\u001b[0m\u001b[0;34m\u001b[0m\u001b[0m\n",
      "\u001b[0;31mQiskitError\u001b[0m: 'Shape mismatch for initial state y0 and LindbladModel.'"
     ]
    }
   ],
   "source": [
    "results = lindblad_solver.solve(t_span=[0., 2.], y0=np.array([0., 1.]))"
   ]
  },
  {
   "cell_type": "markdown",
   "id": "0220fad7",
   "metadata": {},
   "source": [
    "`Statevector`s are automatically converted to `DensityMatrix` instances before simulating."
   ]
  },
  {
   "cell_type": "code",
   "execution_count": 10,
   "id": "f9ceb30a",
   "metadata": {},
   "outputs": [
    {
     "name": "stdout",
     "output_type": "stream",
     "text": [
      "DensityMatrix([[0.9885849 +0.j        , 0.06206789-0.00943768j],\n",
      "               [0.06206789+0.00943768j, 0.0114151 +0.j        ]],\n",
      "              dims=(2,))\n"
     ]
    }
   ],
   "source": [
    "results4 = lindblad_solver.solve(t_span=[0., 2.], y0=Statevector(np.array([0., 1.])),\n",
    "                                atol=1e-8, rtol=1e-8)\n",
    "results4.y[-1]"
   ]
  },
  {
   "cell_type": "markdown",
   "id": "629caa01",
   "metadata": {},
   "source": [
    "`SuperOp` simulation requires vectorizing the equation. If a user attempts to solve for a `SuperOp` without vectorizing, an error is raised:"
   ]
  },
  {
   "cell_type": "code",
   "execution_count": 11,
   "id": "41dc98ff",
   "metadata": {
    "tags": [
     "raises-exception"
    ]
   },
   "outputs": [
    {
     "ename": "QiskitError",
     "evalue": "'Simulating SuperOp for a LinbladModel requires setting\\n                vectorized evaluation. Set LindbladModel.evaluation_mode to a vectorized option.\\n                '",
     "output_type": "error",
     "traceback": [
      "\u001b[0;31m---------------------------------------------------------------------------\u001b[0m",
      "\u001b[0;31mQiskitError\u001b[0m                               Traceback (most recent call last)",
      "\u001b[0;32m<ipython-input-11-55f184e3fc8c>\u001b[0m in \u001b[0;36m<module>\u001b[0;34m\u001b[0m\n\u001b[0;32m----> 1\u001b[0;31m results5 = lindblad_solver.solve(t_span = [0., 2.], y0=SuperOp(np.eye(4, dtype=complex)),\n\u001b[0m\u001b[1;32m      2\u001b[0m                                  atol=1e-8, rtol=1e-8)\n",
      "\u001b[0;32m~/Documents/projects/qiskit-dynamics/qiskit_dynamics/solver_classes.py\u001b[0m in \u001b[0;36msolve\u001b[0;34m(self, t_span, y0, **kwargs)\u001b[0m\n\u001b[1;32m    221\u001b[0m             \u001b[0;32mand\u001b[0m \u001b[0;34m\"vectorized\"\u001b[0m \u001b[0;32mnot\u001b[0m \u001b[0;32min\u001b[0m \u001b[0mself\u001b[0m\u001b[0;34m.\u001b[0m\u001b[0mmodel\u001b[0m\u001b[0;34m.\u001b[0m\u001b[0mevaluation_mode\u001b[0m\u001b[0;34m\u001b[0m\u001b[0;34m\u001b[0m\u001b[0m\n\u001b[1;32m    222\u001b[0m         ):\n\u001b[0;32m--> 223\u001b[0;31m             raise QiskitError(\n\u001b[0m\u001b[1;32m    224\u001b[0m                 \"\"\"Simulating SuperOp for a LinbladModel requires setting\n\u001b[1;32m    225\u001b[0m                 \u001b[0mvectorized\u001b[0m \u001b[0mevaluation\u001b[0m\u001b[0;34m.\u001b[0m \u001b[0mSet\u001b[0m \u001b[0mLindbladModel\u001b[0m\u001b[0;34m.\u001b[0m\u001b[0mevaluation_mode\u001b[0m \u001b[0mto\u001b[0m \u001b[0ma\u001b[0m \u001b[0mvectorized\u001b[0m \u001b[0moption\u001b[0m\u001b[0;34m.\u001b[0m\u001b[0;34m\u001b[0m\u001b[0;34m\u001b[0m\u001b[0m\n",
      "\u001b[0;31mQiskitError\u001b[0m: 'Simulating SuperOp for a LinbladModel requires setting\\n                vectorized evaluation. Set LindbladModel.evaluation_mode to a vectorized option.\\n                '"
     ]
    }
   ],
   "source": [
    "results5 = lindblad_solver.solve(t_span = [0., 2.], y0=SuperOp(np.eye(4, dtype=complex)),\n",
    "                                 atol=1e-8, rtol=1e-8)"
   ]
  },
  {
   "cell_type": "markdown",
   "id": "43744a7f",
   "metadata": {},
   "source": [
    "The evaluation mode of the model can be accessed via the setter method of either the model contained in the solver, or via the solver's `set_evaluation_mode` method (which just calls the model's)."
   ]
  },
  {
   "cell_type": "code",
   "execution_count": 12,
   "id": "1ed276e8",
   "metadata": {},
   "outputs": [
    {
     "name": "stdout",
     "output_type": "stream",
     "text": [
      "Help on method set_evaluation_mode in module qiskit_dynamics.models.lindblad_models:\n",
      "\n",
      "set_evaluation_mode(new_mode: str) method of qiskit_dynamics.models.lindblad_models.LindbladModel instance\n",
      "    Sets evaluation mode.\n",
      "    \n",
      "    Args:\n",
      "        new_mode: New mode for evaluation. Supported modes are:\n",
      "            'dense': Stores Hamiltonian and dissipator terms as dense\n",
      "                   Array types.\n",
      "            'dense_vectorized': Stores the Hamiltonian and dissipator\n",
      "                terms as (dim^2,dim^2) matrices that acts on a vectorized\n",
      "                density matrix by left-multiplication. Allows for direct evaluate generator.\n",
      "            'sparse': Like dense, but stores Hamiltonian components with\n",
      "                `csr_matrix` types. Outputs will be dense if a 2d frame operator is\n",
      "                used. Not compatible with jax.\n",
      "            `sparse_vectorized': Like dense_vectorized, but stores everything as csr_matrices.\n",
      "    Raises:\n",
      "        NotImplementedError: If a mode other than one of the above is specified.\n",
      "\n"
     ]
    }
   ],
   "source": [
    "help(lindblad_solver.model.set_evaluation_mode)"
   ]
  },
  {
   "cell_type": "code",
   "execution_count": 13,
   "id": "ec2fe75d",
   "metadata": {},
   "outputs": [
    {
     "data": {
      "text/plain": [
       "SuperOp([[ 0.01141586+6.70213838e-18j, -0.06269332-3.06984253e-03j,\n",
       "          -0.06269332+3.06984253e-03j,  0.9885849 +5.56384636e-17j],\n",
       "         [-0.06331876+3.29798907e-03j, -0.00160054+1.39861888e-05j,\n",
       "           0.98354069+4.79641171e-10j,  0.06206788+9.43767439e-03j],\n",
       "         [-0.06331876-3.29798907e-03j,  0.98354069-4.79640992e-10j,\n",
       "          -0.00160054-1.39861888e-05j,  0.06206788-9.43767439e-03j],\n",
       "         [ 0.98858414-6.70213838e-18j,  0.06269332+3.06984253e-03j,\n",
       "           0.06269332-3.06984253e-03j,  0.0114151 -5.56384636e-17j]],\n",
       "        input_dims=(2,), output_dims=(2,))"
      ]
     },
     "execution_count": 13,
     "metadata": {},
     "output_type": "execute_result"
    }
   ],
   "source": [
    "# Copy/paste documentation here from model.set_evaluation_mode\n",
    "# functools.wrap to copy doc strings?\n",
    "lindblad_solver.model.set_evaluation_mode('dense_vectorized')\n",
    "results5 = lindblad_solver.solve(t_span = [0., 2.], y0=SuperOp(np.eye(4, dtype=complex)),\n",
    "                                 atol=1e-8, rtol=1e-8)\n",
    "results5.y[-1]"
   ]
  },
  {
   "cell_type": "code",
   "execution_count": 14,
   "id": "986d7c6d",
   "metadata": {},
   "outputs": [
    {
     "name": "stdout",
     "output_type": "stream",
     "text": [
      "DensityMatrix([[0.9885849 +5.56384636e-17j, 0.06206788-9.43767439e-03j],\n",
      "               [0.06206788+9.43767439e-03j, 0.0114151 -5.56384636e-17j]],\n",
      "              dims=(2,))\n"
     ]
    }
   ],
   "source": [
    "results5.y[-1]._evolve(Statevector(np.array([0., 1.])))"
   ]
  },
  {
   "cell_type": "markdown",
   "id": "9fac7fd0",
   "metadata": {},
   "source": [
    "Once set to vectorized evaluation mode, we can still solve for `DensityMatrix` inputs, but it will do so by flattening/unflattening."
   ]
  },
  {
   "cell_type": "code",
   "execution_count": 15,
   "id": "5ffd04b9",
   "metadata": {},
   "outputs": [
    {
     "name": "stdout",
     "output_type": "stream",
     "text": [
      "DensityMatrix([[0.9885849 -5.93993015e-18j, 0.06206789-9.43767610e-03j],\n",
      "               [0.06206789+9.43767610e-03j, 0.0114151 +5.93993015e-18j]],\n",
      "              dims=(2,))\n"
     ]
    }
   ],
   "source": [
    "results6 = lindblad_solver.solve(t_span=[0., 2.], y0=Statevector(np.array([0., 1.])),\n",
    "                                atol=1e-8, rtol=1e-8)\n",
    "results6.y[-1]"
   ]
  },
  {
   "cell_type": "markdown",
   "id": "5851716b",
   "metadata": {},
   "source": [
    "Array-vectorized operation. Here we can pass a list of arrays shaped appropriately for Lindblad model and they will solve simultaneously."
   ]
  },
  {
   "cell_type": "code",
   "execution_count": 16,
   "id": "3b8db372",
   "metadata": {},
   "outputs": [
    {
     "data": {
      "text/plain": [
       "array([[[ 0.01141587+0.j        , -0.06331876-0.00329799j],\n",
       "        [-0.06331876+0.00329799j,  0.98858413+0.j        ]],\n",
       "\n",
       "       [[ 0.9885849 +0.j        ,  0.06206789-0.00943768j],\n",
       "        [ 0.06206789+0.00943768j,  0.0114151 +0.j        ]]])"
      ]
     },
     "execution_count": 16,
     "metadata": {},
     "output_type": "execute_result"
    }
   ],
   "source": [
    "lindblad_solver.model.set_evaluation_mode('dense')\n",
    "y0 = np.array([[[1., 0.], [0., 0.]], [[0., 0.], [0., 1.]]])\n",
    "results7 = lindblad_solver.solve(t_span=[0., 2.], y0=y0,\n",
    "                                atol=1e-8, rtol=1e-8)\n",
    "results7.y[-1]"
   ]
  },
  {
   "cell_type": "markdown",
   "id": "f898c38e",
   "metadata": {},
   "source": [
    "## 3. Rotating wave approxmation\n",
    "\n",
    "RWA can be invoked at instantiation."
   ]
  },
  {
   "cell_type": "code",
   "execution_count": 17,
   "id": "3b939402",
   "metadata": {},
   "outputs": [],
   "source": [
    "r = 0.5\n",
    "w = 1.\n",
    "\n",
    "ham_ops = [2 * np.pi * r * Operator.from_label('X') /2]\n",
    "drift = 2 * np.pi * w * Operator.from_label('Z') /2\n",
    "\n",
    "rwa_ham_solver = Solver(hamiltonian_operators=ham_ops,\n",
    "                        hamiltonian_signals=[Signal(1., w)],\n",
    "                        drift=drift,\n",
    "                        rotating_frame=drift,\n",
    "                        evaluation_mode='sparse',\n",
    "                        rwa_cutoff_freq=2 * w)"
   ]
  },
  {
   "cell_type": "markdown",
   "id": "3e0b0def",
   "metadata": {},
   "source": [
    "Solving, we observe perfect inversion of the state once the RWA has been enacted."
   ]
  },
  {
   "cell_type": "code",
   "execution_count": 18,
   "id": "0f3dcc85",
   "metadata": {},
   "outputs": [
    {
     "data": {
      "text/plain": [
       "array([-2.85423552e-16-1.00000000e+00j,  1.25527388e-09-3.39338479e-16j])"
      ]
     },
     "execution_count": 18,
     "metadata": {},
     "output_type": "execute_result"
    }
   ],
   "source": [
    "results = rwa_ham_solver.solve(t_span=[0., 2.], y0=np.array([0., 1.]), atol=1e-8, rtol=1e-8)\n",
    "results.y[-1]"
   ]
  },
  {
   "cell_type": "markdown",
   "id": "cbbfdc09",
   "metadata": {},
   "source": [
    "### 3.1 RWA signal convention\n",
    "\n",
    "Current choice: \n",
    "- The `Solver` class stores its own internal `_signals`, which is whatever the user passed to either the constructor or set to the `signals` property - This is the case regardless of whether the RWA is being used or not.\n",
    "- If no RWA, the same signals is passed directly to the model, but if RWA is present, when setting signals via the `Solver.signals` property, it will apply the RWA transformation before passing to the model.\n",
    "\n",
    "I think maybe we should change the signal setters to full `set_signals` methods."
   ]
  },
  {
   "cell_type": "markdown",
   "id": "7ff8f2a8",
   "metadata": {},
   "source": [
    "After RWA, the model actually stores two signals, one with the original phase and one with a phase shift. The `signal` property of the solver class reaches down to this."
   ]
  },
  {
   "cell_type": "code",
   "execution_count": 19,
   "id": "ee250386",
   "metadata": {
    "scrolled": true
   },
   "outputs": [
    {
     "data": {
      "image/png": "[encoded data removed]",
      "text/plain": [
       "<Figure size 432x288 with 1 Axes>"
      ]
     },
     "metadata": {
      "needs_background": "light"
     },
     "output_type": "display_data"
    }
   ],
   "source": [
    "rwa_ham_solver.signals[0].draw(0, 2., 100)"
   ]
  },
  {
   "cell_type": "code",
   "execution_count": 20,
   "id": "003aec43",
   "metadata": {},
   "outputs": [
    {
     "data": {
      "image/png": "[encoded data removed]",
      "text/plain": [
       "<Figure size 432x288 with 1 Axes>"
      ]
     },
     "metadata": {
      "needs_background": "light"
     },
     "output_type": "display_data"
    }
   ],
   "source": [
    "rwa_ham_solver.model.signals[0].draw(0, 2., 100)\n",
    "rwa_ham_solver.model.signals[1].draw(0, 2., 100)"
   ]
  },
  {
   "cell_type": "markdown",
   "id": "072a14f7",
   "metadata": {},
   "source": [
    "The signal setter for the `Solver` automatically performs the proper signal map before passing new signals to the model:"
   ]
  },
  {
   "cell_type": "code",
   "execution_count": 21,
   "id": "3b24da3d",
   "metadata": {},
   "outputs": [
    {
     "data": {
      "image/png": "[encoded data removed]",
      "text/plain": [
       "<Figure size 432x288 with 1 Axes>"
      ]
     },
     "metadata": {
      "needs_background": "light"
     },
     "output_type": "display_data"
    }
   ],
   "source": [
    "rwa_ham_solver.signals = [Signal(lambda t: t, w)]\n",
    "rwa_ham_solver.signals[0].draw(0, 2., 100)"
   ]
  },
  {
   "cell_type": "code",
   "execution_count": 22,
   "id": "023cf82c",
   "metadata": {},
   "outputs": [
    {
     "data": {
      "image/png": "[encoded data removed]",
      "text/plain": [
       "<Figure size 432x288 with 1 Axes>"
      ]
     },
     "metadata": {
      "needs_background": "light"
     },
     "output_type": "display_data"
    }
   ],
   "source": [
    "rwa_ham_solver.model.signals[0].draw(0, 2., 100)\n",
    "rwa_ham_solver.model.signals[1].draw(0, 2., 100)"
   ]
  },
  {
   "cell_type": "code",
   "execution_count": null,
   "id": "dca9b914",
   "metadata": {},
   "outputs": [],
   "source": []
  }
 ],
 "metadata": {
  "kernelspec": {
   "display_name": "Python 3",
   "language": "python",
   "name": "python3"
  },
  "language_info": {
   "codemirror_mode": {
    "name": "ipython",
    "version": 3
   },
   "file_extension": ".py",
   "mimetype": "text/x-python",
   "name": "python",
   "nbconvert_exporter": "python",
   "pygments_lexer": "ipython3",
   "version": "3.9.4"
  }
 },
 "nbformat": 4,
 "nbformat_minor": 5
}
