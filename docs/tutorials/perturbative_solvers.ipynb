{
 "cells": [
  {
   "cell_type": "markdown",
   "id": "607f5d2d",
   "metadata": {},
   "source": [
    "# Using `PerturbativeSolver` to accelerate simulation\n",
    "\n",
    "In this tutorial we walk through how to use perturbation-theory based solvers to accelerate simulation. Note that this is an advanced topic involving low level functionalty, and therefore requires detailed knowledge of the structure of the differential equations involved.\n",
    "\n",
    "In this tutorial we use a simple transmon model:\n",
    "\n",
    "$$H(t) = 2 \\pi \\nu N + \\pi \\alpha N(N-I) + s(t) \\times 2 \\pi r (a + a^\\dagger)$$\n",
    "\n",
    "where:\n",
    "\n",
    "  - $N$, $a$, and $a^\\dagger$ are, respectively,\n",
    "    the number, annihilation, and creation operators.\n",
    "  - $\\nu$ is the qubit frequncy and $r$ is the drive strength.\n",
    "  - $s(t)$ is the drive signal, which we will take to be on resonance with constant\n",
    "    envelope $1$.\n",
    "    \n",
    "We will consider simulation of this system with\n",
    "\n",
    "$$s(t) = A \\frac{4t (T - t)}{T^2}$$\n",
    "\n",
    "for a given amplitude $A$ and total time $T$.\n",
    "\n",
    "We will walk through the following steps:\n",
    "1. Configure `qiskit-dynamics` to work with JAX.\n",
    "2. Construct the model.\n",
    "3. Simulate using the Dyson-based perturbative solver.\n",
    "4. Simulate using a traditional ODE solver, comparing speed.\n",
    "5. Simulate using the Magnus-based perturbative solver."
   ]
  },
  {
   "cell_type": "markdown",
   "id": "58a241e9",
   "metadata": {},
   "source": [
    "## 1. Configure to use JAX\n",
    "\n",
    "These simulations will be done with JAX array backend to enable compilation. See the user guide entry on using JAX for a detailed breakdown of using JAX with dynamics."
   ]
  },
  {
   "cell_type": "code",
   "execution_count": 1,
   "id": "b2f9ab70",
   "metadata": {},
   "outputs": [],
   "source": [
    "from qiskit_dynamics.array import Array\n",
    "\n",
    "# configure jax to use 64 bit mode\n",
    "import jax\n",
    "jax.config.update(\"jax_enable_x64\", True)\n",
    "\n",
    "# tell JAX we are using CPU\n",
    "jax.config.update('jax_platform_name', 'cpu')\n",
    "\n",
    "# set default backend\n",
    "Array.set_default_backend('jax')"
   ]
  },
  {
   "cell_type": "markdown",
   "id": "7ef16de6",
   "metadata": {},
   "source": [
    "# 2. Construct the model\n",
    "\n",
    "First, construct the model described in the introduction. Here we use a higher dimension to observe a difference between the solvers."
   ]
  },
  {
   "cell_type": "code",
   "execution_count": 3,
   "id": "70c29730",
   "metadata": {},
   "outputs": [],
   "source": [
    "import numpy as np\n",
    "\n",
    "dim = 10\n",
    "\n",
    "v = 5.\n",
    "anharm = -0.33\n",
    "r = 0.02\n",
    "\n",
    "a = np.diag(np.sqrt(np.arange(1, dim)), 1)\n",
    "adag = np.diag(np.sqrt(np.arange(1, dim)), -1)\n",
    "N = np.diag(np.arange(dim))\n",
    "\n",
    "# static part\n",
    "static_hamiltonian = 2 * np.pi * v * N + np.pi * anharm * N * (N - np.eye(dim))\n",
    "# drive term\n",
    "drive_hamiltonian = 2 * np.pi * r * (a + adag)\n",
    "\n",
    "# total simulation time\n",
    "T = 1. / r\n",
    "\n",
    "# envelope function\n",
    "envelope_func = lambda t: t * (T - t) / (T**2 / 4)"
   ]
  },
  {
   "cell_type": "markdown",
   "id": "705d79c1",
   "metadata": {},
   "source": [
    "# 3. Construct Dyson-based perturbative solver\n",
    "\n",
    "Constructing the perturbative solver requires specifying several configuration parameters, as well as specifying the structure of the differential equation more explicitly than using the standard `Solver` object in qiskit-dynamics. \n",
    "\n",
    "See the API docs for `PerturbativeSolver` for a more detailed explanation, but some general comments on its instantiation and usage: \n",
    "- `PerturbativeSolver` requires direct specification of the LMDE to the solver. As we are simulating the Schrodinger equation, we need to multiply the Hamiltonian terms by `-1j`.\n",
    "- `PerturbativeSolver` is a fixed step solver, with the step size being fixed at instantiation. This step size must be chosen in conjunction with the `expansion_order`, to ensure that a suitable accuracy is attained.\n",
    "- Over each fixed time-step: \n",
    "   - `PerturbativeSolver` solves by computing a truncated perturbative expansion.\n",
    "   - To compute the truncated perturbative expansion, the signal envelopes are approximated as a linear combination of Chebyshev polynomials.\n",
    "   - The order of the Chebyshev approximations, along with central carrier frequencies for defining the \"envelope\" of each `Signal`, must be provided at instantiation."
   ]
  },
  {
   "cell_type": "code",
   "execution_count": 103,
   "id": "615aa0b3",
   "metadata": {},
   "outputs": [
    {
     "name": "stdout",
     "output_type": "stream",
     "text": [
      "CPU times: user 2.61 s, sys: 65.5 ms, total: 2.68 s\n",
      "Wall time: 2.52 s\n"
     ]
    }
   ],
   "source": [
    "%%time\n",
    "\n",
    "from qiskit_dynamics.perturbation import PerturbativeSolver\n",
    "\n",
    "dt = 0.1\n",
    "dyson_solver = PerturbativeSolver(operators=[-1j * drive_hamiltonian],\n",
    "                                  rotating_frame=-1j * static_hamiltonian,\n",
    "                                  dt=dt,\n",
    "                                  carrier_freqs=[v],\n",
    "                                  chebyshev_orders=[1],\n",
    "                                  expansion_method='dyson',\n",
    "                                  expansion_order=7,\n",
    "                                  integration_method='jax_odeint',\n",
    "                                  atol=1e-12,\n",
    "                                  rtol=1e-12)"
   ]
  },
  {
   "cell_type": "markdown",
   "id": "cca1b3e1",
   "metadata": {},
   "source": [
    "Construct a function that simulates the system for the pulse sequence with a given amplitude."
   ]
  },
  {
   "cell_type": "code",
   "execution_count": 104,
   "id": "a26cfc39",
   "metadata": {},
   "outputs": [],
   "source": [
    "from qiskit_dynamics import Signal\n",
    "\n",
    "def dyson_sim(amp):\n",
    "    drive_signal = Signal(lambda t: Array(amp) * envelope_func(t), carrier_freq=v)\n",
    "    return dyson_solver.solve(signals=[drive_signal], y0=np.eye(dim, dtype=complex), t0=0., n_steps=int(T // dt))\n",
    "\n",
    "from jax import jit\n",
    "\n",
    "jit_dyson_sim = jit(dyson_sim)"
   ]
  },
  {
   "cell_type": "markdown",
   "id": "7316f67e",
   "metadata": {},
   "source": [
    "First run includes compile time."
   ]
  },
  {
   "cell_type": "code",
   "execution_count": 105,
   "id": "b20b67aa",
   "metadata": {},
   "outputs": [
    {
     "name": "stdout",
     "output_type": "stream",
     "text": [
      "CPU times: user 1.72 s, sys: 39.5 ms, total: 1.76 s\n",
      "Wall time: 1.73 s\n"
     ]
    }
   ],
   "source": [
    "%time yf_dyson = jit_dyson_sim(1.).block_until_ready()"
   ]
  },
  {
   "cell_type": "markdown",
   "id": "97aac15c",
   "metadata": {},
   "source": [
    "Second run demonstrates the speed of the solver."
   ]
  },
  {
   "cell_type": "code",
   "execution_count": 106,
   "id": "62edfeef",
   "metadata": {},
   "outputs": [
    {
     "name": "stdout",
     "output_type": "stream",
     "text": [
      "CPU times: user 19.1 ms, sys: 1.89 ms, total: 21 ms\n",
      "Wall time: 4.79 ms\n"
     ]
    }
   ],
   "source": [
    "%time yf_dyson = jit_dyson_sim(1.).block_until_ready()"
   ]
  },
  {
   "cell_type": "markdown",
   "id": "2626230f",
   "metadata": {},
   "source": [
    "# 4. Comparison to traditional ODE solver\n",
    "\n",
    "We now construct the same simulation using a standard solver to compare accuracy and simulation speed."
   ]
  },
  {
   "cell_type": "code",
   "execution_count": 108,
   "id": "df1cf89d",
   "metadata": {},
   "outputs": [],
   "source": [
    "from qiskit_dynamics import Solver\n",
    "\n",
    "solver = Solver(\n",
    "    static_hamiltonian=static_hamiltonian,\n",
    "    hamiltonian_operators=[drive_hamiltonian],\n",
    "    rotating_frame=static_hamiltonian\n",
    ")\n",
    "\n",
    "# specify tolerance as an argument to run the simulation at different tolerances\n",
    "def ode_sim(amp, tol):\n",
    "    drive_signal = Signal(lambda t: Array(amp) * envelope_func(t), carrier_freq=v)\n",
    "    solver_copy = solver.copy()\n",
    "    solver_copy.signals = [drive_signal]\n",
    "    res = solver_copy.solve(\n",
    "        t_span=[0., int(T // dt) * dt],\n",
    "        y0=np.eye(dim, dtype=complex),\n",
    "        method='jax_odeint',\n",
    "        atol=tol,\n",
    "        rtol=tol\n",
    "    )\n",
    "    return res.y[-1]"
   ]
  },
  {
   "cell_type": "markdown",
   "id": "8e24a493",
   "metadata": {},
   "source": [
    "Simulate with low tolerance for comparison to high accuracy solution."
   ]
  },
  {
   "cell_type": "code",
   "execution_count": 109,
   "id": "a43e3631",
   "metadata": {},
   "outputs": [],
   "source": [
    "yf_low_tol = ode_sim(1., 1e-13)"
   ]
  },
  {
   "cell_type": "code",
   "execution_count": 110,
   "id": "bf4a5740",
   "metadata": {},
   "outputs": [
    {
     "data": {
      "text/plain": [
       "6.531763838979631e-07"
      ]
     },
     "execution_count": 110,
     "metadata": {},
     "output_type": "execute_result"
    }
   ],
   "source": [
    "np.linalg.norm(yf_low_tol - yf_dyson)"
   ]
  },
  {
   "cell_type": "markdown",
   "id": "02781382",
   "metadata": {},
   "source": [
    "For speed comparison, compile at a tolerance with similar accuracy."
   ]
  },
  {
   "cell_type": "code",
   "execution_count": 111,
   "id": "fa7e6027",
   "metadata": {},
   "outputs": [
    {
     "name": "stdout",
     "output_type": "stream",
     "text": [
      "CPU times: user 815 ms, sys: 14.4 ms, total: 829 ms\n",
      "Wall time: 821 ms\n"
     ]
    }
   ],
   "source": [
    "jit_ode_sim = jit(lambda amp: ode_sim(amp, 1e-8))\n",
    "\n",
    "%time yf_ode = jit_ode_sim(1.).block_until_ready()"
   ]
  },
  {
   "cell_type": "markdown",
   "id": "dba41eee",
   "metadata": {},
   "source": [
    "Measure compiled time."
   ]
  },
  {
   "cell_type": "code",
   "execution_count": 112,
   "id": "967873fa",
   "metadata": {},
   "outputs": [
    {
     "name": "stdout",
     "output_type": "stream",
     "text": [
      "CPU times: user 65.1 ms, sys: 954 µs, total: 66.1 ms\n",
      "Wall time: 64.8 ms\n"
     ]
    }
   ],
   "source": [
    "%time yf_ode = jit_ode_sim(1.).block_until_ready()"
   ]
  },
  {
   "cell_type": "markdown",
   "id": "7a3311bd",
   "metadata": {},
   "source": [
    "Confirm simular accuracy solution."
   ]
  },
  {
   "cell_type": "code",
   "execution_count": 113,
   "id": "da9b34d3",
   "metadata": {},
   "outputs": [
    {
     "data": {
      "text/plain": [
       "8.672110534785226e-07"
      ]
     },
     "execution_count": 113,
     "metadata": {},
     "output_type": "execute_result"
    }
   ],
   "source": [
    "np.linalg.norm(yf_low_tol - yf_ode)"
   ]
  },
  {
   "cell_type": "markdown",
   "id": "26c720e9",
   "metadata": {},
   "source": [
    "Here we see that, once compiled, the Dyson-based solver has a significant speed advantage over the traditional solver, at the expense of the initial compilation time and the technical aspect of using the solver."
   ]
  },
  {
   "cell_type": "markdown",
   "id": "3fd4a63b",
   "metadata": {},
   "source": [
    "# 5. Construct and compare Magnus-based perturbation solver\n",
    "\n",
    "Next, build the solver with the Magnus expansion. Note that the Magnus expansion typically requires going to fewer orders to achieve accuracy, with the trade-off being that, after construction, the solving step itself is more expensive."
   ]
  },
  {
   "cell_type": "code",
   "execution_count": 114,
   "id": "c2f914fc",
   "metadata": {},
   "outputs": [
    {
     "name": "stdout",
     "output_type": "stream",
     "text": [
      "CPU times: user 2.49 s, sys: 38.7 ms, total: 2.53 s\n",
      "Wall time: 2.52 s\n"
     ]
    }
   ],
   "source": [
    "%%time\n",
    "\n",
    "dt = 0.1\n",
    "magnus_solver = PerturbativeSolver(operators=[-1j * drive_hamiltonian],\n",
    "                                  rotating_frame=-1j * static_hamiltonian,\n",
    "                                  dt=dt,\n",
    "                                  carrier_freqs=[v],\n",
    "                                  chebyshev_orders=[1],\n",
    "                                  expansion_method='magnus',\n",
    "                                  expansion_order=3,\n",
    "                                  integration_method='jax_odeint',\n",
    "                                  atol=1e-12,\n",
    "                                  rtol=1e-12)"
   ]
  },
  {
   "cell_type": "code",
   "execution_count": 115,
   "id": "d939f98f",
   "metadata": {},
   "outputs": [],
   "source": [
    "def magnus_sim(amp):\n",
    "    drive_signal = Signal(lambda t: Array(amp) * envelope_func(t), carrier_freq=v)\n",
    "    return magnus_solver.solve(signals=[drive_signal], y0=np.eye(dim, dtype=complex), t0=0., n_steps=int(T // dt))\n",
    "\n",
    "jit_magnus_sim = jit(magnus_sim)"
   ]
  },
  {
   "cell_type": "code",
   "execution_count": 116,
   "id": "c8b9a716",
   "metadata": {},
   "outputs": [
    {
     "name": "stdout",
     "output_type": "stream",
     "text": [
      "CPU times: user 2.69 s, sys: 99.1 ms, total: 2.79 s\n",
      "Wall time: 2.78 s\n"
     ]
    }
   ],
   "source": [
    "%time yf_magnus = jit_magnus_sim(1.).block_until_ready()"
   ]
  },
  {
   "cell_type": "code",
   "execution_count": 117,
   "id": "5a9f68a3",
   "metadata": {},
   "outputs": [
    {
     "name": "stdout",
     "output_type": "stream",
     "text": [
      "CPU times: user 26.6 ms, sys: 3.1 ms, total: 29.7 ms\n",
      "Wall time: 20.3 ms\n"
     ]
    }
   ],
   "source": [
    "%time yf_magnus = jit_magnus_sim(1.).block_until_ready()"
   ]
  },
  {
   "cell_type": "code",
   "execution_count": 118,
   "id": "d622025d",
   "metadata": {},
   "outputs": [
    {
     "data": {
      "text/plain": [
       "6.679766721814084e-07"
      ]
     },
     "execution_count": 118,
     "metadata": {},
     "output_type": "execute_result"
    }
   ],
   "source": [
    "np.linalg.norm(yf_magnus - yf_low_tol)"
   ]
  },
  {
   "cell_type": "markdown",
   "id": "e35d5f93",
   "metadata": {},
   "source": [
    "Observe comparable accuracy at a lower order in the expansion, albeit with a modest speed up as compared to the Dyson-based solver."
   ]
  },
  {
   "cell_type": "code",
   "execution_count": null,
   "id": "cdfae14e",
   "metadata": {},
   "outputs": [],
   "source": []
  }
 ],
 "metadata": {
  "kernelspec": {
   "display_name": "Python 3 (ipykernel)",
   "language": "python",
   "name": "python3"
  },
  "language_info": {
   "codemirror_mode": {
    "name": "ipython",
    "version": 3
   },
   "file_extension": ".py",
   "mimetype": "text/x-python",
   "name": "python",
   "nbconvert_exporter": "python",
   "pygments_lexer": "ipython3",
   "version": "3.10.2"
  }
 },
 "nbformat": 4,
 "nbformat_minor": 5
}
