{
 "cells": [
  {
   "cell_type": "markdown",
   "metadata": {},
   "source": [
    "# In This Demo\n",
    "\n",
    "We explore the differnent evaluation modes that `Model` classes can now use, as well as the interface for switching between them. We will also briefly explore the `OperatorCollection` formalism which underlies the ease of switching evaluation modes, and which should also greatly simplify the process of developing new evaluation modes. "
   ]
  },
  {
   "cell_type": "code",
   "execution_count": 1,
   "metadata": {},
   "outputs": [],
   "source": [
    "import numpy as np\n",
    "from qiskit_dynamics.models import (\n",
    "    HamiltonianModel,\n",
    "    LindbladModel,\n",
    "    rotating_wave_approximation,\n",
    ")\n",
    "from qiskit_dynamics.signals import Signal"
   ]
  },
  {
   "cell_type": "markdown",
   "metadata": {},
   "source": [
    "We begin by setting up a `Model`:"
   ]
  },
  {
   "cell_type": "code",
   "execution_count": 2,
   "metadata": {},
   "outputs": [
    {
     "name": "stdout",
     "output_type": "stream",
     "text": [
      "[[0.-1.j  0.+0.5j]\n",
      " [0.+0.5j 0.+1.j ]]\n"
     ]
    }
   ],
   "source": [
    "Omega_0 = 0.5\n",
    "tau = 3\n",
    "omega_0 = 1\n",
    "nu = 1/(2*np.pi) #2\\pi\\nu = \\omega_0\n",
    "\n",
    "Omega = lambda t: Omega_0 * np.exp(-t**2/(2*tau**2))\n",
    "drive_signal = Signal(Omega,nu,0)\n",
    "\n",
    "drive_operator = np.array([[[0,-1],[-1,0]]])\n",
    "drift_operator = omega_0*np.array([[1,0],[0,-1]])\n",
    "\n",
    "model = HamiltonianModel(drive_operator,drift=drift_operator,signals=[drive_signal])\n",
    "\n",
    "print(model.evaluate(0))"
   ]
  },
  {
   "cell_type": "markdown",
   "metadata": {},
   "source": [
    "Note that by default, the Model class evaluates everything using dense arrays. While this is very useful for e.g. `jax` compilation or differentiation, in many cases, we may wish to have our Hamiltonian evaluate itself using sparse matrices. For this, we may either call `Model.set_evaluation_mode` or pass the keyword `evaluation_mode = (...)` in the constructor. "
   ]
  },
  {
   "cell_type": "code",
   "execution_count": 3,
   "metadata": {},
   "outputs": [
    {
     "name": "stdout",
     "output_type": "stream",
     "text": [
      "  (0, 0)\t-1j\n",
      "  (0, 1)\t0.5j\n",
      "  (1, 0)\t0.5j\n",
      "  (1, 1)\t1j\n"
     ]
    }
   ],
   "source": [
    "model.set_evaluation_mode(\"sparse\")\n",
    "\n",
    "print(model.evaluate(0))"
   ]
  },
  {
   "cell_type": "markdown",
   "metadata": {},
   "source": [
    "These evaluation modes are compatible with rotating frames—though, in the case of sparse matrices, only diagonal frames will yield sparse generators. "
   ]
  },
  {
   "cell_type": "code",
   "execution_count": 4,
   "metadata": {},
   "outputs": [
    {
     "name": "stdout",
     "output_type": "stream",
     "text": [
      "[[0.-0.j  0.+0.5j]\n",
      " [0.+0.5j 0.-0.j ]]\n"
     ]
    }
   ],
   "source": [
    "model.rotating_frame = np.array([[1,0], [0, -1]])\n",
    "print(model(0))"
   ]
  },
  {
   "cell_type": "markdown",
   "metadata": {},
   "source": [
    "This is compatible with the rotating wave approximation in a user-friendly way, where the RWA preserves the evaluation mode:"
   ]
  },
  {
   "cell_type": "code",
   "execution_count": 5,
   "metadata": {},
   "outputs": [
    {
     "name": "stdout",
     "output_type": "stream",
     "text": [
      "[[ 0.-0.j    0.+0.25j]\n",
      " [-0.+0.25j  0.-0.j  ]]\n"
     ]
    }
   ],
   "source": [
    "rwa_model = rotating_wave_approximation(model, cutoff_freq=1/4)\n",
    "print(np.round(rwa_model(0),6))"
   ]
  },
  {
   "cell_type": "markdown",
   "metadata": {},
   "source": [
    "We can also add dissipative channels with `LindbladModel`, which has its own set of evaluation modes, listed below: "
   ]
  },
  {
   "cell_type": "code",
   "execution_count": 6,
   "metadata": {},
   "outputs": [
    {
     "name": "stdout",
     "output_type": "stream",
     "text": [
      "Help on method set_evaluation_mode in module qiskit_dynamics.models.lindblad_models:\n",
      "\n",
      "set_evaluation_mode(new_mode: str) method of qiskit_dynamics.models.lindblad_models.LindbladModel instance\n",
      "    Sets evaluation mode.\n",
      "    Args:\n",
      "        new_mode: new mode for evaluation. Supported modes are:\n",
      "            'dense': Stores Hamiltonian and dissipator terms as dense\n",
      "                   Array types.\n",
      "            'dense_vectorized': Stores the Hamiltonian and dissipator\n",
      "                terms as (dim^2,dim^2) matrices that acts on a vectorized\n",
      "                density matrix by left-multiplication. Allows for direct evaluate generator.\n",
      "            'sparse': Like dense, but stores Hamiltonian components with\n",
      "                `csr_matrix` types. Outputs will be dense if a 2d frame operator is\n",
      "                used. Not compatible with jax.\n",
      "    Raises:\n",
      "        NotImplementedError: If a mode other than one of the above is specified.\n",
      "\n",
      "None\n"
     ]
    }
   ],
   "source": [
    "model.rotating_frame = np.array([1,-1])\n",
    "\n",
    "dis_op = np.array([[[0,0],[1,0]]])\n",
    "rho = np.diag([1,0]) # excited state\n",
    "dis_model = LindbladModel.from_hamiltonian(model, dissipator_operators=dis_op, dissipator_signals=[1], evaluation_mode=\"dense\")\n",
    "\n",
    "print(help(dis_model.set_evaluation_mode))"
   ]
  },
  {
   "cell_type": "markdown",
   "metadata": {},
   "source": [
    "With `evaluation_mode = \"dense\"`, things work as you might expect: the Lindbladian is evaluated purely using dense matrices: "
   ]
  },
  {
   "cell_type": "code",
   "execution_count": 7,
   "metadata": {},
   "outputs": [
    {
     "name": "stdout",
     "output_type": "stream",
     "text": [
      "[[ 0. +0.j -0.5+0.j]\n",
      " [-0.5+0.j  0. +0.j]]\n",
      "[[-1.+0.j   0.-0.5j]\n",
      " [ 0.+0.5j  1.+0.j ]]\n"
     ]
    }
   ],
   "source": [
    "dis_model.set_evaluation_mode('dense')\n",
    "print(dis_model.evaluate_hamiltonian(0))\n",
    "print(dis_model(0,rho))"
   ]
  },
  {
   "cell_type": "markdown",
   "metadata": {},
   "source": [
    "When we work with `evaluation_mode = \"sparse\"`, the internal computation is done using sparse matrices (which can yield a substantial speed-up), but the final Lindbladian is still a dense matrix. This is primarily because many differential equation solvers require that the time derivative $\\dot{\\rho}$ still be a dense matrix."
   ]
  },
  {
   "cell_type": "code",
   "execution_count": 8,
   "metadata": {},
   "outputs": [
    {
     "name": "stdout",
     "output_type": "stream",
     "text": [
      "  (0, 1)\t(-0.5+0j)\n",
      "  (1, 0)\t(-0.5+0j)\n",
      "[[-1.+0.j   0.-0.5j]\n",
      " [ 0.+0.5j  1.+0.j ]]\n"
     ]
    }
   ],
   "source": [
    "dis_model.set_evaluation_mode('sparse')\n",
    "print(dis_model.evaluate_hamiltonian(0))\n",
    "print(dis_model(0,rho))"
   ]
  },
  {
   "cell_type": "markdown",
   "metadata": {},
   "source": [
    "Using either of these two evaluation modes, it is impossible for us to evaluate a single generator s.t. $\\dot{\\rho} = G(t)\\rho$. If we wish to evaluate a generator on its own, we need to switch to using vectorized evaluation. When we evaluate the Lindbladian using vectorized evaluation (with column-stacking convention), we may evaluate a generator independent of $\\rho$ itself:"
   ]
  },
  {
   "cell_type": "code",
   "execution_count": 9,
   "metadata": {},
   "outputs": [
    {
     "name": "stdout",
     "output_type": "stream",
     "text": [
      "[[-1. +0.j   0. +0.5j  0. -0.5j  0. +0.j ]\n",
      " [ 0. +0.5j -0.5+0.j   0. +0.j   0. -0.5j]\n",
      " [ 0. -0.5j  0. +0.j  -0.5+0.j   0. +0.5j]\n",
      " [ 1. +0.j   0. -0.5j  0. +0.5j  0. +0.j ]]\n",
      "[-1.+0.j   0.+0.5j  0.-0.5j  1.+0.j ]\n",
      "[-1.+0.j   0.+0.5j  0.-0.5j  1.+0.j ]\n"
     ]
    }
   ],
   "source": [
    "rho_vec = rho.flatten(order=\"F\") # vectorized operator using column stacking convention\n",
    "dis_model.set_evaluation_mode('dense_vectorized')\n",
    "print(dis_model(0))\n",
    "print(dis_model(0) @ rho_vec)\n",
    "print(dis_model(0,rho_vec))"
   ]
  },
  {
   "cell_type": "markdown",
   "metadata": {},
   "source": [
    "# Under the Hood: `OperatorCollection`\n",
    "\n",
    "In order to enable these different evaluation modes, the actual implementaiton of evaluating the RHS of some differential equation has been abstracted away from the `Model` classes. Now, every `Model` stores an `OperatorCollection`, e.g. `DenseOperatorCollection`, `SparseLindbladCollection`, etc. When we call `Model.evaluate_rhs()`, the model performs evaluation in four steps: \n",
    "\n",
    "1. Pass state to `RotatingFrame` for pre-rotation (if applicable, e.g. $|\\psi\\rangle\\to e^{-iHt}|\\psi\\rangle$) and basis change (if applicable).\n",
    "\n",
    "2. Get Signal values from `SignalList` object.\n",
    "\n",
    "3. Pass Signal values and state (if applicable) to `OperatorCollection` to evaluate model.\n",
    "\n",
    "4. Pass model to `Rotatingframe` for post-rotation (if applicable, e.g. $|\\psi\\rangle \\to e^{iHt}|\\psi\\rangle$) and basis change (if applicable).\n",
    "\n",
    "Because each of these steps are completely modular, changing how a `Model` performs evaluation is as straightforward as swapping out its `OperatorCollection`. Likewise, developing support for a new evaluation mode is quite straightforward, requiring a developer only to write a new `OperatorCollection` class. Because these `OperatorCollections` don't need to worry about basis transformations, signals, frames, etc., they can be extremely simple objects, with most of the work involved in optimizing their `evaluate` and `evaluate_rhs` methods. This makes them quite straightforward to write."
   ]
  },
  {
   "cell_type": "code",
   "execution_count": 10,
   "metadata": {},
   "outputs": [
    {
     "name": "stdout",
     "output_type": "stream",
     "text": [
      "<class 'qiskit_dynamics.models.operator_collections.DenseOperatorCollection'>\n",
      "[[ 0. +0.j -0.5+0.j]\n",
      " [-0.5+0.j  0. +0.j]]\n",
      "<class 'qiskit_dynamics.models.operator_collections.SparseOperatorCollection'>\n",
      "  (0, 1)\t(-0.5+0j)\n",
      "  (1, 0)\t(-0.5+0j)\n"
     ]
    }
   ],
   "source": [
    "sig_vals = model.signals(0)\n",
    "\n",
    "model.set_evaluation_mode(\"dense\")\n",
    "operator_collection = model._operator_collection\n",
    "print(type(operator_collection))\n",
    "print(operator_collection.evaluate(sig_vals))\n",
    "\n",
    "model.set_evaluation_mode(\"sparse\")\n",
    "operator_collection = model._operator_collection\n",
    "print(type(operator_collection))\n",
    "print(operator_collection.evaluate(sig_vals))"
   ]
  }
 ],
 "metadata": {
  "interpreter": {
   "hash": "b66b65d0011da72043728f400ceab0977a0760a76fa1c239eb964bd3bc84f7c6"
  },
  "kernelspec": {
   "display_name": "Python 3",
   "language": "python",
   "name": "python3"
  },
  "language_info": {
   "codemirror_mode": {
    "name": "ipython",
    "version": 3
   },
   "file_extension": ".py",
   "mimetype": "text/x-python",
   "name": "python",
   "nbconvert_exporter": "python",
   "pygments_lexer": "ipython3",
   "version": "3.9.4"
  }
 },
 "nbformat": 4,
 "nbformat_minor": 2
}
