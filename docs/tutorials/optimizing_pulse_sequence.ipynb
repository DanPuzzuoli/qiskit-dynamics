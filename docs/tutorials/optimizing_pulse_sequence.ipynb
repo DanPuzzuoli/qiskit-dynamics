{
 "cells": [
  {
   "cell_type": "markdown",
   "id": "a6a95da1",
   "metadata": {},
   "source": [
    "# Performing gradient optimization of a pulse sequence\n",
    "\n",
    "Here we walk through an example of optimizing a single qubit gate using `qiskit_dynamics`. This tutorial requires JAX - see the How-to guide on using JAX for more detail on how to configure `qiskit-dynamics` to work with JAX. \n",
    "\n",
    "We will optimize an $X$-gate on a model of a qubit system using the following steps:\n",
    "\n",
    "1. Configure `qiskit-dynamics` to work with the JAX backend. \n",
    "2. Setup a `Solver` instance with the model of the system. \n",
    "3. Define a pulse sequence parameterization to optimize over. \n",
    "4. Define gate fidelity function.\n",
    "5. Define objective function for optimization.\n",
    "6. Use JAX to differentiate objective, then gradient optimize."
   ]
  },
  {
   "cell_type": "markdown",
   "id": "d4346e0f",
   "metadata": {},
   "source": [
    "## 1. Configure to use JAX\n",
    "\n",
    "First, set JAX to operate in 64-bit mode, and set it as the default backend for `qiskit-dynamics`."
   ]
  },
  {
   "cell_type": "code",
   "execution_count": 1,
   "id": "789d6471",
   "metadata": {},
   "outputs": [],
   "source": [
    "import jax\n",
    "jax.config.update(\"jax_enable_x64\", True)\n",
    "\n",
    "from qiskit_dynamics import dispatch\n",
    "dispatch.set_default_backend('jax')"
   ]
  },
  {
   "cell_type": "markdown",
   "id": "4c479eb2",
   "metadata": {},
   "source": [
    "## 2. Setup the solver\n",
    "\n",
    "Here we will setup a `Solver` with a simple model of a qubit. The Hamiltonian is:\n",
    "\n",
    "$$H(t) = 2 \\pi \\nu \\frac{Z}{2} + 2 \\pi r s(t) \\frac{X}{2}$$\n",
    "\n",
    "We will setup the problem to be in the rotating frame of the drift term.\n",
    "\n",
    "Also note: The `Solver` is initialized *without* signals, as we will update these and optimize over this later."
   ]
  },
  {
   "cell_type": "code",
   "execution_count": 2,
   "id": "d6d3e584",
   "metadata": {},
   "outputs": [
    {
     "name": "stderr",
     "output_type": "stream",
     "text": [
      "WARNING:absl:No GPU/TPU found, falling back to CPU. (Set TF_CPP_MIN_LOG_LEVEL=0 and rerun for more info.)\n"
     ]
    }
   ],
   "source": [
    "import numpy as np\n",
    "from qiskit.quantum_info import Operator\n",
    "from qiskit_dynamics import Solver\n",
    "\n",
    "v = 5.\n",
    "r = 0.02\n",
    "\n",
    "static_hamiltonian = 2 * np.pi * v * Operator.from_label('Z') / 2\n",
    "drive_term = 2 * np.pi * r * Operator.from_label('X') / 2\n",
    "\n",
    "ham_solver = Solver(hamiltonian_operators=[drive_term],\n",
    "                    static_hamiltonian=static_hamiltonian,\n",
    "                    rotating_frame=static_hamiltonian)"
   ]
  },
  {
   "cell_type": "markdown",
   "id": "abda3b8d",
   "metadata": {},
   "source": [
    "## 3. Define a pulse sequence parameterization to optimize over\n",
    "\n",
    "We will optimize over a set of signals that are: \n",
    "\n",
    "- On resonance with piecewise constant envelopes,\n",
    "- Envelopes bounded between $[-1, 1]$,\n",
    "- Envelopes are smooth, in the sense that the change between adjacent samples is small, and\n",
    "- Envelope starts and ends at $0$.\n",
    "\n",
    "In setting up our parameterization, we need t keep in mind that we will use the BFGS optimization routine, and hence: \n",
    "\n",
    "- Optimization parameters must be *unconstrained*.\n",
    "- Parameterization must be JAX-differentiable.\n",
    "\n",
    "We implement a parameterization as follows:\n",
    "\n",
    "- Input: Array `x` of real values.\n",
    "- \"Normalize\" `x` by applying a JAX-differentiable function from $\\mathbb{R} \\rightarrow [-1, 1]$.\n",
    "- Pad the normalized `x` with a $0.$ to start.\n",
    "- \"Smoothen\" the above via convolution.\n",
    "- Construct the signal using the above as the samples for a piecewise-constant envelope, with carrier frequency on resonance.\n",
    "\n",
    "We remark that there are many other parameterizations that may achieve the same ends, and may have more efficient strategies for achieving a value of $0$ at the beginning and end of the pulse. This is only meant to demonstrate the need for such an approach, and one simple example of one."
   ]
  },
  {
   "cell_type": "code",
   "execution_count": 3,
   "id": "54eac69b",
   "metadata": {},
   "outputs": [],
   "source": [
    "from qiskit_dynamics.dispatch import Array\n",
    "from qiskit_dynamics.signals import DiscreteSignal, Convolution\n",
    "\n",
    "# define convolution filter\n",
    "def gaus(t):\n",
    "    sigma = 15\n",
    "    _dt = 0.1\n",
    "    return 2.*_dt/np.sqrt(2.*np.pi*sigma**2)*np.exp(-t**2/(2*sigma**2))\n",
    "\n",
    "convolution = Convolution(gaus)\n",
    "\n",
    "# define function mapping parameters to signals\n",
    "def signal_mapping(params):\n",
    "    samples = Array(params)\n",
    "    \n",
    "    # map samples into [-1, 1]\n",
    "    bounded_samples = np.arctan(samples) / (np.pi / 2)\n",
    "    \n",
    "    # pad with 0 at beginning\n",
    "    padded_samples = np.append(Array([0], dtype=complex), bounded_samples)\n",
    "    \n",
    "    # apply filter\n",
    "    output_signal = convolution(DiscreteSignal(dt=1., samples=padded_samples))\n",
    "    \n",
    "    # set carrier frequency to v\n",
    "    output_signal.carrier_freq = v\n",
    "    \n",
    "    return output_signal"
   ]
  },
  {
   "cell_type": "markdown",
   "id": "54578c0e",
   "metadata": {},
   "source": [
    "Observe, for example, the signal generated when all parameters are $10^8$:"
   ]
  },
  {
   "cell_type": "code",
   "execution_count": 4,
   "id": "3eafe94e",
   "metadata": {
    "scrolled": true
   },
   "outputs": [
    {
     "data": {
      "image/png": "[encoded data removed]",
      "text/plain": [
       "<Figure size 432x288 with 1 Axes>"
      ]
     },
     "metadata": {
      "needs_background": "light"
     },
     "output_type": "display_data"
    }
   ],
   "source": [
    "signal = signal_mapping(np.ones(80) * 1e8)\n",
    "signal.draw(t0=0., tf=signal.duration * signal.dt, n=1000, function='envelope')"
   ]
  },
  {
   "cell_type": "markdown",
   "id": "ed213eb3",
   "metadata": {},
   "source": [
    "## 4. Define gate fidelity\n",
    "\n",
    "We will optimize an $X$ gate, and define the fidelity of a unitary via the standard fidelity measure:\n",
    "\n",
    "$$f(U) = \\frac{|\\text{Tr}(XU)|^2}{4}$$"
   ]
  },
  {
   "cell_type": "code",
   "execution_count": 5,
   "id": "7b526fa5",
   "metadata": {},
   "outputs": [],
   "source": [
    "X_op = Array(Operator.from_label('X'))\n",
    "\n",
    "def fidelity(U):\n",
    "    U = Array(U)\n",
    "    \n",
    "    return np.abs(np.sum(X_op * U))**2 / 4."
   ]
  },
  {
   "cell_type": "markdown",
   "id": "89f992ed",
   "metadata": {},
   "source": [
    "## 5. Define the objective function\n",
    "\n",
    "The function we want to optimize consists of:\n",
    "\n",
    "- Taking a list of input samples and applying the signal mapping.\n",
    "- Simulating the Schrodinger equation over the length of the pulse sequence.\n",
    "- Computing and return the infidelity (we minimize $1-f(U)$)."
   ]
  },
  {
   "cell_type": "code",
   "execution_count": 6,
   "id": "f8fa0564",
   "metadata": {},
   "outputs": [],
   "source": [
    "def objective(params):\n",
    "    \n",
    "    # apply signal mapping and set signals\n",
    "    signal = signal_mapping(params)\n",
    "    solver_copy = ham_solver.copy()\n",
    "    solver_copy.signals = [signal]\n",
    "    \n",
    "    # Simulate\n",
    "    results = solver_copy.solve(y0=np.eye(2, dtype=complex), \n",
    "                                t_span=[0, signal.duration * signal.dt],\n",
    "                                method='jax_odeint', atol=1e-8, rtol=1e-8)\n",
    "    U = results.y[-1]\n",
    "    \n",
    "    # compute and return infidelity\n",
    "    fid = fidelity(U)\n",
    "    return 1. - fid.data"
   ]
  },
  {
   "cell_type": "markdown",
   "id": "97672d55",
   "metadata": {},
   "source": [
    "## 6. Perform JAX transformations and optimize\n",
    "\n",
    "Finally, we gradient optimize the objective: \n",
    "\n",
    "- Use `jax.value_and_grad` to transform the objective into a function that computes both the objective and the gradient.\n",
    "- Use `jax.jit` to compile the above.\n",
    "- Call `scipy.optimize.minimize` with the above, with `method='BFGS'` and `jac=True` to indicate that the passed objective also computes the gradient."
   ]
  },
  {
   "cell_type": "code",
   "execution_count": 7,
   "id": "a363aaf5",
   "metadata": {},
   "outputs": [
    {
     "name": "stdout",
     "output_type": "stream",
     "text": [
      "Optimization terminated successfully.\n",
      "Number of function evaluations: 11\n",
      "Function value: -4.769372297097618e-08\n"
     ]
    }
   ],
   "source": [
    "from jax import jit, value_and_grad\n",
    "from scipy.optimize import minimize\n",
    "\n",
    "jit_grad_obj = jit(value_and_grad(objective))\n",
    "\n",
    "initial_guess = np.random.rand(80) - 0.5\n",
    "\n",
    "opt_results = minimize(fun=jit_grad_obj, x0=initial_guess, jac=True, method='BFGS')\n",
    "print(opt_results.message)\n",
    "print('Number of function evaluations: ' + str(opt_results.nfev))\n",
    "print('Function value: ' + str(opt_results.fun))"
   ]
  },
  {
   "cell_type": "markdown",
   "id": "5e486290",
   "metadata": {},
   "source": [
    "The gate is optimized to an $X$ gate, with deviation within the numerical accuracy of the solver. \n",
    "\n",
    "We can draw the optimized signal, which is retrieved by applying the `signal_mapping` to the optimized parameters."
   ]
  },
  {
   "cell_type": "code",
   "execution_count": 8,
   "id": "f448bee3",
   "metadata": {},
   "outputs": [
    {
     "data": {
      "image/png": "[encoded data removed]",
      "text/plain": [
       "<Figure size 432x288 with 1 Axes>"
      ]
     },
     "metadata": {
      "needs_background": "light"
     },
     "output_type": "display_data"
    }
   ],
   "source": [
    "opt_signal = signal_mapping(opt_results.x)\n",
    "\n",
    "opt_signal.draw(t0=0, tf=opt_signal.duration * opt_signal.dt, \n",
    "                n=1000, function='envelope', title='Optimized envelope')"
   ]
  },
  {
   "cell_type": "markdown",
   "id": "f6e29d69",
   "metadata": {},
   "source": [
    "Summing the signal samples yeilds approximately $\\pm 50$, which is equivalent to what one would expect based on a rotating wave approximation analysis."
   ]
  },
  {
   "cell_type": "code",
   "execution_count": 9,
   "id": "f3138f78",
   "metadata": {},
   "outputs": [
    {
     "data": {
      "text/plain": [
       "Array(-50.00127106)"
      ]
     },
     "execution_count": 9,
     "metadata": {},
     "output_type": "execute_result"
    }
   ],
   "source": [
    "opt_signal.samples.sum()"
   ]
  },
  {
   "cell_type": "code",
   "execution_count": null,
   "id": "3d270fdd",
   "metadata": {},
   "outputs": [],
   "source": []
  }
 ],
 "metadata": {
  "kernelspec": {
   "display_name": "Python 3",
   "language": "python",
   "name": "python3"
  },
  "language_info": {
   "codemirror_mode": {
    "name": "ipython",
    "version": 3
   },
   "file_extension": ".py",
   "mimetype": "text/x-python",
   "name": "python",
   "nbconvert_exporter": "python",
   "pygments_lexer": "ipython3",
   "version": "3.9.4"
  }
 },
 "nbformat": 4,
 "nbformat_minor": 5
}
