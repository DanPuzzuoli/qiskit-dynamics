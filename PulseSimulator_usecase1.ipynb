{
 "cells": [
  {
   "cell_type": "code",
   "execution_count": 1,
   "id": "2a63c11e",
   "metadata": {},
   "outputs": [],
   "source": [
    "import numpy as np\n",
    "import qiskit.pulse as pulse\n",
    "from qiskit_dynamics.pulse.pulse_simulator import PulseSimulator\n",
    "from qiskit_dynamics import Solver"
   ]
  },
  {
   "cell_type": "code",
   "execution_count": 2,
   "id": "6f158d9e",
   "metadata": {},
   "outputs": [],
   "source": [
    "Z = np.array([[-1., 0.], [0., 1.]])\n",
    "X = np.array([[0., 1.], [1., 0.]])\n",
    "\n",
    "r = 0.1\n",
    "\n",
    "static_ham = 2 * np.pi * 5 * Z / 2\n",
    "drive_op = 2 * np.pi * r * X / 2\n",
    "\n",
    "solver = Solver(\n",
    "    static_hamiltonian=static_ham,\n",
    "    hamiltonian_operators=[drive_op],\n",
    "    hamiltonian_channels=['d0'],\n",
    "    channel_carrier_freqs={'d0': 5.},\n",
    "    dt=0.1,\n",
    "    rotating_frame=static_ham\n",
    ")"
   ]
  },
  {
   "cell_type": "code",
   "execution_count": 3,
   "id": "0d90e4c7",
   "metadata": {},
   "outputs": [],
   "source": [
    "backend = PulseSimulator(solver=solver, subsystem_dims=[2])"
   ]
  },
  {
   "cell_type": "code",
   "execution_count": null,
   "id": "a19e0364",
   "metadata": {},
   "outputs": [],
   "source": [
    "from qiskit.pulse import library\n",
    "\n",
    "amp = 1\n",
    "sigma = 10\n",
    "num_samples = 64\n",
    "#%%\n",
    "gauss = pulse.library.Gaussian(num_samples, amp, sigma,\n",
    "                              name=\"Parametric Gauss\")\n",
    "gauss.draw()\n",
    "\n",
    "\n",
    "with pulse.build() as schedule:\n",
    "    # note: carrier frequency is automatically set to channel_carrier_freq if nothing\n",
    "    # specified in schedule. Is this what we want?\n",
    "    # This is baked into the InstructionToSchedule object. What does it do on the backends?\n",
    "    #pulse.set_frequency(5., pulse.DriveChannel(0))\n",
    "    pulse.play(gauss, pulse.DriveChannel(0))\n",
    "\n",
    "result = backend.run(schedule, solver_options={'atol': 1e-8, 'rtol': 1e-8})\n",
    "#%%\n",
    "result[0].y[-1]"
   ]
  },
  {
   "cell_type": "code",
   "execution_count": 5,
   "id": "5ad28230",
   "metadata": {},
   "outputs": [
    {
     "data": {
      "text/plain": [
       "(2.48630065066594+1.5159645885691881e-16j)"
      ]
     },
     "execution_count": 5,
     "metadata": {},
     "output_type": "execute_result"
    }
   ],
   "source": [
    "area = gauss.get_waveform().samples.sum() * 0.1\n",
    "area"
   ]
  },
  {
   "cell_type": "code",
   "execution_count": 19,
   "id": "55ffc6d0",
   "metadata": {},
   "outputs": [
    {
     "data": {
      "text/plain": [
       "array([[9.24700885e-01-9.06536913e-18j, 2.20196396e-17-3.80694462e-01j],\n",
       "       [2.20196396e-17-3.80694462e-01j, 9.24700885e-01-9.06536913e-18j]])"
      ]
     },
     "execution_count": 19,
     "metadata": {},
     "output_type": "execute_result"
    }
   ],
   "source": [
    "from scipy.linalg import expm\n",
    "\n",
    "expm(-1j * 2 * np.pi * area * r * X / 4)"
   ]
  },
  {
   "cell_type": "code",
   "execution_count": 7,
   "id": "290627a1",
   "metadata": {},
   "outputs": [],
   "source": [
    "from qiskit_dynamics import Solver\n",
    "import numpy as np"
   ]
  },
  {
   "cell_type": "code",
   "execution_count": 22,
   "id": "213fd97f",
   "metadata": {},
   "outputs": [],
   "source": [
    "Z = np.array([[1., 0.], [0., -1.]])\n",
    "X = np.array([[0., 1.], [1., 0.]])\n",
    "\n",
    "test_solver = Solver(\n",
    "    static_hamiltonian=2 * X + 3 * Z,\n",
    "    hamiltonian_operators=[X],\n",
    "    rotating_frame=Z + X\n",
    ")"
   ]
  },
  {
   "cell_type": "code",
   "execution_count": 23,
   "id": "6f2bf98d",
   "metadata": {},
   "outputs": [
    {
     "data": {
      "text/plain": [
       "Array([[ 2.+0.j,  1.+0.j],\n",
       "       [ 1.+0.j, -2.+0.j]], backend='numpy')"
      ]
     },
     "execution_count": 23,
     "metadata": {},
     "output_type": "execute_result"
    }
   ],
   "source": [
    "test_solver.model.static_operator"
   ]
  },
  {
   "cell_type": "code",
   "execution_count": 24,
   "id": "48400e00",
   "metadata": {},
   "outputs": [
    {
     "data": {
      "text/plain": [
       "Array([[[ 2.96506192e-17+0.j,  1.00000000e+00+0.j],\n",
       "        [ 1.00000000e+00+0.j, -7.71461485e-17+0.j]]], backend='numpy')"
      ]
     },
     "execution_count": 24,
     "metadata": {},
     "output_type": "execute_result"
    }
   ],
   "source": [
    "test_solver.model.operators"
   ]
  },
  {
   "cell_type": "code",
   "execution_count": null,
   "id": "81c5ed9d",
   "metadata": {},
   "outputs": [],
   "source": []
  }
 ],
 "metadata": {
  "kernelspec": {
   "display_name": "Python 3 (ipykernel)",
   "language": "python",
   "name": "python3"
  },
  "language_info": {
   "codemirror_mode": {
    "name": "ipython",
    "version": 3
   },
   "file_extension": ".py",
   "mimetype": "text/x-python",
   "name": "python",
   "nbconvert_exporter": "python",
   "pygments_lexer": "ipython3",
   "version": "3.10.2"
  }
 },
 "nbformat": 4,
 "nbformat_minor": 5
}
