{
 "cells": [
  {
   "cell_type": "code",
   "execution_count": 1,
   "id": "5c5bc639",
   "metadata": {},
   "outputs": [],
   "source": [
    "import numpy as np\n",
    "import qiskit.pulse as pulse\n",
    "from qiskit_dynamics.pulse.pulse_simulator import PulseSimulator"
   ]
  },
  {
   "cell_type": "code",
   "execution_count": 3,
   "id": "a14145e9",
   "metadata": {},
   "outputs": [],
   "source": [
    "from qiskit_ibm_provider import IBMProvider\n",
    "#IBMProvider.save_account(token='e138ea6b754f60ffd002db17bcfc3aaf8eb7fd35f51c832aa247c8ffa6ca261b9ca3eb487d3a976b631469141fc693fdb6d37284560395483c47b27dec4a5e42')\n",
    "\n",
    "provider = IBMProvider()\n",
    "ibm_backend = provider.get_backend('ibmq_lima')"
   ]
  },
  {
   "cell_type": "code",
   "execution_count": 4,
   "id": "9a0a4231",
   "metadata": {},
   "outputs": [],
   "source": [
    "backend = PulseSimulator.from_backend(ibm_backend, subsystem_list=[0, 1])"
   ]
  },
  {
   "cell_type": "code",
   "execution_count": 5,
   "id": "21282805",
   "metadata": {},
   "outputs": [
    {
     "data": {
      "text/plain": [
       "Result(backend_name='Pulse Simulator of ibmq_lima', backend_version='0.1', qobj_id='', job_id='b57a56ef-6f62-487f-b68d-1914c9b15ea6', success=True, results=[ExperimentResult(shots=0, success=True, meas_level=2, data=ExperimentResultData(unitary=[[ 1.00000000e+00+0.00000000e+00j  0.00000000e+00+0.00000000e+00j\n",
       "   0.00000000e+00+0.00000000e+00j ...  0.00000000e+00+0.00000000e+00j\n",
       "   0.00000000e+00+0.00000000e+00j  0.00000000e+00+0.00000000e+00j]\n",
       " [ 1.00000000e+00+3.05266938e-12j  7.71727140e-07-4.06818693e-06j\n",
       "   3.45267698e-11+3.05566593e-11j ... -1.57033634e-12+1.36744000e-11j\n",
       "  -6.47632805e-18-1.54265430e-16j  4.77184814e-22+3.17358382e-22j]\n",
       " [ 1.00000000e+00+5.59332349e-11j  3.97288011e-06-8.18452302e-06j\n",
       "  -2.16148012e-11-1.05029476e-10j ...  7.73970122e-11+1.54483939e-10j\n",
       "   9.58354088e-16+2.46953333e-15j  2.82936235e-20-6.64772617e-21j]\n",
       " ...\n",
       " [ 7.65068905e-02+4.95191607e-02j  9.37432768e-02-2.76400991e-01j\n",
       "   5.77561417e-03-8.50136233e-03j ...  3.51877809e-02-1.56592302e-03j\n",
       "   3.96514681e-02-5.24227565e-02j  1.60810844e-03-1.91647891e-03j]\n",
       " [ 7.65071482e-02+4.95159721e-02j  9.68024328e-02-2.77249787e-01j\n",
       "   7.72463713e-03-1.87228583e-02j ...  2.24007757e-02+4.38087340e-03j\n",
       "   3.90037315e-02-5.16762748e-02j  1.60770956e-03-1.91686231e-03j]\n",
       " [ 7.65071060e-02+4.95158943e-02j  9.88552116e-02-2.80704158e-01j\n",
       "   8.57962598e-03-8.98024994e-03j ...  3.20517835e-02+1.84648750e-02j\n",
       "   3.76893194e-02-5.17135910e-02j  1.60772263e-03-1.91686475e-03j]]))], date=2022-10-05T10:38:28.770922, status=None, header=None, time_taken=2.87654185295105)"
      ]
     },
     "execution_count": 5,
     "metadata": {},
     "output_type": "execute_result"
    }
   ],
   "source": [
    "from qiskit.pulse import library\n",
    "\n",
    "amp = 1\n",
    "sigma = 10\n",
    "num_samples = 128\n",
    "#%%\n",
    "gauss = pulse.library.Gaussian(num_samples, amp, sigma,\n",
    "                              name=\"Parametric Gauss\")\n",
    "gauss.draw()\n",
    "\n",
    "\n",
    "with pulse.build() as schedule:\n",
    "    pulse.play(gauss, backend.drive_channel(0))\n",
    "    pulse.play(gauss, backend.drive_channel(1))\n",
    "    pulse.play(gauss, backend.control_channel([0,1])[0])\n",
    "    pulse.play(gauss, backend.control_channel([1,0])[0])\n",
    "\n",
    "schedule.draw()\n",
    "y0 = np.zeros(backend.solver.model.dim)\n",
    "y0[0] = 1\n",
    "t_span = np.array([0, num_samples * backend.solver._dt])\n",
    "result = backend.run(schedule, y0=y0, t_span=t_span)\n",
    "#%%\n",
    "result"
   ]
  },
  {
   "cell_type": "code",
   "execution_count": 6,
   "id": "21d35827",
   "metadata": {},
   "outputs": [
    {
     "data": {
      "text/plain": [
       "ExperimentResult(shots=0, success=True, meas_level=2, data=ExperimentResultData(unitary=[[ 1.00000000e+00+0.00000000e+00j  0.00000000e+00+0.00000000e+00j\n",
       "   0.00000000e+00+0.00000000e+00j ...  0.00000000e+00+0.00000000e+00j\n",
       "   0.00000000e+00+0.00000000e+00j  0.00000000e+00+0.00000000e+00j]\n",
       " [ 1.00000000e+00+3.05266938e-12j  7.71727140e-07-4.06818693e-06j\n",
       "   3.45267698e-11+3.05566593e-11j ... -1.57033634e-12+1.36744000e-11j\n",
       "  -6.47632805e-18-1.54265430e-16j  4.77184814e-22+3.17358382e-22j]\n",
       " [ 1.00000000e+00+5.59332349e-11j  3.97288011e-06-8.18452302e-06j\n",
       "  -2.16148012e-11-1.05029476e-10j ...  7.73970122e-11+1.54483939e-10j\n",
       "   9.58354088e-16+2.46953333e-15j  2.82936235e-20-6.64772617e-21j]\n",
       " ...\n",
       " [ 7.65068905e-02+4.95191607e-02j  9.37432768e-02-2.76400991e-01j\n",
       "   5.77561417e-03-8.50136233e-03j ...  3.51877809e-02-1.56592302e-03j\n",
       "   3.96514681e-02-5.24227565e-02j  1.60810844e-03-1.91647891e-03j]\n",
       " [ 7.65071482e-02+4.95159721e-02j  9.68024328e-02-2.77249787e-01j\n",
       "   7.72463713e-03-1.87228583e-02j ...  2.24007757e-02+4.38087340e-03j\n",
       "   3.90037315e-02-5.16762748e-02j  1.60770956e-03-1.91686231e-03j]\n",
       " [ 7.65071060e-02+4.95158943e-02j  9.88552116e-02-2.80704158e-01j\n",
       "   8.57962598e-03-8.98024994e-03j ...  3.20517835e-02+1.84648750e-02j\n",
       "   3.76893194e-02-5.17135910e-02j  1.60772263e-03-1.91686475e-03j]]))"
      ]
     },
     "execution_count": 6,
     "metadata": {},
     "output_type": "execute_result"
    }
   ],
   "source": [
    "result.results[0]"
   ]
  },
  {
   "cell_type": "code",
   "execution_count": 7,
   "id": "46bff1cf",
   "metadata": {},
   "outputs": [
    {
     "data": {
      "text/plain": [
       "['d0', 'd1', 'u0', 'u1', 'u2', 'u3']"
      ]
     },
     "execution_count": 7,
     "metadata": {},
     "output_type": "execute_result"
    }
   ],
   "source": [
    "backend.solver._hamiltonian_channels"
   ]
  },
  {
   "cell_type": "code",
   "execution_count": null,
   "id": "644e256f",
   "metadata": {},
   "outputs": [],
   "source": []
  }
 ],
 "metadata": {
  "kernelspec": {
   "display_name": "Python 3 (ipykernel)",
   "language": "python",
   "name": "python3"
  },
  "language_info": {
   "codemirror_mode": {
    "name": "ipython",
    "version": 3
   },
   "file_extension": ".py",
   "mimetype": "text/x-python",
   "name": "python",
   "nbconvert_exporter": "python",
   "pygments_lexer": "ipython3",
   "version": "3.10.2"
  }
 },
 "nbformat": 4,
 "nbformat_minor": 5
}
