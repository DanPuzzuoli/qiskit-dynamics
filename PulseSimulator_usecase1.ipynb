{
 "cells": [
  {
   "cell_type": "code",
   "execution_count": 1,
   "id": "e9e61cb5",
   "metadata": {},
   "outputs": [],
   "source": [
    "import numpy as np\n",
    "import qiskit.pulse as pulse\n",
    "from qiskit_dynamics.pulse.pulse_simulator import PulseSimulator"
   ]
  },
  {
   "cell_type": "code",
   "execution_count": 3,
   "id": "17fb6166",
   "metadata": {},
   "outputs": [],
   "source": [
    "from qiskit_ibm_provider import IBMProvider\n",
    "IBMProvider.save_account(token='e138ea6b754f60ffd002db17bcfc3aaf8eb7fd35f51c832aa247c8ffa6ca261b9ca3eb487d3a976b631469141fc693fdb6d37284560395483c47b27dec4a5e42')\n",
    "\n",
    "provider = IBMProvider()\n",
    "ibm_backend = provider.get_backend('ibmq_lima')"
   ]
  },
  {
   "cell_type": "code",
   "execution_count": 4,
   "id": "15d24b85",
   "metadata": {},
   "outputs": [],
   "source": [
    "backend = PulseSimulator.from_backend(ibm_backend, subsystem_list=[0, 1])"
   ]
  },
  {
   "cell_type": "code",
   "execution_count": 6,
   "id": "1cbd877a",
   "metadata": {},
   "outputs": [
    {
     "data": {
      "text/plain": [
       "Result(backend_name='Pulse Simulator of ibmq_lima', backend_version='0.1', qobj_id='', job_id='ee01cb54-7192-449f-8cc5-11d80480a7ed', success=True, results=[ExperimentResult(shots=0, success=True, meas_level=2, data=ExperimentResultData(unitary=[[ 1.00000000e+00+0.00000000e+00j  0.00000000e+00+0.00000000e+00j\n",
       "   0.00000000e+00+0.00000000e+00j ...  0.00000000e+00+0.00000000e+00j\n",
       "   0.00000000e+00+0.00000000e+00j  0.00000000e+00+0.00000000e+00j]\n",
       " [ 1.00000000e+00+8.79141144e-11j  3.45553116e-07-2.23076076e-06j\n",
       "  -1.08943547e-11-6.19505481e-12j ... -8.95017233e-11+7.28635785e-11j\n",
       "   4.24068556e-16+5.34674036e-17j -5.40435893e-22+4.55896452e-22j]\n",
       " [ 1.00000000e+00+6.83769793e-10j -8.62070765e-06+6.72835093e-08j\n",
       "   4.73611162e-10+2.41736439e-10j ... -1.55527190e-09+2.89631374e-10j\n",
       "  -5.53689000e-14-7.18999099e-14j -7.66802040e-21+3.47844043e-19j]\n",
       " ...\n",
       " [-8.91258467e-02-4.35349934e-02j -5.47786249e-02+3.23516810e-01j\n",
       "  -6.57250070e-03+2.21032911e-02j ...  2.97134808e-02+1.01438073e-02j\n",
       "   1.63690757e-02-9.79792032e-02j  2.00520607e-03-4.70756124e-03j]\n",
       " [-8.91261672e-02-4.35356240e-02j -5.14412895e-02+3.24159429e-01j\n",
       "  -9.67315097e-03+1.23407149e-02j ...  1.54740418e-02+1.56575742e-02j\n",
       "   1.50751094e-02-9.79852337e-02j  2.00537606e-03-4.70748677e-03j]\n",
       " [-8.91261148e-02-4.35356127e-02j -4.91459727e-02+3.22937546e-01j\n",
       "  -8.62123292e-03+2.20984342e-02j ...  1.89767966e-02+2.72744661e-02j\n",
       "   1.43507848e-02-9.86395003e-02j  2.00538134e-03-4.70746998e-03j]]))], date=2022-10-05T10:29:59.708310, status=None, header=None, time_taken=2.8519999980926514)"
      ]
     },
     "execution_count": 6,
     "metadata": {},
     "output_type": "execute_result"
    }
   ],
   "source": [
    "from qiskit.pulse import library\n",
    "\n",
    "amp = 1\n",
    "sigma = 10\n",
    "num_samples = 128\n",
    "#%%\n",
    "gaus = pulse.library.Gaussian(num_samples, amp, sigma,\n",
    "                              name=\"Parametric Gaus\")\n",
    "gaus.draw()\n",
    "\n",
    "\n",
    "with pulse.build() as schedule:\n",
    "    pulse.play(gaus, backend.drive_channel(0))\n",
    "    pulse.play(gaus, backend.drive_channel(1))\n",
    "    pulse.play(gaus, backend.control_channel([0,1])[0])\n",
    "    pulse.play(gaus, backend.control_channel([1,0])[0])\n",
    "    pulse.play(gaus, backend.control_channel([1,2])[0])\n",
    "    # Below need to fix the bug https://github.com/Qiskit/qiskit-dynamics/issues/127\n",
    "    pulse.play(gaus, backend.control_channel([2,1])[0])\n",
    "    pulse.play(gaus, backend.control_channel([1,3])[0])\n",
    "    pulse.play(gaus, backend.control_channel([3,1])[0])\n",
    "    # pulse.play(gaus, backend.drive_channel(2))\n",
    "    # pulse.play(gaus, backend.drive_channel(3))\n",
    "    # pulse.play(gaus, backend.drive_channel(4))\n",
    "\n",
    "schedule.draw()\n",
    "y0 = np.zeros(backend.solver.model.dim)\n",
    "y0[0] = 1\n",
    "t_span = np.array([0, num_samples * backend.solver._dt])\n",
    "result = backend.run(schedule, y0=y0, t_span=t_span)\n",
    "#%%\n",
    "result"
   ]
  },
  {
   "cell_type": "code",
   "execution_count": 12,
   "id": "2f2527cf",
   "metadata": {},
   "outputs": [
    {
     "data": {
      "text/plain": [
       "ExperimentResult(shots=0, success=True, meas_level=2, data=ExperimentResultData(unitary=[[ 1.00000000e+00+0.00000000e+00j  0.00000000e+00+0.00000000e+00j\n",
       "   0.00000000e+00+0.00000000e+00j ...  0.00000000e+00+0.00000000e+00j\n",
       "   0.00000000e+00+0.00000000e+00j  0.00000000e+00+0.00000000e+00j]\n",
       " [ 1.00000000e+00+8.79141144e-11j  3.45553116e-07-2.23076076e-06j\n",
       "  -1.08943547e-11-6.19505481e-12j ... -8.95017233e-11+7.28635785e-11j\n",
       "   4.24068556e-16+5.34674036e-17j -5.40435893e-22+4.55896452e-22j]\n",
       " [ 1.00000000e+00+6.83769793e-10j -8.62070765e-06+6.72835093e-08j\n",
       "   4.73611162e-10+2.41736439e-10j ... -1.55527190e-09+2.89631374e-10j\n",
       "  -5.53689000e-14-7.18999099e-14j -7.66802040e-21+3.47844043e-19j]\n",
       " ...\n",
       " [-8.91258467e-02-4.35349934e-02j -5.47786249e-02+3.23516810e-01j\n",
       "  -6.57250070e-03+2.21032911e-02j ...  2.97134808e-02+1.01438073e-02j\n",
       "   1.63690757e-02-9.79792032e-02j  2.00520607e-03-4.70756124e-03j]\n",
       " [-8.91261672e-02-4.35356240e-02j -5.14412895e-02+3.24159429e-01j\n",
       "  -9.67315097e-03+1.23407149e-02j ...  1.54740418e-02+1.56575742e-02j\n",
       "   1.50751094e-02-9.79852337e-02j  2.00537606e-03-4.70748677e-03j]\n",
       " [-8.91261148e-02-4.35356127e-02j -4.91459727e-02+3.22937546e-01j\n",
       "  -8.62123292e-03+2.20984342e-02j ...  1.89767966e-02+2.72744661e-02j\n",
       "   1.43507848e-02-9.86395003e-02j  2.00538134e-03-4.70746998e-03j]]))"
      ]
     },
     "execution_count": 12,
     "metadata": {},
     "output_type": "execute_result"
    }
   ],
   "source": [
    "result.results[0]"
   ]
  },
  {
   "cell_type": "code",
   "execution_count": 13,
   "id": "35e8cdff",
   "metadata": {},
   "outputs": [
    {
     "data": {
      "text/plain": [
       "<qiskit_dynamics.solvers.solver_classes.Solver at 0x13ad377f0>"
      ]
     },
     "execution_count": 13,
     "metadata": {},
     "output_type": "execute_result"
    }
   ],
   "source": [
    "backend.solver"
   ]
  },
  {
   "cell_type": "code",
   "execution_count": null,
   "id": "6194b3f5",
   "metadata": {},
   "outputs": [],
   "source": []
  }
 ],
 "metadata": {
  "kernelspec": {
   "display_name": "Python 3 (ipykernel)",
   "language": "python",
   "name": "python3"
  },
  "language_info": {
   "codemirror_mode": {
    "name": "ipython",
    "version": 3
   },
   "file_extension": ".py",
   "mimetype": "text/x-python",
   "name": "python",
   "nbconvert_exporter": "python",
   "pygments_lexer": "ipython3",
   "version": "3.10.2"
  }
 },
 "nbformat": 4,
 "nbformat_minor": 5
}
