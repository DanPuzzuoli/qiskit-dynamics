{
 "cells": [
  {
   "cell_type": "code",
   "execution_count": 1,
   "id": "2a63c11e",
   "metadata": {},
   "outputs": [],
   "source": [
    "import numpy as np\n",
    "import qiskit.pulse as pulse\n",
    "from qiskit_dynamics.pulse.pulse_simulator import PulseSimulator\n",
    "from qiskit_dynamics import Solver\n",
    "\n",
    "# configure jax to use 64 bit mode\n",
    "import jax\n",
    "jax.config.update(\"jax_enable_x64\", True)\n",
    "\n",
    "# tell JAX we are using CPU\n",
    "jax.config.update('jax_platform_name', 'cpu')\n",
    "\n",
    "# import Array and set default backend\n",
    "from qiskit_dynamics.array import Array\n",
    "Array.set_default_backend('jax')"
   ]
  },
  {
   "cell_type": "code",
   "execution_count": 2,
   "id": "4b61c7cf",
   "metadata": {},
   "outputs": [],
   "source": [
    "Z = np.array([[-1., 0.], [0., 1.]])\n",
    "X = np.array([[0., 1.], [1., 0.]])\n",
    "\n",
    "r = 0.1\n",
    "\n",
    "static_ham = 2 * np.pi * 5 * Z / 2\n",
    "drive_op = 2 * np.pi * r * X / 2\n",
    "\n",
    "solver = Solver(\n",
    "    static_hamiltonian=static_ham,\n",
    "    hamiltonian_operators=[drive_op],\n",
    "    hamiltonian_channels=['d0'],\n",
    "    channel_carrier_freqs={'d0': 5.},\n",
    "    dt=0.1,\n",
    "    rotating_frame=static_ham\n",
    ")"
   ]
  },
  {
   "cell_type": "code",
   "execution_count": 3,
   "id": "0d90e4c7",
   "metadata": {},
   "outputs": [],
   "source": [
    "backend = PulseSimulator(solver=solver, subsystem_dims=[2])"
   ]
  },
  {
   "cell_type": "code",
   "execution_count": 12,
   "id": "a19e0364",
   "metadata": {},
   "outputs": [
    {
     "data": {
      "text/plain": [
       "[{'0': 87, '1': 13}]"
      ]
     },
     "execution_count": 12,
     "metadata": {},
     "output_type": "execute_result"
    }
   ],
   "source": [
    "from qiskit.pulse import library\n",
    "\n",
    "amp = 1\n",
    "sigma = 10\n",
    "num_samples = 64\n",
    "#%%\n",
    "gauss = pulse.library.Gaussian(num_samples, amp, sigma,\n",
    "                              name=\"Parametric Gauss\")\n",
    "gauss.draw()\n",
    "\n",
    "\n",
    "with pulse.build() as schedule:\n",
    "    # note: carrier frequency is automatically set to channel_carrier_freq if nothing\n",
    "    # specified in schedule. Is this what we want?\n",
    "    # This is baked into the InstructionToSchedule object. What does it do on the backends?\n",
    "    #pulse.set_frequency(5., pulse.DriveChannel(0))\n",
    "    pulse.play(gauss, pulse.DriveChannel(0))\n",
    "\n",
    "results = backend.run(\n",
    "    schedule, \n",
    "    shots=100, \n",
    "    solver_options={'method': 'jax_odeint', 'atol': 1e-8, 'rtol': 1e-8}\n",
    ")\n",
    "#%%\n",
    "results"
   ]
  },
  {
   "cell_type": "code",
   "execution_count": null,
   "id": "89f16944",
   "metadata": {},
   "outputs": [],
   "source": []
  }
 ],
 "metadata": {
  "kernelspec": {
   "display_name": "Python 3 (ipykernel)",
   "language": "python",
   "name": "python3"
  },
  "language_info": {
   "codemirror_mode": {
    "name": "ipython",
    "version": 3
   },
   "file_extension": ".py",
   "mimetype": "text/x-python",
   "name": "python",
   "nbconvert_exporter": "python",
   "pygments_lexer": "ipython3",
   "version": "3.10.2"
  }
 },
 "nbformat": 4,
 "nbformat_minor": 5
}
