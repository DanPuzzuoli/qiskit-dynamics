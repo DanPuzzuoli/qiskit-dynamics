{
 "cells": [
  {
   "cell_type": "code",
   "execution_count": 1,
   "id": "solar-topic",
   "metadata": {},
   "outputs": [],
   "source": [
    "import numpy as np\n",
    "import jax.numpy as jnp\n",
    "\n",
    "from qiskit_ode.dispatch import Array\n",
    "from qiskit_ode.signals.signals import (Signal, \n",
    "                                            Constant, \n",
    "                                            DiscreteSignal, \n",
    "                                            SignalSum, \n",
    "                                            DiscreteSignalSum,\n",
    "                                            SignalList)"
   ]
  },
  {
   "cell_type": "markdown",
   "id": "nasty-alarm",
   "metadata": {},
   "source": [
    "This demo shows some of the changes/features of the current PR.\n",
    "\n",
    "General notes:\n",
    "- Frequency shift function in signals (preserve signal, but just shift `carrier_freq`)\n",
    "- FFT function (Method of class, or independent function? Return types?)"
   ]
  },
  {
   "cell_type": "markdown",
   "id": "single-kingston",
   "metadata": {},
   "source": [
    "# 1. Method name changes"
   ]
  },
  {
   "cell_type": "code",
   "execution_count": 2,
   "id": "preceding-power",
   "metadata": {},
   "outputs": [],
   "source": [
    "sig1 = Signal(lambda t: t, carrier_freq=0.1)"
   ]
  },
  {
   "cell_type": "markdown",
   "id": "substantial-analyst",
   "metadata": {},
   "source": [
    "`__call__` evalutes the real part:"
   ]
  },
  {
   "cell_type": "code",
   "execution_count": 3,
   "id": "threaded-chase",
   "metadata": {},
   "outputs": [
    {
     "data": {
      "text/plain": [
       "-4.2797543233281905"
      ]
     },
     "execution_count": 3,
     "metadata": {},
     "output_type": "execute_result"
    }
   ],
   "source": [
    "sig1(4.5)"
   ]
  },
  {
   "cell_type": "markdown",
   "id": "statutory-ridge",
   "metadata": {},
   "source": [
    "To evaluate the complex value, the method is now called `complex_value` to be explicit."
   ]
  },
  {
   "cell_type": "code",
   "execution_count": 4,
   "id": "linear-necklace",
   "metadata": {},
   "outputs": [
    {
     "data": {
      "text/plain": [
       "(-4.2797543233281905+1.3905764746872638j)"
      ]
     },
     "execution_count": 4,
     "metadata": {},
     "output_type": "execute_result"
    }
   ],
   "source": [
    "sig1.complex_value(4.5)"
   ]
  },
  {
   "cell_type": "markdown",
   "id": "imperial-bundle",
   "metadata": {},
   "source": [
    "`envelope_value` changed to `envelope`"
   ]
  },
  {
   "cell_type": "code",
   "execution_count": 5,
   "id": "educated-shape",
   "metadata": {},
   "outputs": [
    {
     "data": {
      "text/plain": [
       "4.5"
      ]
     },
     "execution_count": 5,
     "metadata": {},
     "output_type": "execute_result"
    }
   ],
   "source": [
    "sig1.envelope(4.5)"
   ]
  },
  {
   "cell_type": "markdown",
   "id": "arctic-amino",
   "metadata": {},
   "source": [
    "# 2. Vectorized `Signal` evaluation\n",
    "\n",
    "Internally everything is now written to work with arrays of time values. We now assume that the envelope function is vectorized. If not, the user can use `np.vectorize` or `jax.vmap` to vectorize the evaluation.\n",
    "\n",
    "## 2.1 Already vectorized envelopes\n",
    "\n",
    "The envelope we defined for `sig1` is vectorized."
   ]
  },
  {
   "cell_type": "code",
   "execution_count": 6,
   "id": "elegant-essence",
   "metadata": {},
   "outputs": [
    {
     "name": "stdout",
     "output_type": "stream",
     "text": [
      "[ 0.61803399 -0.92705098]\n"
     ]
    }
   ],
   "source": [
    "print(sig1(np.array([2., 3.])))"
   ]
  },
  {
   "cell_type": "code",
   "execution_count": 7,
   "id": "confident-agent",
   "metadata": {},
   "outputs": [
    {
     "name": "stdout",
     "output_type": "stream",
     "text": [
      "[[ 0.80901699  0.61803399 -0.92705098]\n",
      " [-3.23606798 -5.         -4.85410197]]\n"
     ]
    }
   ],
   "source": [
    "print(sig1(np.array([[1., 2., 3.], [4., 5., 6.]])))"
   ]
  },
  {
   "cell_type": "markdown",
   "id": "corporate-italic",
   "metadata": {},
   "source": [
    "## 2.2 Non-vectorized envelopes\n",
    "\n",
    "If a user written function is not vectorized, they can specify that it needs to be vectorized at construction.\n",
    "\n",
    "Note: Force user to vectorize before putting it in."
   ]
  },
  {
   "cell_type": "code",
   "execution_count": 8,
   "id": "accessory-excitement",
   "metadata": {},
   "outputs": [],
   "source": [
    "def nonvectorized_func(t):\n",
    "    if t < 1.:\n",
    "        return t\n",
    "    else:\n",
    "        return 50.\n",
    "\n",
    "vectorized_func = np.vectorize(nonvectorized_func)    \n",
    "\n",
    "sig2 = Signal(vectorized_func, carrier_freq=1.0)"
   ]
  },
  {
   "cell_type": "markdown",
   "id": "multiple-storage",
   "metadata": {},
   "source": [
    "This function is not vectorized, so raises an error when we try to call it on an array:"
   ]
  },
  {
   "cell_type": "code",
   "execution_count": 9,
   "id": "choice-yugoslavia",
   "metadata": {
    "tags": [
     "raises-exception"
    ]
   },
   "outputs": [
    {
     "ename": "ValueError",
     "evalue": "The truth value of an array with more than one element is ambiguous. Use a.any() or a.all()",
     "output_type": "error",
     "traceback": [
      "\u001b[0;31m---------------------------------------------------------------------------\u001b[0m",
      "\u001b[0;31mValueError\u001b[0m                                Traceback (most recent call last)",
      "\u001b[0;32m<ipython-input-9-126e274fdc77>\u001b[0m in \u001b[0;36m<module>\u001b[0;34m\u001b[0m\n\u001b[0;32m----> 1\u001b[0;31m \u001b[0mnonvectorized_func\u001b[0m\u001b[0;34m(\u001b[0m\u001b[0mnp\u001b[0m\u001b[0;34m.\u001b[0m\u001b[0marray\u001b[0m\u001b[0;34m(\u001b[0m\u001b[0;34m[\u001b[0m\u001b[0;36m0.5\u001b[0m\u001b[0;34m,\u001b[0m \u001b[0;36m2.\u001b[0m\u001b[0;34m]\u001b[0m\u001b[0;34m)\u001b[0m\u001b[0;34m)\u001b[0m\u001b[0;34m\u001b[0m\u001b[0;34m\u001b[0m\u001b[0m\n\u001b[0m",
      "\u001b[0;32m<ipython-input-8-a91a6e6fa87e>\u001b[0m in \u001b[0;36mnonvectorized_func\u001b[0;34m(t)\u001b[0m\n\u001b[1;32m      1\u001b[0m \u001b[0;32mdef\u001b[0m \u001b[0mnonvectorized_func\u001b[0m\u001b[0;34m(\u001b[0m\u001b[0mt\u001b[0m\u001b[0;34m)\u001b[0m\u001b[0;34m:\u001b[0m\u001b[0;34m\u001b[0m\u001b[0;34m\u001b[0m\u001b[0m\n\u001b[0;32m----> 2\u001b[0;31m     \u001b[0;32mif\u001b[0m \u001b[0mt\u001b[0m \u001b[0;34m<\u001b[0m \u001b[0;36m1.\u001b[0m\u001b[0;34m:\u001b[0m\u001b[0;34m\u001b[0m\u001b[0;34m\u001b[0m\u001b[0m\n\u001b[0m\u001b[1;32m      3\u001b[0m         \u001b[0;32mreturn\u001b[0m \u001b[0mt\u001b[0m\u001b[0;34m\u001b[0m\u001b[0;34m\u001b[0m\u001b[0m\n\u001b[1;32m      4\u001b[0m     \u001b[0;32melse\u001b[0m\u001b[0;34m:\u001b[0m\u001b[0;34m\u001b[0m\u001b[0;34m\u001b[0m\u001b[0m\n\u001b[1;32m      5\u001b[0m         \u001b[0;32mreturn\u001b[0m \u001b[0;36m50.\u001b[0m\u001b[0;34m\u001b[0m\u001b[0;34m\u001b[0m\u001b[0m\n",
      "\u001b[0;31mValueError\u001b[0m: The truth value of an array with more than one element is ambiguous. Use a.any() or a.all()"
     ]
    }
   ],
   "source": [
    "nonvectorized_func(np.array([0.5, 2.]))"
   ]
  },
  {
   "cell_type": "markdown",
   "id": "integral-percentage",
   "metadata": {},
   "source": [
    "``sig2`` however has internally vectorized the function, so it works on arrays:"
   ]
  },
  {
   "cell_type": "code",
   "execution_count": 10,
   "id": "legitimate-cathedral",
   "metadata": {},
   "outputs": [
    {
     "name": "stdout",
     "output_type": "stream",
     "text": [
      "[ 0.5 50. ]\n",
      "[-0.5 50. ]\n"
     ]
    }
   ],
   "source": [
    "print(sig2.envelope(np.array([0.5, 2.])))\n",
    "print(sig2(np.array([0.5, 2.])))"
   ]
  },
  {
   "cell_type": "markdown",
   "id": "electric-taxation",
   "metadata": {},
   "source": [
    "# 3. Plotting\n",
    "\n",
    "Plotting is now implemented with `draw`. Using the kwarg `function`, the user can choose whether to plot:\n",
    "- The full signal with `function='signal'` (this is the default)\n",
    "- The envelope with `function='envelope'`\n",
    "- The complex value with `function='complex_value'`"
   ]
  },
  {
   "cell_type": "code",
   "execution_count": 11,
   "id": "single-loading",
   "metadata": {},
   "outputs": [
    {
     "data": {
      "image/png": "[encoded data removed]",
      "text/plain": [
       "<Figure size 432x288 with 1 Axes>"
      ]
     },
     "metadata": {
      "needs_background": "light"
     },
     "output_type": "display_data"
    }
   ],
   "source": [
    "sig2.draw(0, 2, 100)"
   ]
  },
  {
   "cell_type": "code",
   "execution_count": 12,
   "id": "compound-recognition",
   "metadata": {},
   "outputs": [
    {
     "data": {
      "image/png": "[encoded data removed]",
      "text/plain": [
       "<Figure size 432x288 with 1 Axes>"
      ]
     },
     "metadata": {
      "needs_background": "light"
     },
     "output_type": "display_data"
    }
   ],
   "source": [
    "sig2.draw(0, 2, 100, function='envelope')"
   ]
  },
  {
   "cell_type": "code",
   "execution_count": 13,
   "id": "wanted-player",
   "metadata": {},
   "outputs": [
    {
     "data": {
      "image/png": "[encoded data removed]",
      "text/plain": [
       "<Figure size 432x288 with 1 Axes>"
      ]
     },
     "metadata": {
      "needs_background": "light"
     },
     "output_type": "display_data"
    }
   ],
   "source": [
    "sig2.draw(0, 2, 100, function='complex_value')"
   ]
  },
  {
   "cell_type": "markdown",
   "id": "further-arthur",
   "metadata": {},
   "source": [
    "# 4. String representation\n",
    "\n",
    "If a name is present, `str` returns the name, otherwise it indicates the carrier frequency and phase.\n",
    "\n",
    "Notes:\n",
    "- Make repr look a bit like the default but a bit more concise"
   ]
  },
  {
   "cell_type": "code",
   "execution_count": 14,
   "id": "loose-hunter",
   "metadata": {},
   "outputs": [
    {
     "data": {
      "text/plain": [
       "'Signal(carrier_freq=1.0, phase=0.0)'"
      ]
     },
     "execution_count": 14,
     "metadata": {},
     "output_type": "execute_result"
    }
   ],
   "source": [
    "str(sig2)"
   ]
  },
  {
   "cell_type": "code",
   "execution_count": 15,
   "id": "differential-brake",
   "metadata": {},
   "outputs": [
    {
     "data": {
      "text/plain": [
       "'new_name'"
      ]
     },
     "execution_count": 15,
     "metadata": {},
     "output_type": "execute_result"
    }
   ],
   "source": [
    "sig2._name = 'new_name'\n",
    "str(sig2)"
   ]
  },
  {
   "cell_type": "markdown",
   "id": "indonesian-nylon",
   "metadata": {},
   "source": [
    "# 5. ``SignalSum``\n",
    "\n",
    "The ``SignalSum`` object represents a sum of signals. It is a subclass of `Signal` (so implements the same interface), but interally stores a list of signals to sum together."
   ]
  },
  {
   "cell_type": "code",
   "execution_count": 16,
   "id": "confidential-cookbook",
   "metadata": {},
   "outputs": [
    {
     "data": {
      "text/plain": [
       "'Signal(carrier_freq=1.0, phase=0.0) + Signal(carrier_freq=2.0, phase=0.0)'"
      ]
     },
     "execution_count": 16,
     "metadata": {},
     "output_type": "execute_result"
    }
   ],
   "source": [
    "sig1 = Signal(lambda t: t + t**2 * 1j, carrier_freq=1.)\n",
    "sig2 = Signal(lambda t: -t, carrier_freq=2.)\n",
    "\n",
    "sig_sum = sig1 + sig2\n",
    "str(sig_sum)"
   ]
  },
  {
   "cell_type": "markdown",
   "id": "interested-highland",
   "metadata": {},
   "source": [
    "Vectorized evaluation works:"
   ]
  },
  {
   "cell_type": "code",
   "execution_count": 17,
   "id": "closing-engagement",
   "metadata": {},
   "outputs": [
    {
     "name": "stdout",
     "output_type": "stream",
     "text": [
      "0.18556453709817283\n",
      "0.18556453709817283\n"
     ]
    }
   ],
   "source": [
    "t = 0.2\n",
    "print(sig_sum(t))\n",
    "print(sig1(t) + sig2(t))"
   ]
  },
  {
   "cell_type": "code",
   "execution_count": 18,
   "id": "civilian-eating",
   "metadata": {},
   "outputs": [
    {
     "name": "stdout",
     "output_type": "stream",
     "text": [
      "[[-0.16122016  0.18556454]\n",
      " [ 7.29457959 23.35883844]]\n",
      "[[-0.16122016  0.18556454]\n",
      " [ 7.29457959 23.35883844]]\n"
     ]
    }
   ],
   "source": [
    "t = np.array([[1.1, 0.2], [4.6, 4.7]])\n",
    "print(sig_sum(t))\n",
    "print(sig1(t) + sig2(t))"
   ]
  },
  {
   "cell_type": "markdown",
   "id": "tracked-european",
   "metadata": {},
   "source": [
    "The envelope function returns an array of the envelopes of each term in the sum:"
   ]
  },
  {
   "cell_type": "code",
   "execution_count": 19,
   "id": "trying-cardiff",
   "metadata": {},
   "outputs": [
    {
     "name": "stdout",
     "output_type": "stream",
     "text": [
      "[ 2.+4.j -2.+0.j]\n",
      "[ 2.+4.j -2.+0.j]\n"
     ]
    }
   ],
   "source": [
    "print(sig_sum.envelope(2.))\n",
    "print(np.array([sig1.envelope(2.), sig2.envelope(2.)]))"
   ]
  },
  {
   "cell_type": "markdown",
   "id": "polish-lease",
   "metadata": {},
   "source": [
    "The `components` attribute stores the list of signals in the sum, which can be accessed via subscripting of the `SignalSum`."
   ]
  },
  {
   "cell_type": "code",
   "execution_count": 20,
   "id": "recognized-warren",
   "metadata": {},
   "outputs": [
    {
     "name": "stdout",
     "output_type": "stream",
     "text": [
      "0.17869853853854856\n",
      "0.17869853853854856\n"
     ]
    }
   ],
   "source": [
    "print(sig_sum[0](1.1))\n",
    "print(sig1(1.1))"
   ]
  },
  {
   "cell_type": "markdown",
   "id": "cardiovascular-announcement",
   "metadata": {},
   "source": [
    "We can still plot:"
   ]
  },
  {
   "cell_type": "code",
   "execution_count": 21,
   "id": "synthetic-brake",
   "metadata": {},
   "outputs": [
    {
     "data": {
      "image/png": "[encoded data removed]",
      "text/plain": [
       "<Figure size 432x288 with 1 Axes>"
      ]
     },
     "metadata": {
      "needs_background": "light"
     },
     "output_type": "display_data"
    }
   ],
   "source": [
    "sig_sum.draw(0, 1, 100)"
   ]
  },
  {
   "cell_type": "code",
   "execution_count": 22,
   "id": "solar-omaha",
   "metadata": {},
   "outputs": [
    {
     "data": {
      "image/png": "[encoded data removed]",
      "text/plain": [
       "<Figure size 432x288 with 1 Axes>"
      ]
     },
     "metadata": {
      "needs_background": "light"
     },
     "output_type": "display_data"
    }
   ],
   "source": [
    "sig_sum.draw(0, 1, 100, function='complex_value')"
   ]
  },
  {
   "cell_type": "markdown",
   "id": "damaged-glossary",
   "metadata": {},
   "source": [
    "Currently plotting of envelope plots all components. Looks kind of cool, though not really sure what to do with this."
   ]
  },
  {
   "cell_type": "code",
   "execution_count": 23,
   "id": "coordinated-biotechnology",
   "metadata": {},
   "outputs": [
    {
     "data": {
      "image/png": "[encoded data removed]",
      "text/plain": [
       "<Figure size 432x288 with 1 Axes>"
      ]
     },
     "metadata": {
      "needs_background": "light"
     },
     "output_type": "display_data"
    }
   ],
   "source": [
    "sig_sum.draw(0, 1, 100, function='envelope')"
   ]
  },
  {
   "cell_type": "markdown",
   "id": "endless-corps",
   "metadata": {},
   "source": [
    "# 6. SignalSum.flatten()\n",
    "\n",
    "This function merges all signals in a `SignalSum` into a single base `Signal`. This will be useful when migrating to using `SignalSum`s, for functionality that assumes a `Signal` as input. "
   ]
  },
  {
   "cell_type": "code",
   "execution_count": 24,
   "id": "periodic-corpus",
   "metadata": {},
   "outputs": [],
   "source": [
    "sig1 = Signal(1., carrier_freq=2.)\n",
    "sig2 = Signal(2., carrier_freq=3.)\n",
    "sig_sum = sig1 + sig2"
   ]
  },
  {
   "cell_type": "markdown",
   "id": "spoken-junior",
   "metadata": {},
   "source": [
    "Collapsing returns a single signal with frequencies averaged."
   ]
  },
  {
   "cell_type": "code",
   "execution_count": 25,
   "id": "demographic-amino",
   "metadata": {},
   "outputs": [
    {
     "data": {
      "text/plain": [
       "qiskit_ode.signals.signals.Signal"
      ]
     },
     "execution_count": 25,
     "metadata": {},
     "output_type": "execute_result"
    }
   ],
   "source": [
    "flat_sig = sig_sum.flatten()\n",
    "type(flat_sig)"
   ]
  },
  {
   "cell_type": "code",
   "execution_count": 26,
   "id": "severe-dover",
   "metadata": {},
   "outputs": [
    {
     "data": {
      "text/plain": [
       "-2.427050983124843"
      ]
     },
     "execution_count": 26,
     "metadata": {},
     "output_type": "execute_result"
    }
   ],
   "source": [
    "flat_sig(1.2)"
   ]
  },
  {
   "cell_type": "code",
   "execution_count": 27,
   "id": "medium-title",
   "metadata": {},
   "outputs": [
    {
     "data": {
      "text/plain": [
       "Array(2.5, backend='numpy')"
      ]
     },
     "execution_count": 27,
     "metadata": {},
     "output_type": "execute_result"
    }
   ],
   "source": [
    "flat_sig.carrier_freq"
   ]
  },
  {
   "cell_type": "markdown",
   "id": "greater-province",
   "metadata": {},
   "source": [
    "# 7. Constant and DiscreteSignal\n",
    "\n",
    "These have remained the same from a user perspective, with minor modifications internally to support vectorized evaluation."
   ]
  },
  {
   "cell_type": "code",
   "execution_count": 28,
   "id": "uniform-japan",
   "metadata": {},
   "outputs": [
    {
     "data": {
      "text/plain": [
       "Array([3., 3.], backend='numpy')"
      ]
     },
     "execution_count": 28,
     "metadata": {},
     "output_type": "execute_result"
    }
   ],
   "source": [
    "const = Constant(3.)\n",
    "const(np.array([1., 1.]))"
   ]
  },
  {
   "cell_type": "code",
   "execution_count": 29,
   "id": "regular-florida",
   "metadata": {},
   "outputs": [
    {
     "data": {
      "text/plain": [
       "array([ 2.85316955, -1.90211303])"
      ]
     },
     "execution_count": 29,
     "metadata": {},
     "output_type": "execute_result"
    }
   ],
   "source": [
    "sig = DiscreteSignal(dt=1., samples=np.array([1., 2., 3.]), carrier_freq=0.5)\n",
    "sig(np.array([2.1, 1.1]))"
   ]
  },
  {
   "cell_type": "markdown",
   "id": "sustainable-tribe",
   "metadata": {},
   "source": [
    "# 8. Multiplication\n",
    "\n",
    "Multiplication is implemented by creating a `SignalSum` giving the right-hand side of:\n",
    "\\begin{equation}\n",
    "    Re[f(t)\\exp(i(\\omega t + \\phi))] \\times Re[g(t) \\exp(i (\\nu t + \\psi))] = Re\\left[\\frac{1}{2}f(t)g(t)\\exp(i((\\omega + \\nu) t + (\\phi + \\psi))\\right] + Re\\left[\\frac{1}{2}f(t)\\overline{g(t)}\\exp(i((\\omega - \\nu) t + (\\phi - \\psi))\\right]\n",
    "\\end{equation}"
   ]
  },
  {
   "cell_type": "code",
   "execution_count": 30,
   "id": "sonic-american",
   "metadata": {},
   "outputs": [],
   "source": [
    "sig_prod = sig1 * sig2"
   ]
  },
  {
   "cell_type": "code",
   "execution_count": 31,
   "id": "pleasant-muslim",
   "metadata": {},
   "outputs": [
    {
     "name": "stdout",
     "output_type": "stream",
     "text": [
      "2.0\n",
      "3.0\n"
     ]
    }
   ],
   "source": [
    "print(sig1.carrier_freq)\n",
    "print(sig2.carrier_freq)"
   ]
  },
  {
   "cell_type": "markdown",
   "id": "eight-drove",
   "metadata": {},
   "source": [
    "`carrier_freq` attribute of a signal sum now returns the array of carrier frequencies for each term in the sum. For the product, we see two freqs, one at the sum and one at the difference of the terms in the product."
   ]
  },
  {
   "cell_type": "code",
   "execution_count": 32,
   "id": "comparable-dividend",
   "metadata": {},
   "outputs": [
    {
     "data": {
      "text/plain": [
       "Array([ 5., -1.], backend='numpy')"
      ]
     },
     "execution_count": 32,
     "metadata": {},
     "output_type": "execute_result"
    }
   ],
   "source": [
    "sig_prod.carrier_freq"
   ]
  },
  {
   "cell_type": "code",
   "execution_count": 33,
   "id": "fabulous-trash",
   "metadata": {},
   "outputs": [
    {
     "data": {
      "text/plain": [
       "-1.609823385706477e-15"
      ]
     },
     "execution_count": 33,
     "metadata": {},
     "output_type": "execute_result"
    }
   ],
   "source": [
    "sig_prod(1.1) - (sig1(1.1) * sig2(1.1))"
   ]
  },
  {
   "cell_type": "code",
   "execution_count": 34,
   "id": "bibliographic-clearing",
   "metadata": {},
   "outputs": [
    {
     "data": {
      "image/png": "[encoded data removed]",
      "text/plain": [
       "<Figure size 432x288 with 1 Axes>"
      ]
     },
     "metadata": {
      "needs_background": "light"
     },
     "output_type": "display_data"
    }
   ],
   "source": [
    "sig_prod.draw(0., 1., 100)"
   ]
  },
  {
   "cell_type": "markdown",
   "id": "outdoor-adolescent",
   "metadata": {},
   "source": [
    "## 8.1 Special multiplication rules"
   ]
  },
  {
   "cell_type": "markdown",
   "id": "boxed-quick",
   "metadata": {},
   "source": [
    "Special rules are internally implemented for multiplication depending on the type of the signals.\n",
    "\n",
    "Constants have their internal values multiplied"
   ]
  },
  {
   "cell_type": "code",
   "execution_count": 35,
   "id": "yellow-popularity",
   "metadata": {},
   "outputs": [
    {
     "data": {
      "text/plain": [
       "'Constant(6.0)'"
      ]
     },
     "execution_count": 35,
     "metadata": {},
     "output_type": "execute_result"
    }
   ],
   "source": [
    "const_prod = Constant(3.) * Constant(2.)\n",
    "str(const_prod)"
   ]
  },
  {
   "cell_type": "markdown",
   "id": "green-chinese",
   "metadata": {},
   "source": [
    "DiscreteSignals with compatible parameters (start time, dt, and number of samples) are implemented via array multiplication."
   ]
  },
  {
   "cell_type": "code",
   "execution_count": 36,
   "id": "acquired-direction",
   "metadata": {},
   "outputs": [
    {
     "data": {
      "text/plain": [
       "'DiscreteSignal(dt=0.1, carrier_freq=3.0, phase=0.0) + DiscreteSignal(dt=0.1, carrier_freq=-1.0, phase=0.0)'"
      ]
     },
     "execution_count": 36,
     "metadata": {},
     "output_type": "execute_result"
    }
   ],
   "source": [
    "pwc_prod = (DiscreteSignal(dt=0.1, samples=np.array([1.,2.,3.]), carrier_freq=1.) *\n",
    "            DiscreteSignal(dt=0.1, samples=np.array([4.,5.,6.]), carrier_freq=2.))\n",
    "str(pwc_prod)"
   ]
  },
  {
   "cell_type": "markdown",
   "id": "boolean-sense",
   "metadata": {},
   "source": [
    "Multiplying a constant by a single signal only returns a single signal (as the constant is gauranteed to have fourier spectrum centred at $0$)."
   ]
  },
  {
   "cell_type": "code",
   "execution_count": 37,
   "id": "figured-warner",
   "metadata": {},
   "outputs": [
    {
     "data": {
      "text/plain": [
       "'Signal(carrier_freq=1.0, phase=0.0)'"
      ]
     },
     "execution_count": 37,
     "metadata": {},
     "output_type": "execute_result"
    }
   ],
   "source": [
    "const_sig_prod = 3. * Signal(lambda t: t, carrier_freq=1.)\n",
    "str(const_sig_prod)"
   ]
  },
  {
   "cell_type": "markdown",
   "id": "random-zambia",
   "metadata": {},
   "source": [
    "For pairs for which special handling doesn't apply, generic Signals are returned."
   ]
  },
  {
   "cell_type": "code",
   "execution_count": 38,
   "id": "declared-reggae",
   "metadata": {},
   "outputs": [
    {
     "name": "stdout",
     "output_type": "stream",
     "text": [
      "Signal(carrier_freq=3.0, phase=0.0) + Signal(carrier_freq=-1.0, phase=0.0)\n"
     ]
    },
    {
     "data": {
      "text/plain": [
       "0.0"
      ]
     },
     "execution_count": 38,
     "metadata": {},
     "output_type": "execute_result"
    }
   ],
   "source": [
    "general_prod = (DiscreteSignal(dt=0.1, samples=np.array([1.,2.,3.]), carrier_freq=1.) *\n",
    "               Signal(envelope=lambda t: t, carrier_freq=2.))\n",
    "print(str(general_prod))\n",
    "general_prod(0.02) - (np.cos(2 * np.pi * 0.02) * 0.02 * np.cos(2 * np.pi * 2. * 0.02))"
   ]
  },
  {
   "cell_type": "markdown",
   "id": "designing-paintball",
   "metadata": {},
   "source": [
    "# 9. DiscreteSignalSum\n",
    "\n",
    "For situations with full-array based signal computation, we have the `DiscreteSignalSum` object, which represents a sum in which all components are `DiscreteSignal` with consistent sample structure: same `dt`, same `start_time`, and same `duration`. This inherits from both `SignalSum` and `DiscreteSignal`. Internally, all signal samples are stored in a single `Array`, and envelope evaluation is done with a single lookup in this array."
   ]
  },
  {
   "cell_type": "code",
   "execution_count": 39,
   "id": "about-young",
   "metadata": {},
   "outputs": [],
   "source": [
    "samples = np.array([[1., 2., 3.], [4, 5., 6.], [7., 8., 9.]])\n",
    "freqs = np.array([1., 2., 3.])\n",
    "dt = 1.\n",
    "\n",
    "sig_sum = DiscreteSignalSum(dt=dt, samples=samples, carrier_freqs=freqs)"
   ]
  },
  {
   "cell_type": "code",
   "execution_count": 40,
   "id": "rough-ordering",
   "metadata": {},
   "outputs": [
    {
     "data": {
      "text/plain": [
       "5.354101966249678"
      ]
     },
     "execution_count": 40,
     "metadata": {},
     "output_type": "execute_result"
    }
   ],
   "source": [
    "sig_sum(2.1)"
   ]
  },
  {
   "cell_type": "code",
   "execution_count": 41,
   "id": "varied-weather",
   "metadata": {},
   "outputs": [
    {
     "data": {
      "text/plain": [
       "1.4999999999999893"
      ]
     },
     "execution_count": 41,
     "metadata": {},
     "output_type": "execute_result"
    }
   ],
   "source": [
    "sig_sum[0](2.1) + sig_sum[1](2.1) + sig_sum[2](2.1)"
   ]
  },
  {
   "cell_type": "code",
   "execution_count": 42,
   "id": "final-friend",
   "metadata": {},
   "outputs": [
    {
     "data": {
      "text/plain": [
       "Array([15.        ,  5.35410197,  5.35410197], backend='numpy')"
      ]
     },
     "execution_count": 42,
     "metadata": {},
     "output_type": "execute_result"
    }
   ],
   "source": [
    "sig_sum(np.array([1., 2.1, 2.9]))"
   ]
  },
  {
   "cell_type": "markdown",
   "id": "catholic-result",
   "metadata": {},
   "source": [
    "If two `DiscreteSignal`s with consistent structure, when added together, will automatically produce a `DiscreteSignalSum`."
   ]
  },
  {
   "cell_type": "code",
   "execution_count": 43,
   "id": "respected-deadline",
   "metadata": {},
   "outputs": [
    {
     "data": {
      "text/plain": [
       "qiskit_ode.signals.signals.DiscreteSignalSum"
      ]
     },
     "execution_count": 43,
     "metadata": {},
     "output_type": "execute_result"
    }
   ],
   "source": [
    "sig1 = DiscreteSignal(dt=0.5, samples=[1., 2., 3., 4.], carrier_freq=3.)\n",
    "sig2 = DiscreteSignal(dt=0.5, samples=[5., 6., 7., 8.], carrier_freq=2.)\n",
    "\n",
    "sig_sum = sig1 + sig2\n",
    "type(sig_sum)"
   ]
  },
  {
   "cell_type": "code",
   "execution_count": 44,
   "id": "acknowledged-capability",
   "metadata": {},
   "outputs": [
    {
     "data": {
      "text/plain": [
       "Array([[1., 5.],\n",
       "       [2., 6.],\n",
       "       [3., 7.],\n",
       "       [4., 8.]], backend='numpy')"
      ]
     },
     "execution_count": 44,
     "metadata": {},
     "output_type": "execute_result"
    }
   ],
   "source": [
    "sig_sum.samples"
   ]
  },
  {
   "cell_type": "code",
   "execution_count": 45,
   "id": "equivalent-karaoke",
   "metadata": {},
   "outputs": [
    {
     "data": {
      "text/plain": [
       "0.0"
      ]
     },
     "execution_count": 45,
     "metadata": {},
     "output_type": "execute_result"
    }
   ],
   "source": [
    "sig_sum(0.1) - (sig1(0.1) + sig2(0.1))"
   ]
  },
  {
   "cell_type": "code",
   "execution_count": 46,
   "id": "acceptable-american",
   "metadata": {
    "scrolled": true
   },
   "outputs": [
    {
     "data": {
      "text/plain": [
       "qiskit_ode.signals.signals.DiscreteSignalSum"
      ]
     },
     "execution_count": 46,
     "metadata": {},
     "output_type": "execute_result"
    }
   ],
   "source": [
    "double_sum = sig_sum + sig_sum\n",
    "type(double_sum)"
   ]
  },
  {
   "cell_type": "code",
   "execution_count": 47,
   "id": "bibliographic-honor",
   "metadata": {
    "scrolled": false
   },
   "outputs": [
    {
     "data": {
      "text/plain": [
       "0.0"
      ]
     },
     "execution_count": 47,
     "metadata": {},
     "output_type": "execute_result"
    }
   ],
   "source": [
    "double_sum(0.1) - 2 * (sig1(0.1) + sig2(0.1))"
   ]
  },
  {
   "cell_type": "markdown",
   "id": "transsexual-complement",
   "metadata": {},
   "source": [
    "# 10. `discretize`\n",
    "\n",
    "The `discretize` function already exists in `Signal`, but we have now added an optional argument for whether to discretize just the envelope, or the whole signal (including the carrier).\n",
    "\n",
    "Notes:\n",
    "- Maybe change name to discretize\n",
    "- Change this to a class method of DiscreteSignal/DiscreteSignal"
   ]
  },
  {
   "cell_type": "code",
   "execution_count": 48,
   "id": "proof-stable",
   "metadata": {},
   "outputs": [],
   "source": [
    "sig = Signal(lambda t: t, carrier_freq=2.)\n",
    "\n",
    "disc1 = DiscreteSignal.from_Signal(sig, dt=0.1, start_time=0., n_samples=10)\n",
    "disc2 = DiscreteSignal.from_Signal(sig, dt=0.1, start_time=0., n_samples=10, sample_carrier=True)"
   ]
  },
  {
   "cell_type": "markdown",
   "id": "ordered-transaction",
   "metadata": {},
   "source": [
    "Comparison with non-discretized carrier:"
   ]
  },
  {
   "cell_type": "code",
   "execution_count": 49,
   "id": "rocky-press",
   "metadata": {},
   "outputs": [
    {
     "data": {
      "image/png": "[encoded data removed]",
      "text/plain": [
       "<Figure size 432x288 with 1 Axes>"
      ]
     },
     "metadata": {
      "needs_background": "light"
     },
     "output_type": "display_data"
    }
   ],
   "source": [
    "sig.draw(0, 1, 100)\n",
    "disc1.draw(0, 1, 100)"
   ]
  },
  {
   "cell_type": "markdown",
   "id": "closing-liverpool",
   "metadata": {},
   "source": [
    "Comparison with discretized carrier:"
   ]
  },
  {
   "cell_type": "code",
   "execution_count": 50,
   "id": "south-quarterly",
   "metadata": {},
   "outputs": [
    {
     "data": {
      "image/png": "[encoded data removed]",
      "text/plain": [
       "<Figure size 432x288 with 1 Axes>"
      ]
     },
     "metadata": {
      "needs_background": "light"
     },
     "output_type": "display_data"
    }
   ],
   "source": [
    "sig.draw(0, 1, 100)\n",
    "disc2.draw(0, 1, 100)"
   ]
  },
  {
   "cell_type": "markdown",
   "id": "weird-facing",
   "metadata": {},
   "source": [
    "For the signal with sampled carrier, the carrier frequency has been set to 0 (all oscillations are now in the samples):"
   ]
  },
  {
   "cell_type": "code",
   "execution_count": 51,
   "id": "broadband-going",
   "metadata": {},
   "outputs": [
    {
     "data": {
      "text/plain": [
       "Array(0., backend='numpy')"
      ]
     },
     "execution_count": 51,
     "metadata": {},
     "output_type": "execute_result"
    }
   ],
   "source": [
    "disc2.carrier_freq"
   ]
  },
  {
   "cell_type": "markdown",
   "id": "chicken-tanzania",
   "metadata": {},
   "source": [
    "## 10.1 `SignalSum.discretize`\n",
    "\n",
    "`SignalSum` also has a `discretize` method that discretize all components uniformly and returns a `DiscreteSignalSum`."
   ]
  },
  {
   "cell_type": "code",
   "execution_count": 52,
   "id": "polyphonic-processor",
   "metadata": {},
   "outputs": [],
   "source": [
    "sig1 = Signal(lambda t: t, carrier_freq=2.)\n",
    "sig2 = Signal(lambda t: 1j * t**2, carrier_freq=3.)\n",
    "sig_sum = sig1 + sig2"
   ]
  },
  {
   "cell_type": "code",
   "execution_count": 53,
   "id": "moving-tobago",
   "metadata": {},
   "outputs": [],
   "source": [
    "disc1 = DiscreteSignalSum.from_SignalSum(sig_sum, dt=0.1, start_time=0., n_samples=10)\n",
    "disc2 = DiscreteSignalSum.from_SignalSum(sig_sum, dt=0.1, start_time=0., n_samples=10, sample_carrier=True)"
   ]
  },
  {
   "cell_type": "code",
   "execution_count": 54,
   "id": "biological-vienna",
   "metadata": {
    "scrolled": true
   },
   "outputs": [
    {
     "data": {
      "image/png": "[encoded data removed]",
      "text/plain": [
       "<Figure size 432x288 with 1 Axes>"
      ]
     },
     "metadata": {
      "needs_background": "light"
     },
     "output_type": "display_data"
    }
   ],
   "source": [
    "sig_sum.draw(0, 1, 100)\n",
    "disc1.draw(0, 1, 100)"
   ]
  },
  {
   "cell_type": "code",
   "execution_count": 55,
   "id": "interesting-spanking",
   "metadata": {},
   "outputs": [
    {
     "data": {
      "image/png": "[encoded data removed]",
      "text/plain": [
       "<Figure size 432x288 with 1 Axes>"
      ]
     },
     "metadata": {
      "needs_background": "light"
     },
     "output_type": "display_data"
    }
   ],
   "source": [
    "sig_sum.draw(0, 1, 100)\n",
    "disc2.draw(0, 1, 100)"
   ]
  },
  {
   "cell_type": "markdown",
   "id": "genetic-tribute",
   "metadata": {},
   "source": [
    "# 11. Example: IQ Mixer via signal algebra\n",
    "\n",
    "Here we implement the operations for modelling an IQ mixer via signal multiplication and addition."
   ]
  },
  {
   "cell_type": "code",
   "execution_count": 56,
   "id": "spoken-american",
   "metadata": {},
   "outputs": [],
   "source": [
    "# define some envelope function\n",
    "def env(t):\n",
    "    return t * (1 - t)\n",
    "\n",
    "w_d = 2.\n",
    "w_lo = 1.9\n",
    "w_if = 0.1\n",
    "\n",
    "I = Signal(env, carrier_freq=w_if, name='I') # envelope times cosine at w_if\n",
    "Q = Signal(env, carrier_freq=w_if, phase=-np.pi/2, name='Q') # envelope times sine at w_if\n",
    "\n",
    "slo_I = Signal(1., carrier_freq=w_lo, name='slo_I') # local oscillator for I\n",
    "slo_Q = Signal(1., carrier_freq=w_lo, phase=-np.pi/2, name='slo_Q') # local oscillator for Q"
   ]
  },
  {
   "cell_type": "markdown",
   "id": "developing-heath",
   "metadata": {},
   "source": [
    "The IQ output is a sum of two products. Hence, it produces a `SignalSum` with 4 outputs."
   ]
  },
  {
   "cell_type": "code",
   "execution_count": 57,
   "id": "generic-force",
   "metadata": {},
   "outputs": [
    {
     "data": {
      "text/plain": [
       "'Signal(carrier_freq=2.0, phase=0.0) + Signal(carrier_freq=-1.7999999999999998, phase=0.0) + Signal(carrier_freq=2.0, phase=-3.141592653589793) + Signal(carrier_freq=-1.7999999999999998, phase=0.0)'"
      ]
     },
     "execution_count": 57,
     "metadata": {},
     "output_type": "execute_result"
    }
   ],
   "source": [
    "IQ_output = (I * slo_I) - (Q * slo_Q)\n",
    "str(IQ_output)"
   ]
  },
  {
   "cell_type": "code",
   "execution_count": 58,
   "id": "liked-profession",
   "metadata": {},
   "outputs": [
    {
     "data": {
      "image/png": "[encoded data removed]",
      "text/plain": [
       "<Figure size 432x288 with 1 Axes>"
      ]
     },
     "metadata": {
      "needs_background": "light"
     },
     "output_type": "display_data"
    }
   ],
   "source": [
    "IQ_output.draw(0, 1, 100)"
   ]
  },
  {
   "cell_type": "markdown",
   "id": "enabling-configuration",
   "metadata": {},
   "source": [
    "The $0^{th}$ and $2^{nd}$ terms in the sum are at frequency `2.0`, which we can plot:"
   ]
  },
  {
   "cell_type": "code",
   "execution_count": 59,
   "id": "mathematical-assurance",
   "metadata": {},
   "outputs": [
    {
     "data": {
      "image/png": "[encoded data removed]",
      "text/plain": [
       "<Figure size 432x288 with 1 Axes>"
      ]
     },
     "metadata": {
      "needs_background": "light"
     },
     "output_type": "display_data"
    }
   ],
   "source": [
    "(IQ_output[0] + IQ_output[2]).draw(0, 1, 100)"
   ]
  },
  {
   "cell_type": "markdown",
   "id": "english-liechtenstein",
   "metadata": {},
   "source": [
    "The $1^{st}$ and $3^{rd}$ terms are at frequency `1.8`:"
   ]
  },
  {
   "cell_type": "code",
   "execution_count": 60,
   "id": "fitting-german",
   "metadata": {},
   "outputs": [
    {
     "data": {
      "image/png": "[encoded data removed]",
      "text/plain": [
       "<Figure size 432x288 with 1 Axes>"
      ]
     },
     "metadata": {
      "needs_background": "light"
     },
     "output_type": "display_data"
    }
   ],
   "source": [
    "(IQ_output[1] + IQ_output[3]).draw(0, 1, 100)"
   ]
  },
  {
   "cell_type": "markdown",
   "id": "alleged-absorption",
   "metadata": {},
   "source": [
    "This demonstrates the cancellation at the lower sideband, with the remaining signal at the upper sideband."
   ]
  },
  {
   "cell_type": "markdown",
   "id": "communist-summary",
   "metadata": {},
   "source": [
    "## 12. Fancy indexing"
   ]
  },
  {
   "cell_type": "code",
   "execution_count": 61,
   "id": "accepted-bishop",
   "metadata": {},
   "outputs": [],
   "source": [
    "sig1 = Constant(2.)\n",
    "sig2 = Signal(lambda t: t, carrier_freq=1.)\n",
    "sig3 = Signal(lambda t: 1j * (t**2), carrier_freq=2.)\n",
    "\n",
    "sig_sum = sig1 + sig2 + sig3"
   ]
  },
  {
   "cell_type": "markdown",
   "id": "utility-trading",
   "metadata": {},
   "source": [
    "We can index as usual:"
   ]
  },
  {
   "cell_type": "code",
   "execution_count": 62,
   "id": "single-carpet",
   "metadata": {},
   "outputs": [
    {
     "data": {
      "text/plain": [
       "<qiskit_ode.signals.signals.Signal at 0x7fcec87309d0>"
      ]
     },
     "execution_count": 62,
     "metadata": {},
     "output_type": "execute_result"
    }
   ],
   "source": [
    "sig_sum[2]"
   ]
  },
  {
   "cell_type": "markdown",
   "id": "apparent-biotechnology",
   "metadata": {},
   "source": [
    "We can slice:"
   ]
  },
  {
   "cell_type": "code",
   "execution_count": 63,
   "id": "mexican-beast",
   "metadata": {
    "scrolled": true
   },
   "outputs": [
    {
     "data": {
      "text/plain": [
       "qiskit_ode.signals.signals.SignalSum"
      ]
     },
     "execution_count": 63,
     "metadata": {},
     "output_type": "execute_result"
    }
   ],
   "source": [
    "sig_sum_01 = sig_sum[0:2]\n",
    "type(sig_sum_01)"
   ]
  },
  {
   "cell_type": "code",
   "execution_count": 64,
   "id": "equal-attachment",
   "metadata": {},
   "outputs": [
    {
     "data": {
      "text/plain": [
       "numpy.float64"
      ]
     },
     "execution_count": 64,
     "metadata": {},
     "output_type": "execute_result"
    }
   ],
   "source": [
    "type(np.array([1., 2., 3.])[0])"
   ]
  },
  {
   "cell_type": "markdown",
   "id": "sustained-forestry",
   "metadata": {},
   "source": [
    "Access via list:"
   ]
  },
  {
   "cell_type": "code",
   "execution_count": 65,
   "id": "manufactured-purple",
   "metadata": {},
   "outputs": [],
   "source": [
    "sig_sum_01 = sig_sum[[0, 1]]"
   ]
  },
  {
   "cell_type": "code",
   "execution_count": 66,
   "id": "dried-boards",
   "metadata": {},
   "outputs": [
    {
     "data": {
      "text/plain": [
       "0.0"
      ]
     },
     "execution_count": 66,
     "metadata": {},
     "output_type": "execute_result"
    }
   ],
   "source": [
    "sig_sum_01(0.1) - (sig1(0.1) + sig2(0.1))"
   ]
  },
  {
   "cell_type": "markdown",
   "id": "organic-british",
   "metadata": {},
   "source": [
    "Access via numpy array:"
   ]
  },
  {
   "cell_type": "code",
   "execution_count": 67,
   "id": "invisible-granny",
   "metadata": {},
   "outputs": [
    {
     "data": {
      "text/plain": [
       "0.0"
      ]
     },
     "execution_count": 67,
     "metadata": {},
     "output_type": "execute_result"
    }
   ],
   "source": [
    "sig_sum_01 = sig_sum[np.array([1, 2])]\n",
    "sig_sum_01(0.1) - (sig2(0.1) + sig3(0.1))"
   ]
  },
  {
   "cell_type": "markdown",
   "id": "conscious-throat",
   "metadata": {},
   "source": [
    "## 13. `SignalList`\n",
    "\n",
    "Finally, we need to update/replace `VectorSignal` to work with `SignalSum`s and vectorized operations.\n",
    "\n",
    "Currently `VectorSignal` assumes that each component is a base `Signal` (i.e. a single term with a single carrier freq and phase). Ideally we could expand this to represent a list of `SignalSum`s, but it's a bit awkward as each `SignalSum` may be a different length (so it is unclear how to vectorize evaluation of frequency/phases across all signals at once). \n",
    "\n",
    "I don't know what the best thing is here, but for now I've written a very small `SignalList` class that stores/evaluates a list of `SignalSum` components. At the very least there should be a `DiscreteSignal` variant of `SignalList`/`VectorSignal` for fully array-based evaluation.\n",
    "\n",
    "Notes:\n",
    "- Algebraic operations should be like numpy broadcasting - e.g. multiplicatino can do a list $\\times$ single signal, or list $\\times$ list, and similar for addition\n",
    "- Plotting can be like envelope plotting in `SignalSum`"
   ]
  },
  {
   "cell_type": "code",
   "execution_count": 68,
   "id": "banned-fantasy",
   "metadata": {},
   "outputs": [],
   "source": [
    "sig1 = Signal(lambda t: t, carrier_freq=2.)\n",
    "sig2 = Signal(lambda t: 1j * t**2, carrier_freq=3.)\n",
    "sig_list = SignalList([sig1, sig2])"
   ]
  },
  {
   "cell_type": "markdown",
   "id": "polyphonic-standard",
   "metadata": {},
   "source": [
    "Vectorized evaluation"
   ]
  },
  {
   "cell_type": "code",
   "execution_count": 69,
   "id": "broke-appointment",
   "metadata": {},
   "outputs": [
    {
     "data": {
      "text/plain": [
       "Array([[ 0.33991869, -1.15077838],\n",
       "       [-0.97082039,  0.84641076]], backend='numpy')"
      ]
     },
     "execution_count": 69,
     "metadata": {},
     "output_type": "execute_result"
    }
   ],
   "source": [
    "sig_list(np.array([1.1, 1.2]))"
   ]
  },
  {
   "cell_type": "code",
   "execution_count": 70,
   "id": "regular-frequency",
   "metadata": {},
   "outputs": [
    {
     "data": {
      "text/plain": [
       "array([ 0.33991869, -0.97082039])"
      ]
     },
     "execution_count": 70,
     "metadata": {},
     "output_type": "execute_result"
    }
   ],
   "source": [
    "sig1(np.array([1.1, 1.2]))"
   ]
  },
  {
   "cell_type": "code",
   "execution_count": 71,
   "id": "arabic-signature",
   "metadata": {},
   "outputs": [
    {
     "data": {
      "text/plain": [
       "array([-1.15077838,  0.84641076])"
      ]
     },
     "execution_count": 71,
     "metadata": {},
     "output_type": "execute_result"
    }
   ],
   "source": [
    "sig2(np.array([1.1, 1.2]))"
   ]
  },
  {
   "cell_type": "code",
   "execution_count": 72,
   "id": "rental-origin",
   "metadata": {},
   "outputs": [
    {
     "data": {
      "text/plain": [
       "array([2., 3.])"
      ]
     },
     "execution_count": 72,
     "metadata": {},
     "output_type": "execute_result"
    }
   ],
   "source": [
    "np.array([1., 2., 3.])[[1, 2]]"
   ]
  },
  {
   "cell_type": "markdown",
   "id": "emotional-criminal",
   "metadata": {},
   "source": [
    "The attribute/property `drift` returns the constant part of a `SignalList`."
   ]
  },
  {
   "cell_type": "code",
   "execution_count": 73,
   "id": "rocky-field",
   "metadata": {},
   "outputs": [
    {
     "data": {
      "text/plain": [
       "Array([3., 0.], backend='numpy')"
      ]
     },
     "execution_count": 73,
     "metadata": {},
     "output_type": "execute_result"
    }
   ],
   "source": [
    "sig_list = SignalList([Constant(3.) + Signal(lambda t: t, carrier_freq=3.), Signal(lambda t: 2*t, carrier_freq=1.)])\n",
    "sig_list.drift"
   ]
  },
  {
   "cell_type": "code",
   "execution_count": null,
   "id": "present-ireland",
   "metadata": {},
   "outputs": [],
   "source": []
  }
 ],
 "metadata": {
  "kernelspec": {
   "display_name": "Python 3",
   "language": "python",
   "name": "python3"
  },
  "language_info": {
   "codemirror_mode": {
    "name": "ipython",
    "version": 3
   },
   "file_extension": ".py",
   "mimetype": "text/x-python",
   "name": "python",
   "nbconvert_exporter": "python",
   "pygments_lexer": "ipython3",
   "version": "3.8.5"
  }
 },
 "nbformat": 4,
 "nbformat_minor": 5
}
