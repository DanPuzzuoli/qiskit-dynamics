{
 "cells": [
  {
   "cell_type": "code",
   "execution_count": 1,
   "metadata": {},
   "outputs": [],
   "source": [
    "from matplotlib import pyplot as plt\n",
    "import numpy as np\n",
    "from qiskit.quantum_info.operators import Operator\n",
    "from qiskit_ode import solve_lmde\n",
    "from qiskit_ode.signals import Signal\n",
    "from qiskit_ode.models import HamiltonianModel"
   ]
  },
  {
   "cell_type": "markdown",
   "metadata": {},
   "source": [
    "# In this demo\n",
    "\n",
    "We show how `qiskit_ode` can be used with the `jax` backend to perform transformations like just-in-time compiling and gradient computation."
   ]
  },
  {
   "cell_type": "code",
   "execution_count": 2,
   "metadata": {},
   "outputs": [],
   "source": [
    "from qiskit_ode import dispatch\n",
    "from qiskit_ode.dispatch import Array\n",
    "from jax import config\n",
    "import jax\n",
    "\n",
    "jit = dispatch.wrap(jax.jit, decorator=True)\n",
    "grad = dispatch.wrap(jax.grad, decorator=True)\n",
    "\n",
    "config.update(\"jax_enable_x64\", True)\n",
    "\n",
    "dispatch.set_default_backend('jax')\n",
    "\n",
    "def gaussian(amp, sig, t0, t):\n",
    "    # Note: to enforce using the jax backend for the computation of the gaussian, wrap the\n",
    "    # input to the numpy function in an Array\n",
    "    return amp * np.exp( -Array((t - t0)**2 / (2 * sig**2)))"
   ]
  },
  {
   "cell_type": "markdown",
   "metadata": {},
   "source": [
    "# 1. `jit`: Just-in-time compiling a parameterized simulation\n",
    "\n",
    "Here we show we can speed up a parameterized simulation through just-in-time compiling. This is useful in situations such as:\n",
    "- Simulating a variety of pulses in a parameterized family\n",
    "- Simulating a system over a range of model parameters\n",
    "\n",
    "One way to do this is the following. First, construct a model with just operators."
   ]
  },
  {
   "cell_type": "code",
   "execution_count": 3,
   "metadata": {},
   "outputs": [
    {
     "name": "stderr",
     "output_type": "stream",
     "text": [
      "WARNING:absl:No GPU/TPU found, falling back to CPU. (Set TF_CPP_MIN_LOG_LEVEL=0 and rerun for more info.)\n"
     ]
    }
   ],
   "source": [
    "#####################\n",
    "# construct operators\n",
    "#####################\n",
    "r = 0.5\n",
    "w = 1.\n",
    "X = Operator.from_label('X')\n",
    "Y = Operator.from_label('Y')\n",
    "Z = Operator.from_label('Z')\n",
    "\n",
    "operators = [2 * np.pi * w * Z/2, \n",
    "             2 * np.pi * r * X/2]\n",
    "\n",
    "#####################################\n",
    "# construct model with just operators\n",
    "#####################################\n",
    "\n",
    "hamiltonian = HamiltonianModel(operators=operators)"
   ]
  },
  {
   "cell_type": "markdown",
   "metadata": {},
   "source": [
    "Next, define a function which takes the simulation input parameters and outputs the results. In this case, we parameterize a gaussian drive pulse, set it into the model, then solve and return the results.\n",
    "\n",
    "*Important note*:\n",
    "- When applying `jax` transformations, it is important to ensure the function is _pure_, i.e. it has no side effects. As we need to set the signals into the model, to keep the function pure we first make a copy.\n",
    "\n",
    "Additional note:\n",
    "- The `solve` function will automatically use the `scipy` solver. To make the full function jax compatible, we must specify a jax solver. Here `jax_odeint` is the equivalent of the `DOP853` algorithm in `scipy`."
   ]
  },
  {
   "cell_type": "code",
   "execution_count": 4,
   "metadata": {},
   "outputs": [],
   "source": [
    "def sim_function(amp, sig):\n",
    "    \n",
    "    # define signals from parameters\n",
    "    t0 = 3.5*sig\n",
    "    T = 7*sig\n",
    "    gaussian_envelope = lambda t: gaussian(amp, sig, t0, t)\n",
    "    signals = [1., \n",
    "               Signal(envelope=gaussian_envelope, carrier_freq=w)]\n",
    "    \n",
    "    # make copy and set signals\n",
    "    ham_copy = hamiltonian.copy()\n",
    "    ham_copy.signals = signals\n",
    "    ham_copy.frame = ham_copy.drift\n",
    "    \n",
    "    # simulate and return results\n",
    "    # setting user_frame tells solve that states should be specified and returned in the frame\n",
    "    # of the drift\n",
    "    results = solve_lmde(ham_copy, y0=np.array([0., 1.], dtype=complex), t_span=[0,T], \n",
    "                         method='jax_odeint', atol=1e-10, rtol=1e-10)\n",
    "    return results.y[-1]\n",
    "\n",
    "# default parameters for doing a pi pulse\n",
    "amp = 1.\n",
    "sig = 0.399128/r\n",
    "    "
   ]
  },
  {
   "cell_type": "markdown",
   "metadata": {},
   "source": [
    "Next, compile the function by calling `jax.jit`."
   ]
  },
  {
   "cell_type": "code",
   "execution_count": 5,
   "metadata": {},
   "outputs": [],
   "source": [
    "fast_sim = jit(sim_function)"
   ]
  },
  {
   "cell_type": "markdown",
   "metadata": {},
   "source": [
    "Run the simulation once.\n",
    "\n",
    "Note: the function is only compiled when it is called for the first time. Hence, the first call is slower due to this overhead."
   ]
  },
  {
   "cell_type": "code",
   "execution_count": 6,
   "metadata": {},
   "outputs": [
    {
     "name": "stdout",
     "output_type": "stream",
     "text": [
      "CPU times: user 1.08 s, sys: 17.1 ms, total: 1.1 s\n",
      "Wall time: 1.1 s\n"
     ]
    },
    {
     "data": {
      "text/plain": [
       "Array([3.72961061e-04+0.02743404j, 9.98634213e-01-0.04446282j])"
      ]
     },
     "execution_count": 6,
     "metadata": {},
     "output_type": "execute_result"
    }
   ],
   "source": [
    "%time fast_sim(2*amp, 2*sig).block_until_ready()"
   ]
  },
  {
   "cell_type": "markdown",
   "metadata": {},
   "source": [
    "Call a second time:"
   ]
  },
  {
   "cell_type": "code",
   "execution_count": 7,
   "metadata": {},
   "outputs": [
    {
     "name": "stdout",
     "output_type": "stream",
     "text": [
      "CPU times: user 942 µs, sys: 592 µs, total: 1.53 ms\n",
      "Wall time: 613 µs\n"
     ]
    },
    {
     "data": {
      "text/plain": [
       "Array([6.68013795e-06-0.99861417j, 2.09958256e-03+0.05258639j])"
      ]
     },
     "execution_count": 7,
     "metadata": {},
     "output_type": "execute_result"
    }
   ],
   "source": [
    "%time fast_sim(amp, sig).block_until_ready()"
   ]
  },
  {
   "cell_type": "markdown",
   "metadata": {},
   "source": [
    "For speed comparison, the same simulation using the `numpy` backend and the corresponding `scipy` solver takes about `200ms`. Hence, the compiled simulation is almost 2 orders of magnitude faster."
   ]
  },
  {
   "cell_type": "markdown",
   "metadata": {},
   "source": [
    "# 2. Automatic differentiation\n",
    "\n",
    "In addition to compilation, `jax` has a variety of function transformations for taking derivatives of functions. The most basic such function is `jax.grad`, which transforms a real scalar-valued function into one that computes its gradient.\n",
    "\n",
    "To demonstrate this, we modify the simulation function into one that outputs the excited state population (to convert it into something with a real/scalar output)."
   ]
  },
  {
   "cell_type": "code",
   "execution_count": 8,
   "metadata": {},
   "outputs": [
    {
     "data": {
      "text/plain": [
       "Array(0.99723026)"
      ]
     },
     "execution_count": 8,
     "metadata": {},
     "output_type": "execute_result"
    }
   ],
   "source": [
    "def excited_state_pop(amp):\n",
    "    yf = sim_function(amp, sig)\n",
    "    return np.abs(Array(yf[0]))**2\n",
    "    \n",
    "\n",
    "excited_state_pop(amp)"
   ]
  },
  {
   "cell_type": "markdown",
   "metadata": {},
   "source": [
    "Next, take the gradient. Here, we also compile the gradient."
   ]
  },
  {
   "cell_type": "code",
   "execution_count": 9,
   "metadata": {},
   "outputs": [],
   "source": [
    "excited_state_grad = jit(grad(excited_state_pop))"
   ]
  },
  {
   "cell_type": "code",
   "execution_count": 10,
   "metadata": {},
   "outputs": [
    {
     "name": "stdout",
     "output_type": "stream",
     "text": [
      "CPU times: user 2.84 s, sys: 41.2 ms, total: 2.89 s\n",
      "Wall time: 2.88 s\n"
     ]
    },
    {
     "data": {
      "text/plain": [
       "Array(-0.03250497)"
      ]
     },
     "execution_count": 10,
     "metadata": {},
     "output_type": "execute_result"
    }
   ],
   "source": [
    "%time excited_state_grad(2 * amp).block_until_ready()"
   ]
  },
  {
   "cell_type": "code",
   "execution_count": 11,
   "metadata": {},
   "outputs": [
    {
     "name": "stdout",
     "output_type": "stream",
     "text": [
      "CPU times: user 1.97 ms, sys: 788 µs, total: 2.76 ms\n",
      "Wall time: 1.52 ms\n"
     ]
    },
    {
     "data": {
      "text/plain": [
       "Array(-0.00128185)"
      ]
     },
     "execution_count": 11,
     "metadata": {},
     "output_type": "execute_result"
    }
   ],
   "source": [
    "%time excited_state_grad(amp).block_until_ready()"
   ]
  },
  {
   "cell_type": "markdown",
   "metadata": {},
   "source": [
    "Note: the derivative at the default `amp` value is near $0$ as the parameters used are near a $\\pi$-pulse, and as such near a maximum of the population function."
   ]
  },
  {
   "cell_type": "markdown",
   "metadata": {},
   "source": [
    "# 3. State tracking\n",
    "\n",
    "Our wrapper for the `jax` integrators also supports the `t_eval` argument in the style of `scipy`'s `solve_ivp`. We can use this argument to view the state of the solution over an interval.\n",
    "\n",
    "Note: if `t_eval` is included, both `t_span` and `t_eval` will be handled with pure numpy, and so compilation will treat `t_span` as a static parameter."
   ]
  },
  {
   "cell_type": "code",
   "execution_count": 12,
   "metadata": {},
   "outputs": [],
   "source": [
    "def sim_function(amp):\n",
    "    \n",
    "    # define signals from parameters\n",
    "    sig = 0.399128/r\n",
    "    t0 = 3.5*sig\n",
    "    T = 7*sig\n",
    "    gaussian_envelope = lambda t: gaussian(amp, sig, t0, t)\n",
    "    signals = [1., \n",
    "               Signal(envelope=gaussian_envelope, carrier_freq=w)]\n",
    "    \n",
    "    # make copy and set signals\n",
    "    ham_copy = hamiltonian.copy()\n",
    "    ham_copy.signals = signals\n",
    "    ham_copy.frame = ham_copy.drift\n",
    "    \n",
    "    # simulate and return results\n",
    "    # setting user_frame tells solve that states should be specified and returned in the frame\n",
    "    # of the drift\n",
    "    results = solve_lmde(ham_copy, y0=np.array([0., 1.], dtype=complex), t_span=[0,T], \n",
    "                         t_eval=np.linspace(0, T, 100), method='jax_odeint', atol=1e-10, rtol=1e-10)\n",
    "    return results.y.data"
   ]
  },
  {
   "cell_type": "code",
   "execution_count": 13,
   "metadata": {},
   "outputs": [],
   "source": [
    "jitted = jit(sim_function)"
   ]
  },
  {
   "cell_type": "code",
   "execution_count": 14,
   "metadata": {},
   "outputs": [
    {
     "data": {
      "image/png": "[encoded data removed]",
      "text/plain": [
       "<Figure size 432x288 with 1 Axes>"
      ]
     },
     "metadata": {
      "needs_background": "light"
     },
     "output_type": "display_data"
    }
   ],
   "source": [
    "T = 7 * 0.399128 / r\n",
    "\n",
    "for amp in np.linspace(0, 1, 10):\n",
    "    ys = jitted(amp)\n",
    "    plt.plot(np.linspace(0, T, 100), np.real(np.abs(ys[:, 0])**2-np.abs(ys[:, 1])**2))"
   ]
  },
  {
   "cell_type": "markdown",
   "metadata": {},
   "source": [
    "In the above oscillatory behaviour is due to the RWA not being entirely accurate in this system."
   ]
  },
  {
   "cell_type": "code",
   "execution_count": null,
   "metadata": {},
   "outputs": [],
   "source": []
  }
 ],
 "metadata": {
  "kernelspec": {
   "display_name": "Python 3",
   "language": "python",
   "name": "python3"
  },
  "language_info": {
   "codemirror_mode": {
    "name": "ipython",
    "version": 3
   },
   "file_extension": ".py",
   "mimetype": "text/x-python",
   "name": "python",
   "nbconvert_exporter": "python",
   "pygments_lexer": "ipython3",
   "version": "3.8.5"
  }
 },
 "nbformat": 4,
 "nbformat_minor": 4
}
