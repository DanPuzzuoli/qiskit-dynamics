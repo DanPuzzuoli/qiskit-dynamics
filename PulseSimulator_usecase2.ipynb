{
 "cells": [
  {
   "cell_type": "code",
   "execution_count": 1,
   "id": "2a63c11e",
   "metadata": {},
   "outputs": [],
   "source": [
    "import numpy as np\n",
    "import qiskit.pulse as pulse\n",
    "from qiskit_dynamics.pulse.pulse_simulator import PulseSimulator"
   ]
  },
  {
   "cell_type": "code",
   "execution_count": 2,
   "id": "70efaa18",
   "metadata": {},
   "outputs": [
    {
     "data": {
      "text/plain": [
       "True"
      ]
     },
     "execution_count": 2,
     "metadata": {},
     "output_type": "execute_result"
    }
   ],
   "source": [
    "# this gets us V2 backends\n",
    "from qiskit_ibm_provider import IBMProvider\n",
    "#IBMProvider.save_account(token='e138ea6b754f60ffd002db17bcfc3aaf8eb7fd35f51c832aa247c8ffa6ca261b9ca3eb487d3a976b631469141fc693fdb6d37284560395483c47b27dec4a5e42')\n",
    "\n",
    "provider = IBMProvider()\n",
    "ibm_backend = provider.get_backend('ibmq_lima')\n",
    "\n",
    "from qiskit.providers.backend import BackendV2\n",
    "isinstance(ibm_backend, BackendV2)"
   ]
  },
  {
   "cell_type": "code",
   "execution_count": 3,
   "id": "0d90e4c7",
   "metadata": {},
   "outputs": [],
   "source": [
    "backend = PulseSimulator.from_backend(ibm_backend, subsystem_list=[0, 1])"
   ]
  },
  {
   "cell_type": "code",
   "execution_count": 4,
   "id": "a19e0364",
   "metadata": {},
   "outputs": [
    {
     "data": {
      "text/plain": [
       "Result(backend_name='Pulse Simulator of ibmq_lima', backend_version='0.1', qobj_id='', job_id='', success=True, results=[ExperimentResult(shots=0, success=True, meas_level=2, data=ExperimentResultData(unitary=[[ 1.00000000e+00+0.00000000e+00j  0.00000000e+00+0.00000000e+00j\n",
       "   0.00000000e+00+0.00000000e+00j ...  0.00000000e+00+0.00000000e+00j\n",
       "   0.00000000e+00+0.00000000e+00j  0.00000000e+00+0.00000000e+00j]\n",
       " [ 1.00000000e+00+1.11200898e-11j  7.76571910e-07-1.38821384e-06j\n",
       "  -3.68859586e-11-1.16395108e-11j ... -1.15648134e-11-4.92083579e-11j\n",
       "  -2.23361331e-16+2.89313954e-16j  1.30579145e-22-8.63726630e-22j]\n",
       " [ 1.00000000e+00+1.27145837e-10j -7.10282616e-07-2.30438137e-06j\n",
       "  -1.79431785e-10+7.72985221e-11j ...  1.33392100e-11-1.98562396e-10j\n",
       "   7.07262055e-16+1.07276245e-15j  9.83342785e-21+2.89424477e-20j]\n",
       " ...\n",
       " [ 7.10872883e-02+4.88502892e-02j  9.35876027e-02-2.67664300e-01j\n",
       "   6.91343085e-03-8.24361207e-03j ...  3.49236167e-02-1.30597163e-03j\n",
       "   4.19228823e-02-5.31923150e-02j  1.67256584e-03-2.00522577e-03j]\n",
       " [ 7.10869759e-02+4.88473223e-02j  9.63807401e-02-2.68408608e-01j\n",
       "   9.04515859e-03-1.83531020e-02j ...  2.27438481e-02+4.30800029e-03j\n",
       "   4.12538834e-02-5.24900348e-02j  1.67226392e-03-2.00566580e-03j]\n",
       " [ 7.10870364e-02+4.88473319e-02j  9.85019945e-02-2.71841079e-01j\n",
       "   9.37378003e-03-8.78202023e-03j ...  3.23641962e-02+1.89863682e-02j\n",
       "   3.98383739e-02-5.25835337e-02j  1.67225073e-03-2.00567939e-03j]]))], date=2022-10-11T08:19:41.923716, status=None, header=None, time_taken=2.9437990188598633)"
      ]
     },
     "execution_count": 4,
     "metadata": {},
     "output_type": "execute_result"
    }
   ],
   "source": [
    "from qiskit.pulse import library\n",
    "\n",
    "amp = 1\n",
    "sigma = 10\n",
    "num_samples = 128\n",
    "#%%\n",
    "gauss = pulse.library.Gaussian(num_samples, amp, sigma,\n",
    "                              name=\"Parametric Gauss\")\n",
    "gauss.draw()\n",
    "\n",
    "\n",
    "with pulse.build() as schedule:\n",
    "    pulse.play(gauss, backend.drive_channel(0))\n",
    "    pulse.play(gauss, backend.drive_channel(1))\n",
    "    pulse.play(gauss, backend.control_channel([0,1])[0])\n",
    "    pulse.play(gauss, backend.control_channel([1,0])[0])\n",
    "\n",
    "schedule.draw()\n",
    "y0 = np.zeros(backend.solver.model.dim)\n",
    "y0[0] = 1\n",
    "t_span = np.array([0, num_samples * backend.solver._dt])\n",
    "result = backend.run(schedule, y0=y0, t_span=t_span)\n",
    "#%%\n",
    "result"
   ]
  },
  {
   "cell_type": "code",
   "execution_count": 5,
   "id": "5ad28230",
   "metadata": {},
   "outputs": [
    {
     "data": {
      "text/plain": [
       "['d0', 'd1', 'u0', 'u1', 'u2', 'u3']"
      ]
     },
     "execution_count": 5,
     "metadata": {},
     "output_type": "execute_result"
    }
   ],
   "source": [
    "backend.solver._hamiltonian_channels"
   ]
  },
  {
   "cell_type": "code",
   "execution_count": 7,
   "id": "290627a1",
   "metadata": {},
   "outputs": [],
   "source": [
    "from qiskit_dynamics import Solver\n",
    "import numpy as np"
   ]
  },
  {
   "cell_type": "code",
   "execution_count": 22,
   "id": "213fd97f",
   "metadata": {},
   "outputs": [],
   "source": [
    "Z = np.array([[1., 0.], [0., -1.]])\n",
    "X = np.array([[0., 1.], [1., 0.]])\n",
    "\n",
    "test_solver = Solver(\n",
    "    static_hamiltonian=2 * X + 3 * Z,\n",
    "    hamiltonian_operators=[X],\n",
    "    rotating_frame=Z + X\n",
    ")"
   ]
  },
  {
   "cell_type": "code",
   "execution_count": 23,
   "id": "6f2bf98d",
   "metadata": {},
   "outputs": [
    {
     "data": {
      "text/plain": [
       "Array([[ 2.+0.j,  1.+0.j],\n",
       "       [ 1.+0.j, -2.+0.j]], backend='numpy')"
      ]
     },
     "execution_count": 23,
     "metadata": {},
     "output_type": "execute_result"
    }
   ],
   "source": [
    "test_solver.model.static_operator"
   ]
  },
  {
   "cell_type": "code",
   "execution_count": 24,
   "id": "48400e00",
   "metadata": {},
   "outputs": [
    {
     "data": {
      "text/plain": [
       "Array([[[ 2.96506192e-17+0.j,  1.00000000e+00+0.j],\n",
       "        [ 1.00000000e+00+0.j, -7.71461485e-17+0.j]]], backend='numpy')"
      ]
     },
     "execution_count": 24,
     "metadata": {},
     "output_type": "execute_result"
    }
   ],
   "source": [
    "test_solver.model.operators"
   ]
  },
  {
   "cell_type": "code",
   "execution_count": null,
   "id": "81c5ed9d",
   "metadata": {},
   "outputs": [],
   "source": []
  }
 ],
 "metadata": {
  "kernelspec": {
   "display_name": "Python 3 (ipykernel)",
   "language": "python",
   "name": "python3"
  },
  "language_info": {
   "codemirror_mode": {
    "name": "ipython",
    "version": 3
   },
   "file_extension": ".py",
   "mimetype": "text/x-python",
   "name": "python",
   "nbconvert_exporter": "python",
   "pygments_lexer": "ipython3",
   "version": "3.10.2"
  }
 },
 "nbformat": 4,
 "nbformat_minor": 5
}
